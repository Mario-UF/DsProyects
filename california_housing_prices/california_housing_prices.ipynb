{
 "cells": [
  {
   "cell_type": "markdown",
   "id": "54b1423c",
   "metadata": {},
   "source": [
    "# California Housing Prices predictor\n",
    "\n",
    "In this proyect we are aiming to predict the median house values in Californian districts, given a certain number of features from these districts."
   ]
  },
  {
   "cell_type": "code",
   "execution_count": 2,
   "id": "eb2ba595",
   "metadata": {},
   "outputs": [],
   "source": [
    "import numpy as np\n",
    "import pandas as pd\n",
    "import matplotlib.pyplot as plt\n",
    "import seaborn as sns\n",
    "%matplotlib inline"
   ]
  },
  {
   "cell_type": "markdown",
   "id": "32cbe71b",
   "metadata": {},
   "source": [
    "# Get and Split the Data"
   ]
  },
  {
   "cell_type": "code",
   "execution_count": 3,
   "id": "17215641",
   "metadata": {},
   "outputs": [],
   "source": [
    "housing = pd.read_csv('housing.csv')"
   ]
  },
  {
   "cell_type": "code",
   "execution_count": 4,
   "id": "24cad04a",
   "metadata": {},
   "outputs": [
    {
     "data": {
      "text/html": [
       "<div>\n",
       "<style scoped>\n",
       "    .dataframe tbody tr th:only-of-type {\n",
       "        vertical-align: middle;\n",
       "    }\n",
       "\n",
       "    .dataframe tbody tr th {\n",
       "        vertical-align: top;\n",
       "    }\n",
       "\n",
       "    .dataframe thead th {\n",
       "        text-align: right;\n",
       "    }\n",
       "</style>\n",
       "<table border=\"1\" class=\"dataframe\">\n",
       "  <thead>\n",
       "    <tr style=\"text-align: right;\">\n",
       "      <th></th>\n",
       "      <th>longitude</th>\n",
       "      <th>latitude</th>\n",
       "      <th>housing_median_age</th>\n",
       "      <th>total_rooms</th>\n",
       "      <th>total_bedrooms</th>\n",
       "      <th>population</th>\n",
       "      <th>households</th>\n",
       "      <th>median_income</th>\n",
       "      <th>median_house_value</th>\n",
       "      <th>ocean_proximity</th>\n",
       "    </tr>\n",
       "  </thead>\n",
       "  <tbody>\n",
       "    <tr>\n",
       "      <th>0</th>\n",
       "      <td>-122.23</td>\n",
       "      <td>37.88</td>\n",
       "      <td>41.0</td>\n",
       "      <td>880.0</td>\n",
       "      <td>129.0</td>\n",
       "      <td>322.0</td>\n",
       "      <td>126.0</td>\n",
       "      <td>8.3252</td>\n",
       "      <td>452600.0</td>\n",
       "      <td>NEAR BAY</td>\n",
       "    </tr>\n",
       "    <tr>\n",
       "      <th>1</th>\n",
       "      <td>-122.22</td>\n",
       "      <td>37.86</td>\n",
       "      <td>21.0</td>\n",
       "      <td>7099.0</td>\n",
       "      <td>1106.0</td>\n",
       "      <td>2401.0</td>\n",
       "      <td>1138.0</td>\n",
       "      <td>8.3014</td>\n",
       "      <td>358500.0</td>\n",
       "      <td>NEAR BAY</td>\n",
       "    </tr>\n",
       "    <tr>\n",
       "      <th>2</th>\n",
       "      <td>-122.24</td>\n",
       "      <td>37.85</td>\n",
       "      <td>52.0</td>\n",
       "      <td>1467.0</td>\n",
       "      <td>190.0</td>\n",
       "      <td>496.0</td>\n",
       "      <td>177.0</td>\n",
       "      <td>7.2574</td>\n",
       "      <td>352100.0</td>\n",
       "      <td>NEAR BAY</td>\n",
       "    </tr>\n",
       "    <tr>\n",
       "      <th>3</th>\n",
       "      <td>-122.25</td>\n",
       "      <td>37.85</td>\n",
       "      <td>52.0</td>\n",
       "      <td>1274.0</td>\n",
       "      <td>235.0</td>\n",
       "      <td>558.0</td>\n",
       "      <td>219.0</td>\n",
       "      <td>5.6431</td>\n",
       "      <td>341300.0</td>\n",
       "      <td>NEAR BAY</td>\n",
       "    </tr>\n",
       "    <tr>\n",
       "      <th>4</th>\n",
       "      <td>-122.25</td>\n",
       "      <td>37.85</td>\n",
       "      <td>52.0</td>\n",
       "      <td>1627.0</td>\n",
       "      <td>280.0</td>\n",
       "      <td>565.0</td>\n",
       "      <td>259.0</td>\n",
       "      <td>3.8462</td>\n",
       "      <td>342200.0</td>\n",
       "      <td>NEAR BAY</td>\n",
       "    </tr>\n",
       "  </tbody>\n",
       "</table>\n",
       "</div>"
      ],
      "text/plain": [
       "   longitude  latitude  housing_median_age  total_rooms  total_bedrooms  \\\n",
       "0    -122.23     37.88                41.0        880.0           129.0   \n",
       "1    -122.22     37.86                21.0       7099.0          1106.0   \n",
       "2    -122.24     37.85                52.0       1467.0           190.0   \n",
       "3    -122.25     37.85                52.0       1274.0           235.0   \n",
       "4    -122.25     37.85                52.0       1627.0           280.0   \n",
       "\n",
       "   population  households  median_income  median_house_value ocean_proximity  \n",
       "0       322.0       126.0         8.3252            452600.0        NEAR BAY  \n",
       "1      2401.0      1138.0         8.3014            358500.0        NEAR BAY  \n",
       "2       496.0       177.0         7.2574            352100.0        NEAR BAY  \n",
       "3       558.0       219.0         5.6431            341300.0        NEAR BAY  \n",
       "4       565.0       259.0         3.8462            342200.0        NEAR BAY  "
      ]
     },
     "execution_count": 4,
     "metadata": {},
     "output_type": "execute_result"
    }
   ],
   "source": [
    "housing.head()"
   ]
  },
  {
   "cell_type": "code",
   "execution_count": 5,
   "id": "4cbc7a8c",
   "metadata": {},
   "outputs": [
    {
     "name": "stdout",
     "output_type": "stream",
     "text": [
      "<class 'pandas.core.frame.DataFrame'>\n",
      "RangeIndex: 20640 entries, 0 to 20639\n",
      "Data columns (total 10 columns):\n",
      " #   Column              Non-Null Count  Dtype  \n",
      "---  ------              --------------  -----  \n",
      " 0   longitude           20640 non-null  float64\n",
      " 1   latitude            20640 non-null  float64\n",
      " 2   housing_median_age  20640 non-null  float64\n",
      " 3   total_rooms         20640 non-null  float64\n",
      " 4   total_bedrooms      20433 non-null  float64\n",
      " 5   population          20640 non-null  float64\n",
      " 6   households          20640 non-null  float64\n",
      " 7   median_income       20640 non-null  float64\n",
      " 8   median_house_value  20640 non-null  float64\n",
      " 9   ocean_proximity     20640 non-null  object \n",
      "dtypes: float64(9), object(1)\n",
      "memory usage: 1.6+ MB\n"
     ]
    }
   ],
   "source": [
    "housing.info()"
   ]
  },
  {
   "cell_type": "code",
   "execution_count": 6,
   "id": "06419d22",
   "metadata": {
    "scrolled": true
   },
   "outputs": [
    {
     "data": {
      "text/html": [
       "<div>\n",
       "<style scoped>\n",
       "    .dataframe tbody tr th:only-of-type {\n",
       "        vertical-align: middle;\n",
       "    }\n",
       "\n",
       "    .dataframe tbody tr th {\n",
       "        vertical-align: top;\n",
       "    }\n",
       "\n",
       "    .dataframe thead th {\n",
       "        text-align: right;\n",
       "    }\n",
       "</style>\n",
       "<table border=\"1\" class=\"dataframe\">\n",
       "  <thead>\n",
       "    <tr style=\"text-align: right;\">\n",
       "      <th></th>\n",
       "      <th>longitude</th>\n",
       "      <th>latitude</th>\n",
       "      <th>housing_median_age</th>\n",
       "      <th>total_rooms</th>\n",
       "      <th>total_bedrooms</th>\n",
       "      <th>population</th>\n",
       "      <th>households</th>\n",
       "      <th>median_income</th>\n",
       "      <th>median_house_value</th>\n",
       "    </tr>\n",
       "  </thead>\n",
       "  <tbody>\n",
       "    <tr>\n",
       "      <th>count</th>\n",
       "      <td>20640.000000</td>\n",
       "      <td>20640.000000</td>\n",
       "      <td>20640.000000</td>\n",
       "      <td>20640.000000</td>\n",
       "      <td>20433.000000</td>\n",
       "      <td>20640.000000</td>\n",
       "      <td>20640.000000</td>\n",
       "      <td>20640.000000</td>\n",
       "      <td>20640.000000</td>\n",
       "    </tr>\n",
       "    <tr>\n",
       "      <th>mean</th>\n",
       "      <td>-119.569704</td>\n",
       "      <td>35.631861</td>\n",
       "      <td>28.639486</td>\n",
       "      <td>2635.763081</td>\n",
       "      <td>537.870553</td>\n",
       "      <td>1425.476744</td>\n",
       "      <td>499.539680</td>\n",
       "      <td>3.870671</td>\n",
       "      <td>206855.816909</td>\n",
       "    </tr>\n",
       "    <tr>\n",
       "      <th>std</th>\n",
       "      <td>2.003532</td>\n",
       "      <td>2.135952</td>\n",
       "      <td>12.585558</td>\n",
       "      <td>2181.615252</td>\n",
       "      <td>421.385070</td>\n",
       "      <td>1132.462122</td>\n",
       "      <td>382.329753</td>\n",
       "      <td>1.899822</td>\n",
       "      <td>115395.615874</td>\n",
       "    </tr>\n",
       "    <tr>\n",
       "      <th>min</th>\n",
       "      <td>-124.350000</td>\n",
       "      <td>32.540000</td>\n",
       "      <td>1.000000</td>\n",
       "      <td>2.000000</td>\n",
       "      <td>1.000000</td>\n",
       "      <td>3.000000</td>\n",
       "      <td>1.000000</td>\n",
       "      <td>0.499900</td>\n",
       "      <td>14999.000000</td>\n",
       "    </tr>\n",
       "    <tr>\n",
       "      <th>25%</th>\n",
       "      <td>-121.800000</td>\n",
       "      <td>33.930000</td>\n",
       "      <td>18.000000</td>\n",
       "      <td>1447.750000</td>\n",
       "      <td>296.000000</td>\n",
       "      <td>787.000000</td>\n",
       "      <td>280.000000</td>\n",
       "      <td>2.563400</td>\n",
       "      <td>119600.000000</td>\n",
       "    </tr>\n",
       "    <tr>\n",
       "      <th>50%</th>\n",
       "      <td>-118.490000</td>\n",
       "      <td>34.260000</td>\n",
       "      <td>29.000000</td>\n",
       "      <td>2127.000000</td>\n",
       "      <td>435.000000</td>\n",
       "      <td>1166.000000</td>\n",
       "      <td>409.000000</td>\n",
       "      <td>3.534800</td>\n",
       "      <td>179700.000000</td>\n",
       "    </tr>\n",
       "    <tr>\n",
       "      <th>75%</th>\n",
       "      <td>-118.010000</td>\n",
       "      <td>37.710000</td>\n",
       "      <td>37.000000</td>\n",
       "      <td>3148.000000</td>\n",
       "      <td>647.000000</td>\n",
       "      <td>1725.000000</td>\n",
       "      <td>605.000000</td>\n",
       "      <td>4.743250</td>\n",
       "      <td>264725.000000</td>\n",
       "    </tr>\n",
       "    <tr>\n",
       "      <th>max</th>\n",
       "      <td>-114.310000</td>\n",
       "      <td>41.950000</td>\n",
       "      <td>52.000000</td>\n",
       "      <td>39320.000000</td>\n",
       "      <td>6445.000000</td>\n",
       "      <td>35682.000000</td>\n",
       "      <td>6082.000000</td>\n",
       "      <td>15.000100</td>\n",
       "      <td>500001.000000</td>\n",
       "    </tr>\n",
       "  </tbody>\n",
       "</table>\n",
       "</div>"
      ],
      "text/plain": [
       "          longitude      latitude  housing_median_age   total_rooms  \\\n",
       "count  20640.000000  20640.000000        20640.000000  20640.000000   \n",
       "mean    -119.569704     35.631861           28.639486   2635.763081   \n",
       "std        2.003532      2.135952           12.585558   2181.615252   \n",
       "min     -124.350000     32.540000            1.000000      2.000000   \n",
       "25%     -121.800000     33.930000           18.000000   1447.750000   \n",
       "50%     -118.490000     34.260000           29.000000   2127.000000   \n",
       "75%     -118.010000     37.710000           37.000000   3148.000000   \n",
       "max     -114.310000     41.950000           52.000000  39320.000000   \n",
       "\n",
       "       total_bedrooms    population    households  median_income  \\\n",
       "count    20433.000000  20640.000000  20640.000000   20640.000000   \n",
       "mean       537.870553   1425.476744    499.539680       3.870671   \n",
       "std        421.385070   1132.462122    382.329753       1.899822   \n",
       "min          1.000000      3.000000      1.000000       0.499900   \n",
       "25%        296.000000    787.000000    280.000000       2.563400   \n",
       "50%        435.000000   1166.000000    409.000000       3.534800   \n",
       "75%        647.000000   1725.000000    605.000000       4.743250   \n",
       "max       6445.000000  35682.000000   6082.000000      15.000100   \n",
       "\n",
       "       median_house_value  \n",
       "count        20640.000000  \n",
       "mean        206855.816909  \n",
       "std         115395.615874  \n",
       "min          14999.000000  \n",
       "25%         119600.000000  \n",
       "50%         179700.000000  \n",
       "75%         264725.000000  \n",
       "max         500001.000000  "
      ]
     },
     "execution_count": 6,
     "metadata": {},
     "output_type": "execute_result"
    }
   ],
   "source": [
    "housing.describe()"
   ]
  },
  {
   "cell_type": "code",
   "execution_count": 7,
   "id": "a647f704",
   "metadata": {
    "scrolled": true
   },
   "outputs": [],
   "source": [
    "#sns.pairplot(data=housing)"
   ]
  },
  {
   "cell_type": "code",
   "execution_count": 8,
   "id": "a14c1435",
   "metadata": {
    "scrolled": true
   },
   "outputs": [
    {
     "data": {
      "image/png": "[encoded data removed]",
      "text/plain": [
       "<Figure size 1080x864 with 9 Axes>"
      ]
     },
     "metadata": {
      "needs_background": "light"
     },
     "output_type": "display_data"
    }
   ],
   "source": [
    "housing.hist(figsize=(15,12),bins=30);"
   ]
  },
  {
   "cell_type": "code",
   "execution_count": 9,
   "id": "ff256e2f",
   "metadata": {},
   "outputs": [],
   "source": [
    "from sklearn.model_selection import train_test_split"
   ]
  },
  {
   "cell_type": "code",
   "execution_count": 10,
   "id": "ecd3327b",
   "metadata": {},
   "outputs": [],
   "source": [
    "X_train, X_test, y_train, y_test = train_test_split(housing.drop('median_income',axis=1), housing['median_income'], test_size=0.2, random_state=42)"
   ]
  },
  {
   "cell_type": "code",
   "execution_count": 11,
   "id": "c90c67dc",
   "metadata": {},
   "outputs": [
    {
     "data": {
      "text/plain": [
       "<AxesSubplot:>"
      ]
     },
     "execution_count": 11,
     "metadata": {},
     "output_type": "execute_result"
    },
    {
     "data": {
      "image/png": "[encoded data removed]",
      "text/plain": [
       "<Figure size 432x288 with 1 Axes>"
      ]
     },
     "metadata": {
      "needs_background": "light"
     },
     "output_type": "display_data"
    }
   ],
   "source": [
    "housing['income_cat']=pd.cut(housing['median_income'],bins=[0,1.5,3,4.5,6,np.inf],labels=[1, 2, 3, 4, 5])\n",
    "housing['income_cat'].hist()\n",
    "#pd.cut(housing['median_income'],bins=[0,1.5,3,4.5,6,np.inf]).value_counts().sort_index().plot.bar()"
   ]
  },
  {
   "cell_type": "code",
   "execution_count": 12,
   "id": "494eb0b8",
   "metadata": {
    "scrolled": true
   },
   "outputs": [],
   "source": [
    "from sklearn.model_selection import StratifiedShuffleSplit"
   ]
  },
  {
   "cell_type": "code",
   "execution_count": 13,
   "id": "6d17dbf4",
   "metadata": {},
   "outputs": [],
   "source": [
    "data_split = StratifiedShuffleSplit(n_splits=1,test_size=0.2, random_state=42)"
   ]
  },
  {
   "cell_type": "code",
   "execution_count": 14,
   "id": "0598f90a",
   "metadata": {},
   "outputs": [],
   "source": [
    "for train_index, test_index in data_split.split(housing, housing['income_cat']):\n",
    "    strat_train = housing.loc[train_index]\n",
    "    strat_test = housing.loc[test_index]"
   ]
  },
  {
   "cell_type": "code",
   "execution_count": 15,
   "id": "0240a466",
   "metadata": {},
   "outputs": [
    {
     "data": {
      "text/plain": [
       "3    0.350594\n",
       "2    0.318859\n",
       "4    0.176296\n",
       "5    0.114402\n",
       "1    0.039850\n",
       "Name: income_cat, dtype: float64"
      ]
     },
     "execution_count": 15,
     "metadata": {},
     "output_type": "execute_result"
    }
   ],
   "source": [
    "strat_train['income_cat'].value_counts()/len(strat_train)"
   ]
  },
  {
   "cell_type": "code",
   "execution_count": 16,
   "id": "97edb906",
   "metadata": {
    "scrolled": true
   },
   "outputs": [
    {
     "data": {
      "text/plain": [
       "3    0.350533\n",
       "2    0.318798\n",
       "4    0.176357\n",
       "5    0.114583\n",
       "1    0.039729\n",
       "Name: income_cat, dtype: float64"
      ]
     },
     "execution_count": 16,
     "metadata": {},
     "output_type": "execute_result"
    }
   ],
   "source": [
    "strat_test['income_cat'].value_counts()/len(strat_test)"
   ]
  },
  {
   "cell_type": "code",
   "execution_count": 17,
   "id": "6ea7605d",
   "metadata": {
    "scrolled": false
   },
   "outputs": [
    {
     "data": {
      "text/plain": [
       "3    0.350581\n",
       "2    0.318847\n",
       "4    0.176308\n",
       "5    0.114438\n",
       "1    0.039826\n",
       "Name: income_cat, dtype: float64"
      ]
     },
     "execution_count": 17,
     "metadata": {},
     "output_type": "execute_result"
    }
   ],
   "source": [
    "housing['income_cat'].value_counts()/len(housing)"
   ]
  },
  {
   "cell_type": "code",
   "execution_count": 18,
   "id": "9422246d",
   "metadata": {},
   "outputs": [],
   "source": [
    "strat_train.drop('income_cat',axis=1, inplace=True)\n",
    "strat_test.drop('income_cat',axis=1, inplace=True)"
   ]
  },
  {
   "cell_type": "markdown",
   "id": "8bade14e",
   "metadata": {},
   "source": [
    "# EDA"
   ]
  },
  {
   "cell_type": "code",
   "execution_count": 19,
   "id": "c770ba34",
   "metadata": {},
   "outputs": [],
   "source": [
    "housing_tr = strat_train.copy()"
   ]
  },
  {
   "cell_type": "code",
   "execution_count": 19,
   "id": "93a67790",
   "metadata": {},
   "outputs": [
    {
     "data": {
      "text/plain": [
       "<AxesSubplot:xlabel='longitude', ylabel='latitude'>"
      ]
     },
     "execution_count": 19,
     "metadata": {},
     "output_type": "execute_result"
    },
    {
     "data": {
      "image/png": "[encoded data removed]",
      "text/plain": [
       "<Figure size 864x720 with 1 Axes>"
      ]
     },
     "metadata": {
      "needs_background": "light"
     },
     "output_type": "display_data"
    }
   ],
   "source": [
    "plt.figure(figsize=(12,10))\n",
    "sns.scatterplot(data=housing_tr, x='longitude',y='latitude',alpha=0.5,hue='median_house_value'\n",
    "                ,size=housing_tr['population'],sizes=(10,500),palette=plt.get_cmap(\"jet\"))"
   ]
  },
  {
   "cell_type": "code",
   "execution_count": 20,
   "id": "c94e179c",
   "metadata": {},
   "outputs": [
    {
     "data": {
      "text/plain": [
       "<AxesSubplot:>"
      ]
     },
     "execution_count": 20,
     "metadata": {},
     "output_type": "execute_result"
    },
    {
     "data": {
      "image/png": "[encoded data removed]",
      "text/plain": [
       "<Figure size 576x360 with 2 Axes>"
      ]
     },
     "metadata": {
      "needs_background": "light"
     },
     "output_type": "display_data"
    }
   ],
   "source": [
    "plt.figure(figsize=(8,5))\n",
    "sns.heatmap(housing_tr.corr(),annot=True,center=0,cmap='magma')"
   ]
  },
  {
   "cell_type": "code",
   "execution_count": 21,
   "id": "3f5a1df6",
   "metadata": {},
   "outputs": [
    {
     "data": {
      "text/plain": [
       "<seaborn.axisgrid.FacetGrid at 0x1802be73c70>"
      ]
     },
     "execution_count": 21,
     "metadata": {},
     "output_type": "execute_result"
    },
    {
     "data": {
      "image/png": "[encoded data removed]",
      "text/plain": [
       "<Figure size 360x360 with 1 Axes>"
      ]
     },
     "metadata": {
      "needs_background": "light"
     },
     "output_type": "display_data"
    }
   ],
   "source": [
    "sns.lmplot(data=housing_tr,x='median_income',y='median_house_value'\n",
    "           ,scatter_kws={'alpha':0.15},line_kws={'color':'r'})"
   ]
  },
  {
   "cell_type": "code",
   "execution_count": 22,
   "id": "71081689",
   "metadata": {},
   "outputs": [],
   "source": [
    "housing_tr['rooms_per_household']=housing_tr['total_rooms']/housing_tr['households']\n",
    "housing_tr['bedrooms_per_room']=housing_tr['total_bedrooms']/housing_tr['total_rooms']\n",
    "housing_tr['population_per_household']=housing_tr['population']/housing_tr['households']"
   ]
  },
  {
   "cell_type": "code",
   "execution_count": 23,
   "id": "3365af31",
   "metadata": {
    "scrolled": true
   },
   "outputs": [
    {
     "data": {
      "text/html": [
       "<div>\n",
       "<style scoped>\n",
       "    .dataframe tbody tr th:only-of-type {\n",
       "        vertical-align: middle;\n",
       "    }\n",
       "\n",
       "    .dataframe tbody tr th {\n",
       "        vertical-align: top;\n",
       "    }\n",
       "\n",
       "    .dataframe thead th {\n",
       "        text-align: right;\n",
       "    }\n",
       "</style>\n",
       "<table border=\"1\" class=\"dataframe\">\n",
       "  <thead>\n",
       "    <tr style=\"text-align: right;\">\n",
       "      <th></th>\n",
       "      <th>longitude</th>\n",
       "      <th>latitude</th>\n",
       "      <th>housing_median_age</th>\n",
       "      <th>total_rooms</th>\n",
       "      <th>total_bedrooms</th>\n",
       "      <th>population</th>\n",
       "      <th>households</th>\n",
       "      <th>median_income</th>\n",
       "      <th>median_house_value</th>\n",
       "      <th>ocean_proximity</th>\n",
       "      <th>income_cat</th>\n",
       "    </tr>\n",
       "  </thead>\n",
       "  <tbody>\n",
       "    <tr>\n",
       "      <th>0</th>\n",
       "      <td>-122.23</td>\n",
       "      <td>37.88</td>\n",
       "      <td>41.0</td>\n",
       "      <td>880.0</td>\n",
       "      <td>129.0</td>\n",
       "      <td>322.0</td>\n",
       "      <td>126.0</td>\n",
       "      <td>8.3252</td>\n",
       "      <td>452600.0</td>\n",
       "      <td>NEAR BAY</td>\n",
       "      <td>5</td>\n",
       "    </tr>\n",
       "    <tr>\n",
       "      <th>1</th>\n",
       "      <td>-122.22</td>\n",
       "      <td>37.86</td>\n",
       "      <td>21.0</td>\n",
       "      <td>7099.0</td>\n",
       "      <td>1106.0</td>\n",
       "      <td>2401.0</td>\n",
       "      <td>1138.0</td>\n",
       "      <td>8.3014</td>\n",
       "      <td>358500.0</td>\n",
       "      <td>NEAR BAY</td>\n",
       "      <td>5</td>\n",
       "    </tr>\n",
       "    <tr>\n",
       "      <th>2</th>\n",
       "      <td>-122.24</td>\n",
       "      <td>37.85</td>\n",
       "      <td>52.0</td>\n",
       "      <td>1467.0</td>\n",
       "      <td>190.0</td>\n",
       "      <td>496.0</td>\n",
       "      <td>177.0</td>\n",
       "      <td>7.2574</td>\n",
       "      <td>352100.0</td>\n",
       "      <td>NEAR BAY</td>\n",
       "      <td>5</td>\n",
       "    </tr>\n",
       "    <tr>\n",
       "      <th>3</th>\n",
       "      <td>-122.25</td>\n",
       "      <td>37.85</td>\n",
       "      <td>52.0</td>\n",
       "      <td>1274.0</td>\n",
       "      <td>235.0</td>\n",
       "      <td>558.0</td>\n",
       "      <td>219.0</td>\n",
       "      <td>5.6431</td>\n",
       "      <td>341300.0</td>\n",
       "      <td>NEAR BAY</td>\n",
       "      <td>4</td>\n",
       "    </tr>\n",
       "    <tr>\n",
       "      <th>4</th>\n",
       "      <td>-122.25</td>\n",
       "      <td>37.85</td>\n",
       "      <td>52.0</td>\n",
       "      <td>1627.0</td>\n",
       "      <td>280.0</td>\n",
       "      <td>565.0</td>\n",
       "      <td>259.0</td>\n",
       "      <td>3.8462</td>\n",
       "      <td>342200.0</td>\n",
       "      <td>NEAR BAY</td>\n",
       "      <td>3</td>\n",
       "    </tr>\n",
       "  </tbody>\n",
       "</table>\n",
       "</div>"
      ],
      "text/plain": [
       "   longitude  latitude  housing_median_age  total_rooms  total_bedrooms  \\\n",
       "0    -122.23     37.88                41.0        880.0           129.0   \n",
       "1    -122.22     37.86                21.0       7099.0          1106.0   \n",
       "2    -122.24     37.85                52.0       1467.0           190.0   \n",
       "3    -122.25     37.85                52.0       1274.0           235.0   \n",
       "4    -122.25     37.85                52.0       1627.0           280.0   \n",
       "\n",
       "   population  households  median_income  median_house_value ocean_proximity  \\\n",
       "0       322.0       126.0         8.3252            452600.0        NEAR BAY   \n",
       "1      2401.0      1138.0         8.3014            358500.0        NEAR BAY   \n",
       "2       496.0       177.0         7.2574            352100.0        NEAR BAY   \n",
       "3       558.0       219.0         5.6431            341300.0        NEAR BAY   \n",
       "4       565.0       259.0         3.8462            342200.0        NEAR BAY   \n",
       "\n",
       "  income_cat  \n",
       "0          5  \n",
       "1          5  \n",
       "2          5  \n",
       "3          4  \n",
       "4          3  "
      ]
     },
     "execution_count": 23,
     "metadata": {},
     "output_type": "execute_result"
    }
   ],
   "source": [
    "housing.head()"
   ]
  },
  {
   "cell_type": "code",
   "execution_count": 24,
   "id": "4d54d255",
   "metadata": {},
   "outputs": [
    {
     "data": {
      "text/plain": [
       "<AxesSubplot:>"
      ]
     },
     "execution_count": 24,
     "metadata": {},
     "output_type": "execute_result"
    },
    {
     "data": {
      "image/png": "[encoded data removed]",
      "text/plain": [
       "<Figure size 720x360 with 2 Axes>"
      ]
     },
     "metadata": {
      "needs_background": "light"
     },
     "output_type": "display_data"
    }
   ],
   "source": [
    "plt.figure(figsize=(10,5))\n",
    "sns.heatmap(housing_tr.corr(),annot=True)"
   ]
  },
  {
   "cell_type": "markdown",
   "id": "bb4a5e0d",
   "metadata": {},
   "source": [
    "# Prepare the Data for ML Algorithms"
   ]
  },
  {
   "cell_type": "code",
   "execution_count": 20,
   "id": "c56921b6",
   "metadata": {
    "scrolled": true
   },
   "outputs": [
    {
     "data": {
      "text/html": [
       "<div>\n",
       "<style scoped>\n",
       "    .dataframe tbody tr th:only-of-type {\n",
       "        vertical-align: middle;\n",
       "    }\n",
       "\n",
       "    .dataframe tbody tr th {\n",
       "        vertical-align: top;\n",
       "    }\n",
       "\n",
       "    .dataframe thead th {\n",
       "        text-align: right;\n",
       "    }\n",
       "</style>\n",
       "<table border=\"1\" class=\"dataframe\">\n",
       "  <thead>\n",
       "    <tr style=\"text-align: right;\">\n",
       "      <th></th>\n",
       "      <th>longitude</th>\n",
       "      <th>latitude</th>\n",
       "      <th>housing_median_age</th>\n",
       "      <th>total_rooms</th>\n",
       "      <th>total_bedrooms</th>\n",
       "      <th>population</th>\n",
       "      <th>households</th>\n",
       "      <th>median_income</th>\n",
       "      <th>median_house_value</th>\n",
       "      <th>ocean_proximity</th>\n",
       "    </tr>\n",
       "  </thead>\n",
       "  <tbody>\n",
       "    <tr>\n",
       "      <th>17606</th>\n",
       "      <td>-121.89</td>\n",
       "      <td>37.29</td>\n",
       "      <td>38.0</td>\n",
       "      <td>1568.0</td>\n",
       "      <td>351.0</td>\n",
       "      <td>710.0</td>\n",
       "      <td>339.0</td>\n",
       "      <td>2.7042</td>\n",
       "      <td>286600.0</td>\n",
       "      <td>&lt;1H OCEAN</td>\n",
       "    </tr>\n",
       "    <tr>\n",
       "      <th>18632</th>\n",
       "      <td>-121.93</td>\n",
       "      <td>37.05</td>\n",
       "      <td>14.0</td>\n",
       "      <td>679.0</td>\n",
       "      <td>108.0</td>\n",
       "      <td>306.0</td>\n",
       "      <td>113.0</td>\n",
       "      <td>6.4214</td>\n",
       "      <td>340600.0</td>\n",
       "      <td>&lt;1H OCEAN</td>\n",
       "    </tr>\n",
       "    <tr>\n",
       "      <th>14650</th>\n",
       "      <td>-117.20</td>\n",
       "      <td>32.77</td>\n",
       "      <td>31.0</td>\n",
       "      <td>1952.0</td>\n",
       "      <td>471.0</td>\n",
       "      <td>936.0</td>\n",
       "      <td>462.0</td>\n",
       "      <td>2.8621</td>\n",
       "      <td>196900.0</td>\n",
       "      <td>NEAR OCEAN</td>\n",
       "    </tr>\n",
       "    <tr>\n",
       "      <th>3230</th>\n",
       "      <td>-119.61</td>\n",
       "      <td>36.31</td>\n",
       "      <td>25.0</td>\n",
       "      <td>1847.0</td>\n",
       "      <td>371.0</td>\n",
       "      <td>1460.0</td>\n",
       "      <td>353.0</td>\n",
       "      <td>1.8839</td>\n",
       "      <td>46300.0</td>\n",
       "      <td>INLAND</td>\n",
       "    </tr>\n",
       "    <tr>\n",
       "      <th>3555</th>\n",
       "      <td>-118.59</td>\n",
       "      <td>34.23</td>\n",
       "      <td>17.0</td>\n",
       "      <td>6592.0</td>\n",
       "      <td>1525.0</td>\n",
       "      <td>4459.0</td>\n",
       "      <td>1463.0</td>\n",
       "      <td>3.0347</td>\n",
       "      <td>254500.0</td>\n",
       "      <td>&lt;1H OCEAN</td>\n",
       "    </tr>\n",
       "    <tr>\n",
       "      <th>...</th>\n",
       "      <td>...</td>\n",
       "      <td>...</td>\n",
       "      <td>...</td>\n",
       "      <td>...</td>\n",
       "      <td>...</td>\n",
       "      <td>...</td>\n",
       "      <td>...</td>\n",
       "      <td>...</td>\n",
       "      <td>...</td>\n",
       "      <td>...</td>\n",
       "    </tr>\n",
       "    <tr>\n",
       "      <th>6563</th>\n",
       "      <td>-118.13</td>\n",
       "      <td>34.20</td>\n",
       "      <td>46.0</td>\n",
       "      <td>1271.0</td>\n",
       "      <td>236.0</td>\n",
       "      <td>573.0</td>\n",
       "      <td>210.0</td>\n",
       "      <td>4.9312</td>\n",
       "      <td>240200.0</td>\n",
       "      <td>INLAND</td>\n",
       "    </tr>\n",
       "    <tr>\n",
       "      <th>12053</th>\n",
       "      <td>-117.56</td>\n",
       "      <td>33.88</td>\n",
       "      <td>40.0</td>\n",
       "      <td>1196.0</td>\n",
       "      <td>294.0</td>\n",
       "      <td>1052.0</td>\n",
       "      <td>258.0</td>\n",
       "      <td>2.0682</td>\n",
       "      <td>113000.0</td>\n",
       "      <td>INLAND</td>\n",
       "    </tr>\n",
       "    <tr>\n",
       "      <th>13908</th>\n",
       "      <td>-116.40</td>\n",
       "      <td>34.09</td>\n",
       "      <td>9.0</td>\n",
       "      <td>4855.0</td>\n",
       "      <td>872.0</td>\n",
       "      <td>2098.0</td>\n",
       "      <td>765.0</td>\n",
       "      <td>3.2723</td>\n",
       "      <td>97800.0</td>\n",
       "      <td>INLAND</td>\n",
       "    </tr>\n",
       "    <tr>\n",
       "      <th>11159</th>\n",
       "      <td>-118.01</td>\n",
       "      <td>33.82</td>\n",
       "      <td>31.0</td>\n",
       "      <td>1960.0</td>\n",
       "      <td>380.0</td>\n",
       "      <td>1356.0</td>\n",
       "      <td>356.0</td>\n",
       "      <td>4.0625</td>\n",
       "      <td>225900.0</td>\n",
       "      <td>&lt;1H OCEAN</td>\n",
       "    </tr>\n",
       "    <tr>\n",
       "      <th>15775</th>\n",
       "      <td>-122.45</td>\n",
       "      <td>37.77</td>\n",
       "      <td>52.0</td>\n",
       "      <td>3095.0</td>\n",
       "      <td>682.0</td>\n",
       "      <td>1269.0</td>\n",
       "      <td>639.0</td>\n",
       "      <td>3.5750</td>\n",
       "      <td>500001.0</td>\n",
       "      <td>NEAR BAY</td>\n",
       "    </tr>\n",
       "  </tbody>\n",
       "</table>\n",
       "<p>16512 rows × 10 columns</p>\n",
       "</div>"
      ],
      "text/plain": [
       "       longitude  latitude  housing_median_age  total_rooms  total_bedrooms  \\\n",
       "17606    -121.89     37.29                38.0       1568.0           351.0   \n",
       "18632    -121.93     37.05                14.0        679.0           108.0   \n",
       "14650    -117.20     32.77                31.0       1952.0           471.0   \n",
       "3230     -119.61     36.31                25.0       1847.0           371.0   \n",
       "3555     -118.59     34.23                17.0       6592.0          1525.0   \n",
       "...          ...       ...                 ...          ...             ...   \n",
       "6563     -118.13     34.20                46.0       1271.0           236.0   \n",
       "12053    -117.56     33.88                40.0       1196.0           294.0   \n",
       "13908    -116.40     34.09                 9.0       4855.0           872.0   \n",
       "11159    -118.01     33.82                31.0       1960.0           380.0   \n",
       "15775    -122.45     37.77                52.0       3095.0           682.0   \n",
       "\n",
       "       population  households  median_income  median_house_value  \\\n",
       "17606       710.0       339.0         2.7042            286600.0   \n",
       "18632       306.0       113.0         6.4214            340600.0   \n",
       "14650       936.0       462.0         2.8621            196900.0   \n",
       "3230       1460.0       353.0         1.8839             46300.0   \n",
       "3555       4459.0      1463.0         3.0347            254500.0   \n",
       "...           ...         ...            ...                 ...   \n",
       "6563        573.0       210.0         4.9312            240200.0   \n",
       "12053      1052.0       258.0         2.0682            113000.0   \n",
       "13908      2098.0       765.0         3.2723             97800.0   \n",
       "11159      1356.0       356.0         4.0625            225900.0   \n",
       "15775      1269.0       639.0         3.5750            500001.0   \n",
       "\n",
       "      ocean_proximity  \n",
       "17606       <1H OCEAN  \n",
       "18632       <1H OCEAN  \n",
       "14650      NEAR OCEAN  \n",
       "3230           INLAND  \n",
       "3555        <1H OCEAN  \n",
       "...               ...  \n",
       "6563           INLAND  \n",
       "12053          INLAND  \n",
       "13908          INLAND  \n",
       "11159       <1H OCEAN  \n",
       "15775        NEAR BAY  \n",
       "\n",
       "[16512 rows x 10 columns]"
      ]
     },
     "execution_count": 20,
     "metadata": {},
     "output_type": "execute_result"
    }
   ],
   "source": [
    "housing_tr"
   ]
  },
  {
   "cell_type": "code",
   "execution_count": 21,
   "id": "8385e9f2",
   "metadata": {
    "scrolled": true
   },
   "outputs": [],
   "source": [
    "housing_tr_labels = housing_tr['median_house_value'].copy()\n",
    "housing_tr = strat_train.drop('median_house_value',axis=1)"
   ]
  },
  {
   "cell_type": "code",
   "execution_count": 22,
   "id": "2c14d3d4",
   "metadata": {},
   "outputs": [
    {
     "data": {
      "text/html": [
       "<div>\n",
       "<style scoped>\n",
       "    .dataframe tbody tr th:only-of-type {\n",
       "        vertical-align: middle;\n",
       "    }\n",
       "\n",
       "    .dataframe tbody tr th {\n",
       "        vertical-align: top;\n",
       "    }\n",
       "\n",
       "    .dataframe thead th {\n",
       "        text-align: right;\n",
       "    }\n",
       "</style>\n",
       "<table border=\"1\" class=\"dataframe\">\n",
       "  <thead>\n",
       "    <tr style=\"text-align: right;\">\n",
       "      <th></th>\n",
       "      <th>longitude</th>\n",
       "      <th>latitude</th>\n",
       "      <th>housing_median_age</th>\n",
       "      <th>total_rooms</th>\n",
       "      <th>total_bedrooms</th>\n",
       "      <th>population</th>\n",
       "      <th>households</th>\n",
       "      <th>median_income</th>\n",
       "      <th>ocean_proximity</th>\n",
       "    </tr>\n",
       "  </thead>\n",
       "  <tbody>\n",
       "    <tr>\n",
       "      <th>4629</th>\n",
       "      <td>-118.30</td>\n",
       "      <td>34.07</td>\n",
       "      <td>18.0</td>\n",
       "      <td>3759.0</td>\n",
       "      <td>NaN</td>\n",
       "      <td>3296.0</td>\n",
       "      <td>1462.0</td>\n",
       "      <td>2.2708</td>\n",
       "      <td>&lt;1H OCEAN</td>\n",
       "    </tr>\n",
       "    <tr>\n",
       "      <th>6068</th>\n",
       "      <td>-117.86</td>\n",
       "      <td>34.01</td>\n",
       "      <td>16.0</td>\n",
       "      <td>4632.0</td>\n",
       "      <td>NaN</td>\n",
       "      <td>3038.0</td>\n",
       "      <td>727.0</td>\n",
       "      <td>5.1762</td>\n",
       "      <td>&lt;1H OCEAN</td>\n",
       "    </tr>\n",
       "    <tr>\n",
       "      <th>17923</th>\n",
       "      <td>-121.97</td>\n",
       "      <td>37.35</td>\n",
       "      <td>30.0</td>\n",
       "      <td>1955.0</td>\n",
       "      <td>NaN</td>\n",
       "      <td>999.0</td>\n",
       "      <td>386.0</td>\n",
       "      <td>4.6328</td>\n",
       "      <td>&lt;1H OCEAN</td>\n",
       "    </tr>\n",
       "    <tr>\n",
       "      <th>13656</th>\n",
       "      <td>-117.30</td>\n",
       "      <td>34.05</td>\n",
       "      <td>6.0</td>\n",
       "      <td>2155.0</td>\n",
       "      <td>NaN</td>\n",
       "      <td>1039.0</td>\n",
       "      <td>391.0</td>\n",
       "      <td>1.6675</td>\n",
       "      <td>INLAND</td>\n",
       "    </tr>\n",
       "    <tr>\n",
       "      <th>19252</th>\n",
       "      <td>-122.79</td>\n",
       "      <td>38.48</td>\n",
       "      <td>7.0</td>\n",
       "      <td>6837.0</td>\n",
       "      <td>NaN</td>\n",
       "      <td>3468.0</td>\n",
       "      <td>1405.0</td>\n",
       "      <td>3.1662</td>\n",
       "      <td>&lt;1H OCEAN</td>\n",
       "    </tr>\n",
       "    <tr>\n",
       "      <th>...</th>\n",
       "      <td>...</td>\n",
       "      <td>...</td>\n",
       "      <td>...</td>\n",
       "      <td>...</td>\n",
       "      <td>...</td>\n",
       "      <td>...</td>\n",
       "      <td>...</td>\n",
       "      <td>...</td>\n",
       "      <td>...</td>\n",
       "    </tr>\n",
       "    <tr>\n",
       "      <th>3376</th>\n",
       "      <td>-118.28</td>\n",
       "      <td>34.25</td>\n",
       "      <td>29.0</td>\n",
       "      <td>2559.0</td>\n",
       "      <td>NaN</td>\n",
       "      <td>1886.0</td>\n",
       "      <td>769.0</td>\n",
       "      <td>2.6036</td>\n",
       "      <td>&lt;1H OCEAN</td>\n",
       "    </tr>\n",
       "    <tr>\n",
       "      <th>4691</th>\n",
       "      <td>-118.37</td>\n",
       "      <td>34.07</td>\n",
       "      <td>50.0</td>\n",
       "      <td>2519.0</td>\n",
       "      <td>NaN</td>\n",
       "      <td>1117.0</td>\n",
       "      <td>516.0</td>\n",
       "      <td>4.3667</td>\n",
       "      <td>&lt;1H OCEAN</td>\n",
       "    </tr>\n",
       "    <tr>\n",
       "      <th>6052</th>\n",
       "      <td>-117.76</td>\n",
       "      <td>34.04</td>\n",
       "      <td>34.0</td>\n",
       "      <td>1914.0</td>\n",
       "      <td>NaN</td>\n",
       "      <td>1564.0</td>\n",
       "      <td>328.0</td>\n",
       "      <td>2.8347</td>\n",
       "      <td>INLAND</td>\n",
       "    </tr>\n",
       "    <tr>\n",
       "      <th>17198</th>\n",
       "      <td>-119.75</td>\n",
       "      <td>34.45</td>\n",
       "      <td>6.0</td>\n",
       "      <td>2864.0</td>\n",
       "      <td>NaN</td>\n",
       "      <td>1404.0</td>\n",
       "      <td>603.0</td>\n",
       "      <td>5.5073</td>\n",
       "      <td>NEAR OCEAN</td>\n",
       "    </tr>\n",
       "    <tr>\n",
       "      <th>4738</th>\n",
       "      <td>-118.38</td>\n",
       "      <td>34.05</td>\n",
       "      <td>49.0</td>\n",
       "      <td>702.0</td>\n",
       "      <td>NaN</td>\n",
       "      <td>458.0</td>\n",
       "      <td>187.0</td>\n",
       "      <td>4.8958</td>\n",
       "      <td>&lt;1H OCEAN</td>\n",
       "    </tr>\n",
       "  </tbody>\n",
       "</table>\n",
       "<p>158 rows × 9 columns</p>\n",
       "</div>"
      ],
      "text/plain": [
       "       longitude  latitude  housing_median_age  total_rooms  total_bedrooms  \\\n",
       "4629     -118.30     34.07                18.0       3759.0             NaN   \n",
       "6068     -117.86     34.01                16.0       4632.0             NaN   \n",
       "17923    -121.97     37.35                30.0       1955.0             NaN   \n",
       "13656    -117.30     34.05                 6.0       2155.0             NaN   \n",
       "19252    -122.79     38.48                 7.0       6837.0             NaN   \n",
       "...          ...       ...                 ...          ...             ...   \n",
       "3376     -118.28     34.25                29.0       2559.0             NaN   \n",
       "4691     -118.37     34.07                50.0       2519.0             NaN   \n",
       "6052     -117.76     34.04                34.0       1914.0             NaN   \n",
       "17198    -119.75     34.45                 6.0       2864.0             NaN   \n",
       "4738     -118.38     34.05                49.0        702.0             NaN   \n",
       "\n",
       "       population  households  median_income ocean_proximity  \n",
       "4629       3296.0      1462.0         2.2708       <1H OCEAN  \n",
       "6068       3038.0       727.0         5.1762       <1H OCEAN  \n",
       "17923       999.0       386.0         4.6328       <1H OCEAN  \n",
       "13656      1039.0       391.0         1.6675          INLAND  \n",
       "19252      3468.0      1405.0         3.1662       <1H OCEAN  \n",
       "...           ...         ...            ...             ...  \n",
       "3376       1886.0       769.0         2.6036       <1H OCEAN  \n",
       "4691       1117.0       516.0         4.3667       <1H OCEAN  \n",
       "6052       1564.0       328.0         2.8347          INLAND  \n",
       "17198      1404.0       603.0         5.5073      NEAR OCEAN  \n",
       "4738        458.0       187.0         4.8958       <1H OCEAN  \n",
       "\n",
       "[158 rows x 9 columns]"
      ]
     },
     "execution_count": 22,
     "metadata": {},
     "output_type": "execute_result"
    }
   ],
   "source": [
    "#housing_tr.isnull().sum()\n",
    "housing_tr[housing_tr.isnull().any(axis=1)]"
   ]
  },
  {
   "cell_type": "markdown",
   "id": "84c3ba1b",
   "metadata": {},
   "source": [
    "### 3.Custom Transformer \n",
    "###### (Scikit-learn relies on duck typing)"
   ]
  },
  {
   "cell_type": "code",
   "execution_count": 43,
   "id": "1c472835",
   "metadata": {},
   "outputs": [],
   "source": [
    "from sklearn.base import BaseEstimator, TransformerMixin\n",
    "\n",
    "# column index\n",
    "rooms_ix, bedrooms_ix, population_ix, households_ix = 3, 4, 5, 6    #<------  hardcoded <-------------------\n",
    "\n",
    "class CombinedAttributesAdder(BaseEstimator, TransformerMixin):\n",
    "    def __init__(self, add_bedrooms_per_room=True): # no *args or **kargs\n",
    "        self.add_bedrooms_per_room = add_bedrooms_per_room\n",
    "    def fit(self, X, y=None):\n",
    "        return self  # nothing else to do\n",
    "    def transform(self, X):\n",
    "        rooms_per_household = X[:, rooms_ix] / X[:, households_ix]\n",
    "        population_per_household = X[:, population_ix] / X[:, households_ix]\n",
    "        if self.add_bedrooms_per_room:\n",
    "            bedrooms_per_room = X[:, bedrooms_ix] / X[:, rooms_ix]\n",
    "            return np.c_[X, rooms_per_household, population_per_household,\n",
    "                         bedrooms_per_room]\n",
    "        else:\n",
    "            return np.c_[X, rooms_per_household, population_per_household]  #side by side concat"
   ]
  },
  {
   "cell_type": "code",
   "execution_count": 44,
   "id": "5d3d4fc7",
   "metadata": {
    "scrolled": true
   },
   "outputs": [
    {
     "data": {
      "text/html": [
       "<div>\n",
       "<style scoped>\n",
       "    .dataframe tbody tr th:only-of-type {\n",
       "        vertical-align: middle;\n",
       "    }\n",
       "\n",
       "    .dataframe tbody tr th {\n",
       "        vertical-align: top;\n",
       "    }\n",
       "\n",
       "    .dataframe thead th {\n",
       "        text-align: right;\n",
       "    }\n",
       "</style>\n",
       "<table border=\"1\" class=\"dataframe\">\n",
       "  <thead>\n",
       "    <tr style=\"text-align: right;\">\n",
       "      <th></th>\n",
       "      <th>longitude</th>\n",
       "      <th>latitude</th>\n",
       "      <th>housing_median_age</th>\n",
       "      <th>total_rooms</th>\n",
       "      <th>total_bedrooms</th>\n",
       "      <th>population</th>\n",
       "      <th>households</th>\n",
       "      <th>median_income</th>\n",
       "      <th>ocean_proximity</th>\n",
       "      <th>rooms_per_household</th>\n",
       "      <th>population_per_household</th>\n",
       "    </tr>\n",
       "  </thead>\n",
       "  <tbody>\n",
       "    <tr>\n",
       "      <th>17606</th>\n",
       "      <td>-121.89</td>\n",
       "      <td>37.29</td>\n",
       "      <td>38.0</td>\n",
       "      <td>1568.0</td>\n",
       "      <td>351.0</td>\n",
       "      <td>710.0</td>\n",
       "      <td>339.0</td>\n",
       "      <td>2.7042</td>\n",
       "      <td>&lt;1H OCEAN</td>\n",
       "      <td>4.625369</td>\n",
       "      <td>2.094395</td>\n",
       "    </tr>\n",
       "    <tr>\n",
       "      <th>18632</th>\n",
       "      <td>-121.93</td>\n",
       "      <td>37.05</td>\n",
       "      <td>14.0</td>\n",
       "      <td>679.0</td>\n",
       "      <td>108.0</td>\n",
       "      <td>306.0</td>\n",
       "      <td>113.0</td>\n",
       "      <td>6.4214</td>\n",
       "      <td>&lt;1H OCEAN</td>\n",
       "      <td>6.00885</td>\n",
       "      <td>2.707965</td>\n",
       "    </tr>\n",
       "    <tr>\n",
       "      <th>14650</th>\n",
       "      <td>-117.2</td>\n",
       "      <td>32.77</td>\n",
       "      <td>31.0</td>\n",
       "      <td>1952.0</td>\n",
       "      <td>471.0</td>\n",
       "      <td>936.0</td>\n",
       "      <td>462.0</td>\n",
       "      <td>2.8621</td>\n",
       "      <td>NEAR OCEAN</td>\n",
       "      <td>4.225108</td>\n",
       "      <td>2.025974</td>\n",
       "    </tr>\n",
       "    <tr>\n",
       "      <th>3230</th>\n",
       "      <td>-119.61</td>\n",
       "      <td>36.31</td>\n",
       "      <td>25.0</td>\n",
       "      <td>1847.0</td>\n",
       "      <td>371.0</td>\n",
       "      <td>1460.0</td>\n",
       "      <td>353.0</td>\n",
       "      <td>1.8839</td>\n",
       "      <td>INLAND</td>\n",
       "      <td>5.232295</td>\n",
       "      <td>4.135977</td>\n",
       "    </tr>\n",
       "    <tr>\n",
       "      <th>3555</th>\n",
       "      <td>-118.59</td>\n",
       "      <td>34.23</td>\n",
       "      <td>17.0</td>\n",
       "      <td>6592.0</td>\n",
       "      <td>1525.0</td>\n",
       "      <td>4459.0</td>\n",
       "      <td>1463.0</td>\n",
       "      <td>3.0347</td>\n",
       "      <td>&lt;1H OCEAN</td>\n",
       "      <td>4.50581</td>\n",
       "      <td>3.047847</td>\n",
       "    </tr>\n",
       "  </tbody>\n",
       "</table>\n",
       "</div>"
      ],
      "text/plain": [
       "      longitude latitude housing_median_age total_rooms total_bedrooms  \\\n",
       "17606   -121.89    37.29               38.0      1568.0          351.0   \n",
       "18632   -121.93    37.05               14.0       679.0          108.0   \n",
       "14650    -117.2    32.77               31.0      1952.0          471.0   \n",
       "3230    -119.61    36.31               25.0      1847.0          371.0   \n",
       "3555    -118.59    34.23               17.0      6592.0         1525.0   \n",
       "\n",
       "      population households median_income ocean_proximity rooms_per_household  \\\n",
       "17606      710.0      339.0        2.7042       <1H OCEAN            4.625369   \n",
       "18632      306.0      113.0        6.4214       <1H OCEAN             6.00885   \n",
       "14650      936.0      462.0        2.8621      NEAR OCEAN            4.225108   \n",
       "3230      1460.0      353.0        1.8839          INLAND            5.232295   \n",
       "3555      4459.0     1463.0        3.0347       <1H OCEAN             4.50581   \n",
       "\n",
       "      population_per_household  \n",
       "17606                 2.094395  \n",
       "18632                 2.707965  \n",
       "14650                 2.025974  \n",
       "3230                  4.135977  \n",
       "3555                  3.047847  "
      ]
     },
     "execution_count": 44,
     "metadata": {},
     "output_type": "execute_result"
    }
   ],
   "source": [
    "attr_adder = CombinedAttributesAdder(add_bedrooms_per_room=False)\n",
    "housing_extra_attribs = attr_adder.transform(housing_tr.values)\n",
    "housing_extra_attribs = pd.DataFrame(\n",
    "    housing_extra_attribs,\n",
    "    columns=list(housing_tr.columns)+[\"rooms_per_household\", \"population_per_household\"],\n",
    "    index=housing_tr.index)\n",
    "housing_extra_attribs.head()"
   ]
  },
  {
   "cell_type": "markdown",
   "id": "50755922",
   "metadata": {},
   "source": [
    "## PIPELINE\n",
    "###### (summarize the data transformation )"
   ]
  },
  {
   "cell_type": "code",
   "execution_count": 23,
   "id": "d1b852d9",
   "metadata": {},
   "outputs": [],
   "source": [
    "from sklearn.impute import SimpleImputer\n",
    "from sklearn.preprocessing import OneHotEncoder\n",
    "from sklearn.preprocessing import StandardScaler\n",
    "from sklearn.pipeline import Pipeline"
   ]
  },
  {
   "cell_type": "code",
   "execution_count": 46,
   "id": "a9152dca",
   "metadata": {},
   "outputs": [],
   "source": [
    "num_pipeline = Pipeline([('myimputer',SimpleImputer(strategy='median')),\n",
    "                        ('attrib_add_transf',CombinedAttributesAdder()),\n",
    "                        ('std_scaler',StandardScaler())])"
   ]
  },
  {
   "cell_type": "code",
   "execution_count": 48,
   "id": "093ec76d",
   "metadata": {},
   "outputs": [],
   "source": [
    "from sklearn.compose import ColumnTransformer"
   ]
  },
  {
   "cell_type": "code",
   "execution_count": 34,
   "id": "869f54a7",
   "metadata": {},
   "outputs": [],
   "source": [
    "num_attr = list(housing_tr.select_dtypes(include=np.number).columns)  #only numerical attributes (i.e without ocn_prox)\n",
    "cat_attr = ['ocean_proximity']"
   ]
  },
  {
   "cell_type": "code",
   "execution_count": 50,
   "id": "b9fb6006",
   "metadata": {},
   "outputs": [],
   "source": [
    "full_pipeline = ColumnTransformer([(\"num\",num_pipeline,num_attr),\n",
    "                                  (\"cat\",OneHotEncoder(),cat_attr)])"
   ]
  },
  {
   "cell_type": "code",
   "execution_count": 51,
   "id": "289b752c",
   "metadata": {},
   "outputs": [],
   "source": [
    "housing_prepared = full_pipeline.fit_transform(housing_tr)"
   ]
  },
  {
   "cell_type": "markdown",
   "id": "3c936588",
   "metadata": {},
   "source": [
    "# Select and Train a Model"
   ]
  },
  {
   "cell_type": "code",
   "execution_count": 52,
   "id": "590c4404",
   "metadata": {},
   "outputs": [],
   "source": [
    "from sklearn.linear_model import LinearRegression"
   ]
  },
  {
   "cell_type": "code",
   "execution_count": 53,
   "id": "d17b478a",
   "metadata": {},
   "outputs": [],
   "source": [
    "lin_reg = LinearRegression()"
   ]
  },
  {
   "cell_type": "code",
   "execution_count": 54,
   "id": "31efed9b",
   "metadata": {},
   "outputs": [
    {
     "data": {
      "text/plain": [
       "LinearRegression()"
      ]
     },
     "execution_count": 54,
     "metadata": {},
     "output_type": "execute_result"
    }
   ],
   "source": [
    "lin_reg.fit(housing_prepared,housing_tr_labels)"
   ]
  },
  {
   "cell_type": "code",
   "execution_count": 55,
   "id": "3c116c47",
   "metadata": {},
   "outputs": [],
   "source": [
    "some_data = housing_tr.iloc[:5]\n",
    "some_labels = housing_tr_labels.iloc[:5]"
   ]
  },
  {
   "cell_type": "code",
   "execution_count": 56,
   "id": "1fc01f6a",
   "metadata": {},
   "outputs": [],
   "source": [
    "some_data_prep = full_pipeline.transform(some_data)"
   ]
  },
  {
   "cell_type": "code",
   "execution_count": 57,
   "id": "f54b9558",
   "metadata": {},
   "outputs": [
    {
     "name": "stdout",
     "output_type": "stream",
     "text": [
      "[210644.60459286 317768.80697211 210956.43331178  59218.98886849\n",
      " 189747.55849879]\n",
      "[286600.0, 340600.0, 196900.0, 46300.0, 254500.0]\n"
     ]
    }
   ],
   "source": [
    "print(lin_reg.predict(some_data_prep))\n",
    "print(list(some_labels))"
   ]
  },
  {
   "cell_type": "code",
   "execution_count": 58,
   "id": "439a81b0",
   "metadata": {},
   "outputs": [
    {
     "data": {
      "text/plain": [
       "68628.19819848922"
      ]
     },
     "execution_count": 58,
     "metadata": {},
     "output_type": "execute_result"
    }
   ],
   "source": [
    "from sklearn.metrics import mean_squared_error\n",
    "housing_predictions = lin_reg.predict(housing_prepared)\n",
    "#lin_mse = mean_squared_error(housing_tr_labels, housing_predictions)\n",
    "lin_rmse = mean_squared_error(housing_tr_labels, housing_predictions, squared=False)\n",
    "lin_rmse"
   ]
  },
  {
   "cell_type": "code",
   "execution_count": 59,
   "id": "d2534b21",
   "metadata": {},
   "outputs": [
    {
     "data": {
      "text/plain": [
       "count     16512.000000\n",
       "mean     206990.920724\n",
       "std      115703.014830\n",
       "min       14999.000000\n",
       "25%      119800.000000\n",
       "50%      179500.000000\n",
       "75%      263900.000000\n",
       "max      500001.000000\n",
       "Name: median_house_value, dtype: float64"
      ]
     },
     "execution_count": 59,
     "metadata": {},
     "output_type": "execute_result"
    }
   ],
   "source": [
    "housing_tr_labels.describe()"
   ]
  },
  {
   "cell_type": "code",
   "execution_count": 60,
   "id": "62481506",
   "metadata": {},
   "outputs": [
    {
     "data": {
      "text/plain": [
       "<AxesSubplot:ylabel='Frequency'>"
      ]
     },
     "execution_count": 60,
     "metadata": {},
     "output_type": "execute_result"
    },
    {
     "data": {
      "image/png": "[encoded data removed]",
      "text/plain": [
       "<Figure size 432x288 with 1 Axes>"
      ]
     },
     "metadata": {
      "needs_background": "light"
     },
     "output_type": "display_data"
    }
   ],
   "source": [
    "housing_tr_labels.plot.hist(bins=30)"
   ]
  },
  {
   "cell_type": "code",
   "execution_count": 61,
   "id": "237e4a81",
   "metadata": {},
   "outputs": [],
   "source": [
    "from sklearn.tree import DecisionTreeRegressor"
   ]
  },
  {
   "cell_type": "code",
   "execution_count": 62,
   "id": "ef554c80",
   "metadata": {},
   "outputs": [
    {
     "data": {
      "text/plain": [
       "DecisionTreeRegressor()"
      ]
     },
     "execution_count": 62,
     "metadata": {},
     "output_type": "execute_result"
    }
   ],
   "source": [
    "tree_reg = DecisionTreeRegressor()\n",
    "tree_reg.fit(housing_prepared, housing_tr_labels)"
   ]
  },
  {
   "cell_type": "code",
   "execution_count": 63,
   "id": "a6a45a6b",
   "metadata": {},
   "outputs": [
    {
     "data": {
      "text/plain": [
       "0.0"
      ]
     },
     "execution_count": 63,
     "metadata": {},
     "output_type": "execute_result"
    }
   ],
   "source": [
    "housing_predictions = tree_reg.predict(housing_prepared)\n",
    "#housing_mse = mean_squared_error(housing_tr_labels, housing_predictions)\n",
    "housing_rmse = mean_squared_error(housing_tr_labels, housing_predictions, squared=False)\n",
    "housing_rmse"
   ]
  },
  {
   "cell_type": "code",
   "execution_count": 64,
   "id": "6fbe8b5c",
   "metadata": {},
   "outputs": [],
   "source": [
    "from sklearn.model_selection import cross_val_score"
   ]
  },
  {
   "cell_type": "code",
   "execution_count": 65,
   "id": "f1959378",
   "metadata": {},
   "outputs": [],
   "source": [
    "scores = cross_val_score(tree_reg, housing_prepared, housing_tr_labels,scoring=\"neg_root_mean_squared_error\",cv=10)"
   ]
  },
  {
   "cell_type": "code",
   "execution_count": 66,
   "id": "7479f9f9",
   "metadata": {},
   "outputs": [],
   "source": [
    "def display_score(scores):\n",
    "    for i in scores:\n",
    "            print(f\"score:{i}\")\n",
    "\n",
    "    print(f\"mean:{scores.mean()}\")\n",
    "    print(f\"Std:{scores.std()}\")"
   ]
  },
  {
   "cell_type": "code",
   "execution_count": 67,
   "id": "d34e834a",
   "metadata": {
    "scrolled": false
   },
   "outputs": [
    {
     "name": "stdout",
     "output_type": "stream",
     "text": [
      "score:-68522.43132868028\n",
      "score:-68203.16926202021\n",
      "score:-71896.3644600587\n",
      "score:-69037.6812237379\n",
      "score:-72468.51972815469\n",
      "score:-75670.81741677377\n",
      "score:-69751.2883862086\n",
      "score:-71229.39634206935\n",
      "score:-76270.55814279245\n",
      "score:-70971.44033758764\n",
      "mean:-71402.16666280836\n",
      "Std:2652.5832762810383\n"
     ]
    }
   ],
   "source": [
    "display_score(scores)"
   ]
  },
  {
   "cell_type": "code",
   "execution_count": 68,
   "id": "2a81db58",
   "metadata": {},
   "outputs": [],
   "source": [
    "lin_scores = cross_val_score(LinearRegression(),housing_prepared,housing_tr_labels,scoring=\"neg_root_mean_squared_error\",cv=10)"
   ]
  },
  {
   "cell_type": "code",
   "execution_count": 69,
   "id": "8f729e11",
   "metadata": {
    "scrolled": true
   },
   "outputs": [
    {
     "name": "stdout",
     "output_type": "stream",
     "text": [
      "score:-66782.73843989319\n",
      "score:-66960.1180710006\n",
      "score:-70347.95244419384\n",
      "score:-74739.5705255179\n",
      "score:-68031.13388937665\n",
      "score:-71193.84183425657\n",
      "score:-64969.63056405337\n",
      "score:-68281.61137997014\n",
      "score:-71552.91566557658\n",
      "score:-67665.10082066945\n",
      "mean:-69052.46136345083\n",
      "Std:2731.674001798347\n"
     ]
    }
   ],
   "source": [
    "display_score(lin_scores)"
   ]
  },
  {
   "cell_type": "code",
   "execution_count": 70,
   "id": "be721e95",
   "metadata": {},
   "outputs": [
    {
     "data": {
      "text/plain": [
       "RandomForestRegressor(random_state=42)"
      ]
     },
     "execution_count": 70,
     "metadata": {},
     "output_type": "execute_result"
    }
   ],
   "source": [
    "from sklearn.ensemble import RandomForestRegressor\n",
    "\n",
    "forest_reg = RandomForestRegressor(n_estimators=100, random_state=42)\n",
    "forest_reg.fit(housing_prepared, housing_tr_labels)"
   ]
  },
  {
   "cell_type": "code",
   "execution_count": 71,
   "id": "a2142f80",
   "metadata": {},
   "outputs": [
    {
     "data": {
      "text/plain": [
       "18603.515021376355"
      ]
     },
     "execution_count": 71,
     "metadata": {},
     "output_type": "execute_result"
    }
   ],
   "source": [
    "housing_predictions = forest_reg.predict(housing_prepared)\n",
    "#forest_mse = mean_squared_error(housing_tr_labels, housing_predictions)\n",
    "forest_rmse = mean_squared_error(housing_tr_labels, housing_predictions, squared=False)\n",
    "forest_rmse"
   ]
  },
  {
   "cell_type": "code",
   "execution_count": 72,
   "id": "4419f941",
   "metadata": {},
   "outputs": [
    {
     "name": "stdout",
     "output_type": "stream",
     "text": [
      "score:-49519.803642334635\n",
      "score:-47461.9115823026\n",
      "score:-50029.02762853677\n",
      "score:-52325.28068953377\n",
      "score:-49308.39426421178\n",
      "score:-53446.3789262215\n",
      "score:-48634.80365739642\n",
      "score:-47585.73832311089\n",
      "score:-53490.10699751184\n",
      "score:-50021.58529220072\n",
      "mean:-50182.303100336096\n",
      "Std:2097.0810550985693\n"
     ]
    }
   ],
   "source": [
    "forest_scores = cross_val_score(forest_reg, housing_prepared, housing_tr_labels,\n",
    "                                scoring=\"neg_root_mean_squared_error\", cv=10)\n",
    "display_score(forest_scores)"
   ]
  },
  {
   "cell_type": "markdown",
   "id": "a1316a1b",
   "metadata": {},
   "source": [
    "# Fine Tune the model"
   ]
  },
  {
   "cell_type": "markdown",
   "id": "4b99031d",
   "metadata": {},
   "source": [
    "## Grid Search"
   ]
  },
  {
   "cell_type": "code",
   "execution_count": 73,
   "id": "64d184ac",
   "metadata": {},
   "outputs": [],
   "source": [
    "from sklearn.model_selection import GridSearchCV"
   ]
  },
  {
   "cell_type": "code",
   "execution_count": 74,
   "id": "b0c1602e",
   "metadata": {},
   "outputs": [
    {
     "data": {
      "text/plain": [
       "GridSearchCV(cv=5, estimator=RandomForestRegressor(random_state=42),\n",
       "             param_grid=[{'max_features': [2, 4, 6, 8],\n",
       "                          'n_estimators': [3, 10, 30]},\n",
       "                         {'bootstrap': [False], 'max_features': [2, 3, 4],\n",
       "                          'n_estimators': [3, 10]}],\n",
       "             return_train_score=True, scoring='neg_root_mean_squared_error')"
      ]
     },
     "execution_count": 74,
     "metadata": {},
     "output_type": "execute_result"
    }
   ],
   "source": [
    "param_grid = [\n",
    "    # try 12 (3×4) combinations of hyperparameters\n",
    "    {'n_estimators': [3, 10, 30], \"max_features\": [2, 4, 6, 8]},\n",
    "    # then try 6 (2×3) combinations with bootstrap set as False\n",
    "    {'bootstrap': [False], 'n_estimators': [3, 10], 'max_features': [2, 3, 4]},\n",
    "  ]\n",
    "\n",
    "forest_reg = RandomForestRegressor(random_state=42)\n",
    "# train across 5 folds, that's a total of (12+6)*5=90 rounds of training \n",
    "grid_search = GridSearchCV(forest_reg, param_grid, cv=5,\n",
    "                           scoring='neg_root_mean_squared_error',\n",
    "                           return_train_score=True)\n",
    "grid_search.fit(housing_prepared, housing_tr_labels)"
   ]
  },
  {
   "cell_type": "code",
   "execution_count": 75,
   "id": "67184627",
   "metadata": {},
   "outputs": [
    {
     "data": {
      "text/plain": [
       "RandomForestRegressor(max_features=8, n_estimators=30, random_state=42)"
      ]
     },
     "execution_count": 75,
     "metadata": {},
     "output_type": "execute_result"
    }
   ],
   "source": [
    "grid_search.best_estimator_"
   ]
  },
  {
   "cell_type": "code",
   "execution_count": 76,
   "id": "ad750bf2",
   "metadata": {
    "scrolled": true
   },
   "outputs": [
    {
     "data": {
      "text/plain": [
       "{'mean_fit_time': array([0.04962821, 0.16871052, 0.5812571 , 0.08124309, 0.28165889,\n",
       "        0.79593172, 0.10622354, 0.37967606, 1.21852269, 0.14019194,\n",
       "        0.47196989, 1.39634829, 0.07809315, 0.25931315, 0.10563674,\n",
       "        0.36591568, 0.1249814 , 0.45886292]),\n",
       " 'std_fit_time': array([5.13566370e-03, 1.08383181e-02, 6.34573250e-02, 6.24631569e-03,\n",
       "        2.51229013e-02, 2.48907208e-02, 6.24823156e-03, 1.92625671e-02,\n",
       "        7.99261240e-02, 5.66479355e-03, 1.29126881e-02, 2.44782073e-02,\n",
       "        2.67393000e-05, 7.66422378e-03, 6.11017131e-03, 2.19227969e-02,\n",
       "        9.86832591e-03, 2.36847751e-02]),\n",
       " 'mean_score_time': array([0.        , 0.00937371, 0.02375684, 0.01249199, 0.00651445,\n",
       "        0.02500024, 0.00624924, 0.00690398, 0.03014445, 0.00432343,\n",
       "        0.00846086, 0.0241354 , 0.00624957, 0.00624933, 0.00432224,\n",
       "        0.0101058 , 0.00624967, 0.01049719]),\n",
       " 'std_score_time': array([0.        , 0.0076536 , 0.00511936, 0.00624601, 0.00593368,\n",
       "        0.00766958, 0.00765372, 0.00607898, 0.00482604, 0.00580747,\n",
       "        0.00497072, 0.00712206, 0.00765413, 0.00765384, 0.0058066 ,\n",
       "        0.00544416, 0.00765425, 0.00541703]),\n",
       " 'param_max_features': masked_array(data=[2, 2, 2, 4, 4, 4, 6, 6, 6, 8, 8, 8, 2, 2, 3, 3, 4, 4],\n",
       "              mask=[False, False, False, False, False, False, False, False,\n",
       "                    False, False, False, False, False, False, False, False,\n",
       "                    False, False],\n",
       "        fill_value='?',\n",
       "             dtype=object),\n",
       " 'param_n_estimators': masked_array(data=[3, 10, 30, 3, 10, 30, 3, 10, 30, 3, 10, 30, 3, 10, 3,\n",
       "                    10, 3, 10],\n",
       "              mask=[False, False, False, False, False, False, False, False,\n",
       "                    False, False, False, False, False, False, False, False,\n",
       "                    False, False],\n",
       "        fill_value='?',\n",
       "             dtype=object),\n",
       " 'param_bootstrap': masked_array(data=[--, --, --, --, --, --, --, --, --, --, --, --, False,\n",
       "                    False, False, False, False, False],\n",
       "              mask=[ True,  True,  True,  True,  True,  True,  True,  True,\n",
       "                     True,  True,  True,  True, False, False, False, False,\n",
       "                    False, False],\n",
       "        fill_value='?',\n",
       "             dtype=object),\n",
       " 'params': [{'max_features': 2, 'n_estimators': 3},\n",
       "  {'max_features': 2, 'n_estimators': 10},\n",
       "  {'max_features': 2, 'n_estimators': 30},\n",
       "  {'max_features': 4, 'n_estimators': 3},\n",
       "  {'max_features': 4, 'n_estimators': 10},\n",
       "  {'max_features': 4, 'n_estimators': 30},\n",
       "  {'max_features': 6, 'n_estimators': 3},\n",
       "  {'max_features': 6, 'n_estimators': 10},\n",
       "  {'max_features': 6, 'n_estimators': 30},\n",
       "  {'max_features': 8, 'n_estimators': 3},\n",
       "  {'max_features': 8, 'n_estimators': 10},\n",
       "  {'max_features': 8, 'n_estimators': 30},\n",
       "  {'bootstrap': False, 'max_features': 2, 'n_estimators': 3},\n",
       "  {'bootstrap': False, 'max_features': 2, 'n_estimators': 10},\n",
       "  {'bootstrap': False, 'max_features': 3, 'n_estimators': 3},\n",
       "  {'bootstrap': False, 'max_features': 3, 'n_estimators': 10},\n",
       "  {'bootstrap': False, 'max_features': 4, 'n_estimators': 3},\n",
       "  {'bootstrap': False, 'max_features': 4, 'n_estimators': 10}],\n",
       " 'split0_test_score': array([-61948.54162493, -55206.61922069, -51857.35235211, -61075.20494505,\n",
       "        -51636.06628001, -48858.50019918, -55853.89141618, -50494.1922642 ,\n",
       "        -48682.74577864, -57909.44253919, -50714.5898581 , -48552.96054255,\n",
       "        -61528.98111582, -53016.23325964, -60152.50851133, -52516.65532936,\n",
       "        -55982.49382109, -50255.13360356]),\n",
       " 'split1_test_score': array([-64398.04680353, -57051.38819597, -54964.4032363 , -61537.67698025,\n",
       "        -52768.46915042, -50876.79534869, -59885.88392304, -52745.03921159,\n",
       "        -50829.49994844, -57866.67287936, -52143.96965952, -50464.24544675,\n",
       "        -64544.64769117, -55747.55027179, -58664.53002054, -53401.65770674,\n",
       "        -59660.49491075, -52057.7616591 ]),\n",
       " 'split2_test_score': array([-64779.6849538 , -55948.15030203, -54298.52311192, -61110.67738765,\n",
       "        -53779.88620381, -51637.45010657, -59939.73561442, -52561.57948031,\n",
       "        -51065.676391  , -58333.89275173, -53313.38855697, -50911.41457876,\n",
       "        -63731.86541579, -55957.00726123, -59622.27194393, -53206.45868552,\n",
       "        -58655.11051382, -51079.34531763]),\n",
       " 'split3_test_score': array([-62476.54630159, -53527.45003089, -51185.88463451, -58470.05603449,\n",
       "        -51154.79266176, -48970.10434387, -57696.91301492, -50210.89909277,\n",
       "        -48486.62498921, -55940.20781954, -49600.98321031, -48152.01972945,\n",
       "        -60627.58483796, -52806.60317687, -60159.08736377, -51698.79286143,\n",
       "        -55259.81399032, -49392.37779901]),\n",
       " 'split4_test_score': array([-64686.36021674, -56336.98595381, -54506.58698956, -62561.22505487,\n",
       "        -54297.39005003, -51471.50434941, -59829.81315673, -53922.78642137,\n",
       "        -51585.45585489, -59245.64807811, -52694.075606  , -50269.49611127,\n",
       "        -63950.50484242, -55671.77699053, -58735.54114188, -52784.3746667 ,\n",
       "        -57778.40801579, -52206.77864779]),\n",
       " 'mean_test_score': array([-63657.83598012, -55614.11874068, -53362.55006488, -60950.96808046,\n",
       "        -52727.3208692 , -50362.87086955, -58641.24742506, -51986.89929405,\n",
       "        -50130.00059244, -57859.17281359, -51693.40137818, -49670.02728175,\n",
       "        -62876.71678063, -54639.83419201, -59466.78779629, -52721.58784995,\n",
       "        -57467.26425036, -50998.27940542]),\n",
       " 'std_test_score': array([1198.45331869, 1201.67381116, 1533.25093595, 1351.51924129,\n",
       "        1203.1945594 , 1210.01392581, 1631.50244174, 1416.68933875,\n",
       "        1286.72984262, 1080.06320403, 1353.8836676 , 1103.02972045,\n",
       "        1519.29453563, 1415.88853301,  656.04971133,  598.2714849 ,\n",
       "        1636.79136094, 1069.64764283]),\n",
       " 'rank_test_score': array([18, 11,  9, 16,  8,  3, 14,  6,  2, 13,  5,  1, 17, 10, 15,  7, 12,\n",
       "         4]),\n",
       " 'split0_train_score': array([-3.26207487e+04, -2.43457895e+04, -2.09310500e+04, -3.14088564e+04,\n",
       "        -2.25767909e+04, -1.95929456e+04, -3.04061560e+04, -2.23166837e+04,\n",
       "        -1.95921868e+04, -3.03778260e+04, -2.22090426e+04, -1.96001474e+04,\n",
       "        -0.00000000e+00, -2.46099099e-01, -0.00000000e+00, -4.57108788e+00,\n",
       "        -0.00000000e+00, -0.00000000e+00]),\n",
       " 'split1_train_score': array([-3.32436780e+04, -2.42300480e+04, -2.09553616e+04, -3.18208271e+04,\n",
       "        -2.27218406e+04, -1.96983956e+04, -2.98109699e+04, -2.24630121e+04,\n",
       "        -1.95056686e+04, -2.92455660e+04, -2.19436495e+04, -1.93507095e+04,\n",
       "        -0.00000000e+00, -0.00000000e+00, -0.00000000e+00, -0.00000000e+00,\n",
       "        -0.00000000e+00, -1.23049549e-01]),\n",
       " 'split2_train_score': array([-33414.81817847, -24035.31665344, -20908.61438857, -30281.05911473,\n",
       "        -22277.55113414, -19470.14799804, -30582.89525909, -22348.74480353,\n",
       "        -19506.96871784, -29331.4180555 , -21750.81477506, -19424.82629002,\n",
       "            -0.        ,     -0.        ,     -0.        ,     -0.        ,\n",
       "            -0.        ,     -0.        ]),\n",
       " 'split3_train_score': array([-33351.79095841, -23908.85125316, -20921.17335317, -32208.70121133,\n",
       "        -23315.64270547, -20102.13257298, -30016.33053253, -22339.03599863,\n",
       "        -19636.94118296, -29802.62378955, -22705.43424089, -19703.42571079,\n",
       "            -0.        ,     -0.        ,     -0.        ,     -0.        ,\n",
       "            -0.        ,     -0.        ]),\n",
       " 'split4_train_score': array([-3.36102601e+04, -2.40883816e+04, -2.11013133e+04, -3.11572452e+04,\n",
       "        -2.27162880e+04, -1.96099962e+04, -2.93677777e+04, -2.24845334e+04,\n",
       "        -1.97532702e+04, -3.02510944e+04, -2.23283566e+04, -1.95192349e+04,\n",
       "        -0.00000000e+00, -1.72262849e+00, -7.79284315e+00, -2.33785295e+00,\n",
       "        -0.00000000e+00, -0.00000000e+00]),\n",
       " 'mean_train_score': array([-3.32482592e+04, -2.41216774e+04, -2.09635025e+04, -3.13753378e+04,\n",
       "        -2.27216227e+04, -1.96947236e+04, -3.00368259e+04, -2.23904020e+04,\n",
       "        -1.95990071e+04, -2.98017056e+04, -2.21874595e+04, -1.95196687e+04,\n",
       "         0.00000000e+00, -3.93745517e-01, -1.55856863e+00, -1.38178817e+00,\n",
       "         0.00000000e+00, -2.46099099e-02]),\n",
       " 'std_train_score': array([3.35647381e+02, 1.52205237e+02, 7.05913756e+01, 6.54077824e+02,\n",
       "        3.37953865e+02, 2.16317934e+02, 4.32123348e+02, 6.91970005e+01,\n",
       "        9.21583037e+01, 4.61373485e+02, 3.28243077e+02, 1.24728452e+02,\n",
       "        0.00000000e+00, 6.71243027e-01, 3.11713726e+00, 1.83377797e+00,\n",
       "        0.00000000e+00, 4.92198198e-02])}"
      ]
     },
     "execution_count": 76,
     "metadata": {},
     "output_type": "execute_result"
    }
   ],
   "source": [
    "grid_search.cv_results_"
   ]
  },
  {
   "cell_type": "code",
   "execution_count": 77,
   "id": "c566d71b",
   "metadata": {
    "scrolled": true
   },
   "outputs": [
    {
     "data": {
      "text/html": [
       "<div>\n",
       "<style scoped>\n",
       "    .dataframe tbody tr th:only-of-type {\n",
       "        vertical-align: middle;\n",
       "    }\n",
       "\n",
       "    .dataframe tbody tr th {\n",
       "        vertical-align: top;\n",
       "    }\n",
       "\n",
       "    .dataframe thead th {\n",
       "        text-align: right;\n",
       "    }\n",
       "</style>\n",
       "<table border=\"1\" class=\"dataframe\">\n",
       "  <thead>\n",
       "    <tr style=\"text-align: right;\">\n",
       "      <th></th>\n",
       "      <th>mean_fit_time</th>\n",
       "      <th>std_fit_time</th>\n",
       "      <th>mean_score_time</th>\n",
       "      <th>std_score_time</th>\n",
       "      <th>param_max_features</th>\n",
       "      <th>param_n_estimators</th>\n",
       "      <th>param_bootstrap</th>\n",
       "      <th>params</th>\n",
       "      <th>split0_test_score</th>\n",
       "      <th>split1_test_score</th>\n",
       "      <th>...</th>\n",
       "      <th>mean_test_score</th>\n",
       "      <th>std_test_score</th>\n",
       "      <th>rank_test_score</th>\n",
       "      <th>split0_train_score</th>\n",
       "      <th>split1_train_score</th>\n",
       "      <th>split2_train_score</th>\n",
       "      <th>split3_train_score</th>\n",
       "      <th>split4_train_score</th>\n",
       "      <th>mean_train_score</th>\n",
       "      <th>std_train_score</th>\n",
       "    </tr>\n",
       "  </thead>\n",
       "  <tbody>\n",
       "    <tr>\n",
       "      <th>0</th>\n",
       "      <td>0.049628</td>\n",
       "      <td>0.005136</td>\n",
       "      <td>0.000000</td>\n",
       "      <td>0.000000</td>\n",
       "      <td>2</td>\n",
       "      <td>3</td>\n",
       "      <td>NaN</td>\n",
       "      <td>{'max_features': 2, 'n_estimators': 3}</td>\n",
       "      <td>-61948.541625</td>\n",
       "      <td>-64398.046804</td>\n",
       "      <td>...</td>\n",
       "      <td>-63657.835980</td>\n",
       "      <td>1198.453319</td>\n",
       "      <td>18</td>\n",
       "      <td>-32620.748658</td>\n",
       "      <td>-33243.678031</td>\n",
       "      <td>-33414.818178</td>\n",
       "      <td>-33351.790958</td>\n",
       "      <td>-33610.260081</td>\n",
       "      <td>-33248.259181</td>\n",
       "      <td>335.647381</td>\n",
       "    </tr>\n",
       "    <tr>\n",
       "      <th>1</th>\n",
       "      <td>0.168711</td>\n",
       "      <td>0.010838</td>\n",
       "      <td>0.009374</td>\n",
       "      <td>0.007654</td>\n",
       "      <td>2</td>\n",
       "      <td>10</td>\n",
       "      <td>NaN</td>\n",
       "      <td>{'max_features': 2, 'n_estimators': 10}</td>\n",
       "      <td>-55206.619221</td>\n",
       "      <td>-57051.388196</td>\n",
       "      <td>...</td>\n",
       "      <td>-55614.118741</td>\n",
       "      <td>1201.673811</td>\n",
       "      <td>11</td>\n",
       "      <td>-24345.789489</td>\n",
       "      <td>-24230.047986</td>\n",
       "      <td>-24035.316653</td>\n",
       "      <td>-23908.851253</td>\n",
       "      <td>-24088.381579</td>\n",
       "      <td>-24121.677392</td>\n",
       "      <td>152.205237</td>\n",
       "    </tr>\n",
       "    <tr>\n",
       "      <th>2</th>\n",
       "      <td>0.581257</td>\n",
       "      <td>0.063457</td>\n",
       "      <td>0.023757</td>\n",
       "      <td>0.005119</td>\n",
       "      <td>2</td>\n",
       "      <td>30</td>\n",
       "      <td>NaN</td>\n",
       "      <td>{'max_features': 2, 'n_estimators': 30}</td>\n",
       "      <td>-51857.352352</td>\n",
       "      <td>-54964.403236</td>\n",
       "      <td>...</td>\n",
       "      <td>-53362.550065</td>\n",
       "      <td>1533.250936</td>\n",
       "      <td>9</td>\n",
       "      <td>-20931.049976</td>\n",
       "      <td>-20955.361611</td>\n",
       "      <td>-20908.614389</td>\n",
       "      <td>-20921.173353</td>\n",
       "      <td>-21101.313275</td>\n",
       "      <td>-20963.502521</td>\n",
       "      <td>70.591376</td>\n",
       "    </tr>\n",
       "    <tr>\n",
       "      <th>3</th>\n",
       "      <td>0.081243</td>\n",
       "      <td>0.006246</td>\n",
       "      <td>0.012492</td>\n",
       "      <td>0.006246</td>\n",
       "      <td>4</td>\n",
       "      <td>3</td>\n",
       "      <td>NaN</td>\n",
       "      <td>{'max_features': 4, 'n_estimators': 3}</td>\n",
       "      <td>-61075.204945</td>\n",
       "      <td>-61537.676980</td>\n",
       "      <td>...</td>\n",
       "      <td>-60950.968080</td>\n",
       "      <td>1351.519241</td>\n",
       "      <td>16</td>\n",
       "      <td>-31408.856364</td>\n",
       "      <td>-31820.827114</td>\n",
       "      <td>-30281.059115</td>\n",
       "      <td>-32208.701211</td>\n",
       "      <td>-31157.245249</td>\n",
       "      <td>-31375.337811</td>\n",
       "      <td>654.077824</td>\n",
       "    </tr>\n",
       "    <tr>\n",
       "      <th>4</th>\n",
       "      <td>0.281659</td>\n",
       "      <td>0.025123</td>\n",
       "      <td>0.006514</td>\n",
       "      <td>0.005934</td>\n",
       "      <td>4</td>\n",
       "      <td>10</td>\n",
       "      <td>NaN</td>\n",
       "      <td>{'max_features': 4, 'n_estimators': 10}</td>\n",
       "      <td>-51636.066280</td>\n",
       "      <td>-52768.469150</td>\n",
       "      <td>...</td>\n",
       "      <td>-52727.320869</td>\n",
       "      <td>1203.194559</td>\n",
       "      <td>8</td>\n",
       "      <td>-22576.790913</td>\n",
       "      <td>-22721.840639</td>\n",
       "      <td>-22277.551134</td>\n",
       "      <td>-23315.642705</td>\n",
       "      <td>-22716.287984</td>\n",
       "      <td>-22721.622675</td>\n",
       "      <td>337.953865</td>\n",
       "    </tr>\n",
       "    <tr>\n",
       "      <th>5</th>\n",
       "      <td>0.795932</td>\n",
       "      <td>0.024891</td>\n",
       "      <td>0.025000</td>\n",
       "      <td>0.007670</td>\n",
       "      <td>4</td>\n",
       "      <td>30</td>\n",
       "      <td>NaN</td>\n",
       "      <td>{'max_features': 4, 'n_estimators': 30}</td>\n",
       "      <td>-48858.500199</td>\n",
       "      <td>-50876.795349</td>\n",
       "      <td>...</td>\n",
       "      <td>-50362.870870</td>\n",
       "      <td>1210.013926</td>\n",
       "      <td>3</td>\n",
       "      <td>-19592.945622</td>\n",
       "      <td>-19698.395649</td>\n",
       "      <td>-19470.147998</td>\n",
       "      <td>-20102.132573</td>\n",
       "      <td>-19609.996214</td>\n",
       "      <td>-19694.723611</td>\n",
       "      <td>216.317934</td>\n",
       "    </tr>\n",
       "    <tr>\n",
       "      <th>6</th>\n",
       "      <td>0.106224</td>\n",
       "      <td>0.006248</td>\n",
       "      <td>0.006249</td>\n",
       "      <td>0.007654</td>\n",
       "      <td>6</td>\n",
       "      <td>3</td>\n",
       "      <td>NaN</td>\n",
       "      <td>{'max_features': 6, 'n_estimators': 3}</td>\n",
       "      <td>-55853.891416</td>\n",
       "      <td>-59885.883923</td>\n",
       "      <td>...</td>\n",
       "      <td>-58641.247425</td>\n",
       "      <td>1631.502442</td>\n",
       "      <td>14</td>\n",
       "      <td>-30406.155996</td>\n",
       "      <td>-29810.969872</td>\n",
       "      <td>-30582.895259</td>\n",
       "      <td>-30016.330533</td>\n",
       "      <td>-29367.777719</td>\n",
       "      <td>-30036.825876</td>\n",
       "      <td>432.123348</td>\n",
       "    </tr>\n",
       "    <tr>\n",
       "      <th>7</th>\n",
       "      <td>0.379676</td>\n",
       "      <td>0.019263</td>\n",
       "      <td>0.006904</td>\n",
       "      <td>0.006079</td>\n",
       "      <td>6</td>\n",
       "      <td>10</td>\n",
       "      <td>NaN</td>\n",
       "      <td>{'max_features': 6, 'n_estimators': 10}</td>\n",
       "      <td>-50494.192264</td>\n",
       "      <td>-52745.039212</td>\n",
       "      <td>...</td>\n",
       "      <td>-51986.899294</td>\n",
       "      <td>1416.689339</td>\n",
       "      <td>6</td>\n",
       "      <td>-22316.683665</td>\n",
       "      <td>-22463.012075</td>\n",
       "      <td>-22348.744804</td>\n",
       "      <td>-22339.035999</td>\n",
       "      <td>-22484.533400</td>\n",
       "      <td>-22390.401988</td>\n",
       "      <td>69.197000</td>\n",
       "    </tr>\n",
       "    <tr>\n",
       "      <th>8</th>\n",
       "      <td>1.218523</td>\n",
       "      <td>0.079926</td>\n",
       "      <td>0.030144</td>\n",
       "      <td>0.004826</td>\n",
       "      <td>6</td>\n",
       "      <td>30</td>\n",
       "      <td>NaN</td>\n",
       "      <td>{'max_features': 6, 'n_estimators': 30}</td>\n",
       "      <td>-48682.745779</td>\n",
       "      <td>-50829.499948</td>\n",
       "      <td>...</td>\n",
       "      <td>-50130.000592</td>\n",
       "      <td>1286.729843</td>\n",
       "      <td>2</td>\n",
       "      <td>-19592.186769</td>\n",
       "      <td>-19505.668577</td>\n",
       "      <td>-19506.968718</td>\n",
       "      <td>-19636.941183</td>\n",
       "      <td>-19753.270218</td>\n",
       "      <td>-19599.007093</td>\n",
       "      <td>92.158304</td>\n",
       "    </tr>\n",
       "    <tr>\n",
       "      <th>9</th>\n",
       "      <td>0.140192</td>\n",
       "      <td>0.005665</td>\n",
       "      <td>0.004323</td>\n",
       "      <td>0.005807</td>\n",
       "      <td>8</td>\n",
       "      <td>3</td>\n",
       "      <td>NaN</td>\n",
       "      <td>{'max_features': 8, 'n_estimators': 3}</td>\n",
       "      <td>-57909.442539</td>\n",
       "      <td>-57866.672879</td>\n",
       "      <td>...</td>\n",
       "      <td>-57859.172814</td>\n",
       "      <td>1080.063204</td>\n",
       "      <td>13</td>\n",
       "      <td>-30377.826011</td>\n",
       "      <td>-29245.565999</td>\n",
       "      <td>-29331.418056</td>\n",
       "      <td>-29802.623790</td>\n",
       "      <td>-30251.094367</td>\n",
       "      <td>-29801.705644</td>\n",
       "      <td>461.373485</td>\n",
       "    </tr>\n",
       "    <tr>\n",
       "      <th>10</th>\n",
       "      <td>0.471970</td>\n",
       "      <td>0.012913</td>\n",
       "      <td>0.008461</td>\n",
       "      <td>0.004971</td>\n",
       "      <td>8</td>\n",
       "      <td>10</td>\n",
       "      <td>NaN</td>\n",
       "      <td>{'max_features': 8, 'n_estimators': 10}</td>\n",
       "      <td>-50714.589858</td>\n",
       "      <td>-52143.969660</td>\n",
       "      <td>...</td>\n",
       "      <td>-51693.401378</td>\n",
       "      <td>1353.883668</td>\n",
       "      <td>5</td>\n",
       "      <td>-22209.042572</td>\n",
       "      <td>-21943.649506</td>\n",
       "      <td>-21750.814775</td>\n",
       "      <td>-22705.434241</td>\n",
       "      <td>-22328.356621</td>\n",
       "      <td>-22187.459543</td>\n",
       "      <td>328.243077</td>\n",
       "    </tr>\n",
       "    <tr>\n",
       "      <th>11</th>\n",
       "      <td>1.396348</td>\n",
       "      <td>0.024478</td>\n",
       "      <td>0.024135</td>\n",
       "      <td>0.007122</td>\n",
       "      <td>8</td>\n",
       "      <td>30</td>\n",
       "      <td>NaN</td>\n",
       "      <td>{'max_features': 8, 'n_estimators': 30}</td>\n",
       "      <td>-48552.960543</td>\n",
       "      <td>-50464.245447</td>\n",
       "      <td>...</td>\n",
       "      <td>-49670.027282</td>\n",
       "      <td>1103.029720</td>\n",
       "      <td>1</td>\n",
       "      <td>-19600.147357</td>\n",
       "      <td>-19350.709505</td>\n",
       "      <td>-19424.826290</td>\n",
       "      <td>-19703.425711</td>\n",
       "      <td>-19519.234865</td>\n",
       "      <td>-19519.668746</td>\n",
       "      <td>124.728452</td>\n",
       "    </tr>\n",
       "    <tr>\n",
       "      <th>12</th>\n",
       "      <td>0.078093</td>\n",
       "      <td>0.000027</td>\n",
       "      <td>0.006250</td>\n",
       "      <td>0.007654</td>\n",
       "      <td>2</td>\n",
       "      <td>3</td>\n",
       "      <td>False</td>\n",
       "      <td>{'bootstrap': False, 'max_features': 2, 'n_est...</td>\n",
       "      <td>-61528.981116</td>\n",
       "      <td>-64544.647691</td>\n",
       "      <td>...</td>\n",
       "      <td>-62876.716781</td>\n",
       "      <td>1519.294536</td>\n",
       "      <td>17</td>\n",
       "      <td>-0.000000</td>\n",
       "      <td>-0.000000</td>\n",
       "      <td>-0.000000</td>\n",
       "      <td>-0.000000</td>\n",
       "      <td>-0.000000</td>\n",
       "      <td>0.000000</td>\n",
       "      <td>0.000000</td>\n",
       "    </tr>\n",
       "    <tr>\n",
       "      <th>13</th>\n",
       "      <td>0.259313</td>\n",
       "      <td>0.007664</td>\n",
       "      <td>0.006249</td>\n",
       "      <td>0.007654</td>\n",
       "      <td>2</td>\n",
       "      <td>10</td>\n",
       "      <td>False</td>\n",
       "      <td>{'bootstrap': False, 'max_features': 2, 'n_est...</td>\n",
       "      <td>-53016.233260</td>\n",
       "      <td>-55747.550272</td>\n",
       "      <td>...</td>\n",
       "      <td>-54639.834192</td>\n",
       "      <td>1415.888533</td>\n",
       "      <td>10</td>\n",
       "      <td>-0.246099</td>\n",
       "      <td>-0.000000</td>\n",
       "      <td>-0.000000</td>\n",
       "      <td>-0.000000</td>\n",
       "      <td>-1.722628</td>\n",
       "      <td>-0.393746</td>\n",
       "      <td>0.671243</td>\n",
       "    </tr>\n",
       "    <tr>\n",
       "      <th>14</th>\n",
       "      <td>0.105637</td>\n",
       "      <td>0.006110</td>\n",
       "      <td>0.004322</td>\n",
       "      <td>0.005807</td>\n",
       "      <td>3</td>\n",
       "      <td>3</td>\n",
       "      <td>False</td>\n",
       "      <td>{'bootstrap': False, 'max_features': 3, 'n_est...</td>\n",
       "      <td>-60152.508511</td>\n",
       "      <td>-58664.530021</td>\n",
       "      <td>...</td>\n",
       "      <td>-59466.787796</td>\n",
       "      <td>656.049711</td>\n",
       "      <td>15</td>\n",
       "      <td>-0.000000</td>\n",
       "      <td>-0.000000</td>\n",
       "      <td>-0.000000</td>\n",
       "      <td>-0.000000</td>\n",
       "      <td>-7.792843</td>\n",
       "      <td>-1.558569</td>\n",
       "      <td>3.117137</td>\n",
       "    </tr>\n",
       "    <tr>\n",
       "      <th>15</th>\n",
       "      <td>0.365916</td>\n",
       "      <td>0.021923</td>\n",
       "      <td>0.010106</td>\n",
       "      <td>0.005444</td>\n",
       "      <td>3</td>\n",
       "      <td>10</td>\n",
       "      <td>False</td>\n",
       "      <td>{'bootstrap': False, 'max_features': 3, 'n_est...</td>\n",
       "      <td>-52516.655329</td>\n",
       "      <td>-53401.657707</td>\n",
       "      <td>...</td>\n",
       "      <td>-52721.587850</td>\n",
       "      <td>598.271485</td>\n",
       "      <td>7</td>\n",
       "      <td>-4.571088</td>\n",
       "      <td>-0.000000</td>\n",
       "      <td>-0.000000</td>\n",
       "      <td>-0.000000</td>\n",
       "      <td>-2.337853</td>\n",
       "      <td>-1.381788</td>\n",
       "      <td>1.833778</td>\n",
       "    </tr>\n",
       "    <tr>\n",
       "      <th>16</th>\n",
       "      <td>0.124981</td>\n",
       "      <td>0.009868</td>\n",
       "      <td>0.006250</td>\n",
       "      <td>0.007654</td>\n",
       "      <td>4</td>\n",
       "      <td>3</td>\n",
       "      <td>False</td>\n",
       "      <td>{'bootstrap': False, 'max_features': 4, 'n_est...</td>\n",
       "      <td>-55982.493821</td>\n",
       "      <td>-59660.494911</td>\n",
       "      <td>...</td>\n",
       "      <td>-57467.264250</td>\n",
       "      <td>1636.791361</td>\n",
       "      <td>12</td>\n",
       "      <td>-0.000000</td>\n",
       "      <td>-0.000000</td>\n",
       "      <td>-0.000000</td>\n",
       "      <td>-0.000000</td>\n",
       "      <td>-0.000000</td>\n",
       "      <td>0.000000</td>\n",
       "      <td>0.000000</td>\n",
       "    </tr>\n",
       "    <tr>\n",
       "      <th>17</th>\n",
       "      <td>0.458863</td>\n",
       "      <td>0.023685</td>\n",
       "      <td>0.010497</td>\n",
       "      <td>0.005417</td>\n",
       "      <td>4</td>\n",
       "      <td>10</td>\n",
       "      <td>False</td>\n",
       "      <td>{'bootstrap': False, 'max_features': 4, 'n_est...</td>\n",
       "      <td>-50255.133604</td>\n",
       "      <td>-52057.761659</td>\n",
       "      <td>...</td>\n",
       "      <td>-50998.279405</td>\n",
       "      <td>1069.647643</td>\n",
       "      <td>4</td>\n",
       "      <td>-0.000000</td>\n",
       "      <td>-0.123050</td>\n",
       "      <td>-0.000000</td>\n",
       "      <td>-0.000000</td>\n",
       "      <td>-0.000000</td>\n",
       "      <td>-0.024610</td>\n",
       "      <td>0.049220</td>\n",
       "    </tr>\n",
       "  </tbody>\n",
       "</table>\n",
       "<p>18 rows × 23 columns</p>\n",
       "</div>"
      ],
      "text/plain": [
       "    mean_fit_time  std_fit_time  mean_score_time  std_score_time  \\\n",
       "0        0.049628      0.005136         0.000000        0.000000   \n",
       "1        0.168711      0.010838         0.009374        0.007654   \n",
       "2        0.581257      0.063457         0.023757        0.005119   \n",
       "3        0.081243      0.006246         0.012492        0.006246   \n",
       "4        0.281659      0.025123         0.006514        0.005934   \n",
       "5        0.795932      0.024891         0.025000        0.007670   \n",
       "6        0.106224      0.006248         0.006249        0.007654   \n",
       "7        0.379676      0.019263         0.006904        0.006079   \n",
       "8        1.218523      0.079926         0.030144        0.004826   \n",
       "9        0.140192      0.005665         0.004323        0.005807   \n",
       "10       0.471970      0.012913         0.008461        0.004971   \n",
       "11       1.396348      0.024478         0.024135        0.007122   \n",
       "12       0.078093      0.000027         0.006250        0.007654   \n",
       "13       0.259313      0.007664         0.006249        0.007654   \n",
       "14       0.105637      0.006110         0.004322        0.005807   \n",
       "15       0.365916      0.021923         0.010106        0.005444   \n",
       "16       0.124981      0.009868         0.006250        0.007654   \n",
       "17       0.458863      0.023685         0.010497        0.005417   \n",
       "\n",
       "   param_max_features param_n_estimators param_bootstrap  \\\n",
       "0                   2                  3             NaN   \n",
       "1                   2                 10             NaN   \n",
       "2                   2                 30             NaN   \n",
       "3                   4                  3             NaN   \n",
       "4                   4                 10             NaN   \n",
       "5                   4                 30             NaN   \n",
       "6                   6                  3             NaN   \n",
       "7                   6                 10             NaN   \n",
       "8                   6                 30             NaN   \n",
       "9                   8                  3             NaN   \n",
       "10                  8                 10             NaN   \n",
       "11                  8                 30             NaN   \n",
       "12                  2                  3           False   \n",
       "13                  2                 10           False   \n",
       "14                  3                  3           False   \n",
       "15                  3                 10           False   \n",
       "16                  4                  3           False   \n",
       "17                  4                 10           False   \n",
       "\n",
       "                                               params  split0_test_score  \\\n",
       "0              {'max_features': 2, 'n_estimators': 3}      -61948.541625   \n",
       "1             {'max_features': 2, 'n_estimators': 10}      -55206.619221   \n",
       "2             {'max_features': 2, 'n_estimators': 30}      -51857.352352   \n",
       "3              {'max_features': 4, 'n_estimators': 3}      -61075.204945   \n",
       "4             {'max_features': 4, 'n_estimators': 10}      -51636.066280   \n",
       "5             {'max_features': 4, 'n_estimators': 30}      -48858.500199   \n",
       "6              {'max_features': 6, 'n_estimators': 3}      -55853.891416   \n",
       "7             {'max_features': 6, 'n_estimators': 10}      -50494.192264   \n",
       "8             {'max_features': 6, 'n_estimators': 30}      -48682.745779   \n",
       "9              {'max_features': 8, 'n_estimators': 3}      -57909.442539   \n",
       "10            {'max_features': 8, 'n_estimators': 10}      -50714.589858   \n",
       "11            {'max_features': 8, 'n_estimators': 30}      -48552.960543   \n",
       "12  {'bootstrap': False, 'max_features': 2, 'n_est...      -61528.981116   \n",
       "13  {'bootstrap': False, 'max_features': 2, 'n_est...      -53016.233260   \n",
       "14  {'bootstrap': False, 'max_features': 3, 'n_est...      -60152.508511   \n",
       "15  {'bootstrap': False, 'max_features': 3, 'n_est...      -52516.655329   \n",
       "16  {'bootstrap': False, 'max_features': 4, 'n_est...      -55982.493821   \n",
       "17  {'bootstrap': False, 'max_features': 4, 'n_est...      -50255.133604   \n",
       "\n",
       "    split1_test_score  ...  mean_test_score  std_test_score  rank_test_score  \\\n",
       "0       -64398.046804  ...    -63657.835980     1198.453319               18   \n",
       "1       -57051.388196  ...    -55614.118741     1201.673811               11   \n",
       "2       -54964.403236  ...    -53362.550065     1533.250936                9   \n",
       "3       -61537.676980  ...    -60950.968080     1351.519241               16   \n",
       "4       -52768.469150  ...    -52727.320869     1203.194559                8   \n",
       "5       -50876.795349  ...    -50362.870870     1210.013926                3   \n",
       "6       -59885.883923  ...    -58641.247425     1631.502442               14   \n",
       "7       -52745.039212  ...    -51986.899294     1416.689339                6   \n",
       "8       -50829.499948  ...    -50130.000592     1286.729843                2   \n",
       "9       -57866.672879  ...    -57859.172814     1080.063204               13   \n",
       "10      -52143.969660  ...    -51693.401378     1353.883668                5   \n",
       "11      -50464.245447  ...    -49670.027282     1103.029720                1   \n",
       "12      -64544.647691  ...    -62876.716781     1519.294536               17   \n",
       "13      -55747.550272  ...    -54639.834192     1415.888533               10   \n",
       "14      -58664.530021  ...    -59466.787796      656.049711               15   \n",
       "15      -53401.657707  ...    -52721.587850      598.271485                7   \n",
       "16      -59660.494911  ...    -57467.264250     1636.791361               12   \n",
       "17      -52057.761659  ...    -50998.279405     1069.647643                4   \n",
       "\n",
       "    split0_train_score  split1_train_score  split2_train_score  \\\n",
       "0        -32620.748658       -33243.678031       -33414.818178   \n",
       "1        -24345.789489       -24230.047986       -24035.316653   \n",
       "2        -20931.049976       -20955.361611       -20908.614389   \n",
       "3        -31408.856364       -31820.827114       -30281.059115   \n",
       "4        -22576.790913       -22721.840639       -22277.551134   \n",
       "5        -19592.945622       -19698.395649       -19470.147998   \n",
       "6        -30406.155996       -29810.969872       -30582.895259   \n",
       "7        -22316.683665       -22463.012075       -22348.744804   \n",
       "8        -19592.186769       -19505.668577       -19506.968718   \n",
       "9        -30377.826011       -29245.565999       -29331.418056   \n",
       "10       -22209.042572       -21943.649506       -21750.814775   \n",
       "11       -19600.147357       -19350.709505       -19424.826290   \n",
       "12           -0.000000           -0.000000           -0.000000   \n",
       "13           -0.246099           -0.000000           -0.000000   \n",
       "14           -0.000000           -0.000000           -0.000000   \n",
       "15           -4.571088           -0.000000           -0.000000   \n",
       "16           -0.000000           -0.000000           -0.000000   \n",
       "17           -0.000000           -0.123050           -0.000000   \n",
       "\n",
       "    split3_train_score  split4_train_score  mean_train_score  std_train_score  \n",
       "0        -33351.790958       -33610.260081     -33248.259181       335.647381  \n",
       "1        -23908.851253       -24088.381579     -24121.677392       152.205237  \n",
       "2        -20921.173353       -21101.313275     -20963.502521        70.591376  \n",
       "3        -32208.701211       -31157.245249     -31375.337811       654.077824  \n",
       "4        -23315.642705       -22716.287984     -22721.622675       337.953865  \n",
       "5        -20102.132573       -19609.996214     -19694.723611       216.317934  \n",
       "6        -30016.330533       -29367.777719     -30036.825876       432.123348  \n",
       "7        -22339.035999       -22484.533400     -22390.401988        69.197000  \n",
       "8        -19636.941183       -19753.270218     -19599.007093        92.158304  \n",
       "9        -29802.623790       -30251.094367     -29801.705644       461.373485  \n",
       "10       -22705.434241       -22328.356621     -22187.459543       328.243077  \n",
       "11       -19703.425711       -19519.234865     -19519.668746       124.728452  \n",
       "12           -0.000000           -0.000000          0.000000         0.000000  \n",
       "13           -0.000000           -1.722628         -0.393746         0.671243  \n",
       "14           -0.000000           -7.792843         -1.558569         3.117137  \n",
       "15           -0.000000           -2.337853         -1.381788         1.833778  \n",
       "16           -0.000000           -0.000000          0.000000         0.000000  \n",
       "17           -0.000000           -0.000000         -0.024610         0.049220  \n",
       "\n",
       "[18 rows x 23 columns]"
      ]
     },
     "execution_count": 77,
     "metadata": {},
     "output_type": "execute_result"
    }
   ],
   "source": [
    "pd.DataFrame(grid_search.cv_results_)"
   ]
  },
  {
   "cell_type": "code",
   "execution_count": 78,
   "id": "1bfeed6e",
   "metadata": {
    "scrolled": false
   },
   "outputs": [
    {
     "name": "stdout",
     "output_type": "stream",
     "text": [
      "63657.835980118 {'max_features': 2, 'n_estimators': 3}\n",
      "55614.11874067824 {'max_features': 2, 'n_estimators': 10}\n",
      "53362.55006487941 {'max_features': 2, 'n_estimators': 30}\n",
      "60950.96808046017 {'max_features': 4, 'n_estimators': 3}\n",
      "52727.32086920469 {'max_features': 4, 'n_estimators': 10}\n",
      "50362.87086954546 {'max_features': 4, 'n_estimators': 30}\n",
      "58641.24742505832 {'max_features': 6, 'n_estimators': 3}\n",
      "51986.89929404722 {'max_features': 6, 'n_estimators': 10}\n",
      "50130.00059243755 {'max_features': 6, 'n_estimators': 30}\n",
      "57859.17281358604 {'max_features': 8, 'n_estimators': 3}\n",
      "51693.40137818176 {'max_features': 8, 'n_estimators': 10}\n",
      "49670.02728175415 {'max_features': 8, 'n_estimators': 30}\n",
      "62876.71678063231 {'bootstrap': False, 'max_features': 2, 'n_estimators': 3}\n",
      "54639.83419201318 {'bootstrap': False, 'max_features': 2, 'n_estimators': 10}\n",
      "59466.78779629106 {'bootstrap': False, 'max_features': 3, 'n_estimators': 3}\n",
      "52721.587849949996 {'bootstrap': False, 'max_features': 3, 'n_estimators': 10}\n",
      "57467.26425035678 {'bootstrap': False, 'max_features': 4, 'n_estimators': 3}\n",
      "50998.2794054195 {'bootstrap': False, 'max_features': 4, 'n_estimators': 10}\n"
     ]
    }
   ],
   "source": [
    "cvresults = grid_search.cv_results_\n",
    "for mean_score, params in zip(cvresults[\"mean_test_score\"], cvresults[\"params\"]):\n",
    "    print((-mean_score), params)"
   ]
  },
  {
   "cell_type": "markdown",
   "id": "b6a5e8e3",
   "metadata": {},
   "source": [
    "## Fetaure importance according to the best model (random forest)"
   ]
  },
  {
   "cell_type": "code",
   "execution_count": 79,
   "id": "a5a37693",
   "metadata": {},
   "outputs": [
    {
     "data": {
      "text/plain": [
       "array([7.33442355e-02, 6.29090705e-02, 4.11437985e-02, 1.46726854e-02,\n",
       "       1.41064835e-02, 1.48742809e-02, 1.42575993e-02, 3.66158981e-01,\n",
       "       5.64191792e-02, 1.08792957e-01, 5.33510773e-02, 1.03114883e-02,\n",
       "       1.64780994e-01, 6.02803867e-05, 1.96041560e-03, 2.85647464e-03])"
      ]
     },
     "execution_count": 79,
     "metadata": {},
     "output_type": "execute_result"
    }
   ],
   "source": [
    "grid_search.best_estimator_.feature_importances_"
   ]
  },
  {
   "cell_type": "code",
   "execution_count": 80,
   "id": "b1dd14e7",
   "metadata": {},
   "outputs": [],
   "source": [
    "extra_attr = [\"rooms_per_hhold\", \"pop_per_hhold\", \"bedrooms_per_room\"]\n",
    "attr_1hotcat = list(full_pipeline.named_transformers_['cat'].categories_[0])\n",
    "tot_attr = num_attr+extra_attr+attr_1hotcat"
   ]
  },
  {
   "cell_type": "code",
   "execution_count": 81,
   "id": "daa5d5df",
   "metadata": {
    "scrolled": false
   },
   "outputs": [
    {
     "data": {
      "text/plain": [
       "[(0.36615898061813423, 'median_income'),\n",
       " (0.16478099356159054, 'INLAND'),\n",
       " (0.10879295677551575, 'pop_per_hhold'),\n",
       " (0.07334423551601243, 'longitude'),\n",
       " (0.06290907048262032, 'latitude'),\n",
       " (0.056419179181954014, 'rooms_per_hhold'),\n",
       " (0.053351077347675815, 'bedrooms_per_room'),\n",
       " (0.04114379847872964, 'housing_median_age'),\n",
       " (0.014874280890402769, 'population'),\n",
       " (0.014672685420543239, 'total_rooms'),\n",
       " (0.014257599323407808, 'households'),\n",
       " (0.014106483453584104, 'total_bedrooms'),\n",
       " (0.010311488326303788, '<1H OCEAN'),\n",
       " (0.0028564746373201584, 'NEAR OCEAN'),\n",
       " (0.0019604155994780706, 'NEAR BAY'),\n",
       " (6.0280386727366e-05, 'ISLAND')]"
      ]
     },
     "execution_count": 81,
     "metadata": {},
     "output_type": "execute_result"
    }
   ],
   "source": [
    "sorted(list(zip(grid_search.best_estimator_.feature_importances_,tot_attr)))[::-1]"
   ]
  },
  {
   "cell_type": "markdown",
   "id": "fddfad9a",
   "metadata": {},
   "source": [
    "# Evaluation on Test Set"
   ]
  },
  {
   "cell_type": "code",
   "execution_count": 82,
   "id": "7bb2cb1e",
   "metadata": {},
   "outputs": [],
   "source": [
    "final_model = grid_search.best_estimator_"
   ]
  },
  {
   "cell_type": "code",
   "execution_count": 83,
   "id": "17616dc2",
   "metadata": {},
   "outputs": [
    {
     "data": {
      "text/plain": [
       "RandomForestRegressor(max_features=8, n_estimators=30, random_state=42)"
      ]
     },
     "execution_count": 83,
     "metadata": {},
     "output_type": "execute_result"
    }
   ],
   "source": [
    "final_model"
   ]
  },
  {
   "cell_type": "code",
   "execution_count": 84,
   "id": "14731daf",
   "metadata": {},
   "outputs": [],
   "source": [
    "X_test = strat_test.drop(\"median_house_value\", axis=1)\n",
    "y_test = strat_test[\"median_house_value\"].copy()"
   ]
  },
  {
   "cell_type": "code",
   "execution_count": 85,
   "id": "d79c1a62",
   "metadata": {
    "scrolled": true
   },
   "outputs": [],
   "source": [
    "X_test_prepared = full_pipeline.transform(X_test)"
   ]
  },
  {
   "cell_type": "code",
   "execution_count": 86,
   "id": "aafcc49f",
   "metadata": {
    "scrolled": true
   },
   "outputs": [
    {
     "data": {
      "text/html": [
       "<div>\n",
       "<style scoped>\n",
       "    .dataframe tbody tr th:only-of-type {\n",
       "        vertical-align: middle;\n",
       "    }\n",
       "\n",
       "    .dataframe tbody tr th {\n",
       "        vertical-align: top;\n",
       "    }\n",
       "\n",
       "    .dataframe thead th {\n",
       "        text-align: right;\n",
       "    }\n",
       "</style>\n",
       "<table border=\"1\" class=\"dataframe\">\n",
       "  <thead>\n",
       "    <tr style=\"text-align: right;\">\n",
       "      <th></th>\n",
       "      <th>longitude</th>\n",
       "      <th>latitude</th>\n",
       "      <th>housing_median_age</th>\n",
       "      <th>total_rooms</th>\n",
       "      <th>total_bedrooms</th>\n",
       "      <th>population</th>\n",
       "      <th>households</th>\n",
       "      <th>median_income</th>\n",
       "      <th>ocean_proximity</th>\n",
       "    </tr>\n",
       "  </thead>\n",
       "  <tbody>\n",
       "    <tr>\n",
       "      <th>5241</th>\n",
       "      <td>-118.39</td>\n",
       "      <td>34.12</td>\n",
       "      <td>29.0</td>\n",
       "      <td>6447.0</td>\n",
       "      <td>1012.0</td>\n",
       "      <td>2184.0</td>\n",
       "      <td>960.0</td>\n",
       "      <td>8.2816</td>\n",
       "      <td>&lt;1H OCEAN</td>\n",
       "    </tr>\n",
       "    <tr>\n",
       "      <th>10970</th>\n",
       "      <td>-117.86</td>\n",
       "      <td>33.77</td>\n",
       "      <td>39.0</td>\n",
       "      <td>4159.0</td>\n",
       "      <td>655.0</td>\n",
       "      <td>1669.0</td>\n",
       "      <td>651.0</td>\n",
       "      <td>4.6111</td>\n",
       "      <td>&lt;1H OCEAN</td>\n",
       "    </tr>\n",
       "    <tr>\n",
       "      <th>20351</th>\n",
       "      <td>-119.05</td>\n",
       "      <td>34.21</td>\n",
       "      <td>27.0</td>\n",
       "      <td>4357.0</td>\n",
       "      <td>926.0</td>\n",
       "      <td>2110.0</td>\n",
       "      <td>876.0</td>\n",
       "      <td>3.0119</td>\n",
       "      <td>&lt;1H OCEAN</td>\n",
       "    </tr>\n",
       "    <tr>\n",
       "      <th>6568</th>\n",
       "      <td>-118.15</td>\n",
       "      <td>34.20</td>\n",
       "      <td>52.0</td>\n",
       "      <td>1786.0</td>\n",
       "      <td>306.0</td>\n",
       "      <td>1018.0</td>\n",
       "      <td>322.0</td>\n",
       "      <td>4.1518</td>\n",
       "      <td>INLAND</td>\n",
       "    </tr>\n",
       "    <tr>\n",
       "      <th>13285</th>\n",
       "      <td>-117.68</td>\n",
       "      <td>34.07</td>\n",
       "      <td>32.0</td>\n",
       "      <td>1775.0</td>\n",
       "      <td>314.0</td>\n",
       "      <td>1067.0</td>\n",
       "      <td>302.0</td>\n",
       "      <td>4.0375</td>\n",
       "      <td>INLAND</td>\n",
       "    </tr>\n",
       "    <tr>\n",
       "      <th>...</th>\n",
       "      <td>...</td>\n",
       "      <td>...</td>\n",
       "      <td>...</td>\n",
       "      <td>...</td>\n",
       "      <td>...</td>\n",
       "      <td>...</td>\n",
       "      <td>...</td>\n",
       "      <td>...</td>\n",
       "      <td>...</td>\n",
       "    </tr>\n",
       "    <tr>\n",
       "      <th>20519</th>\n",
       "      <td>-121.53</td>\n",
       "      <td>38.58</td>\n",
       "      <td>33.0</td>\n",
       "      <td>4988.0</td>\n",
       "      <td>1169.0</td>\n",
       "      <td>2414.0</td>\n",
       "      <td>1075.0</td>\n",
       "      <td>1.9728</td>\n",
       "      <td>INLAND</td>\n",
       "    </tr>\n",
       "    <tr>\n",
       "      <th>17430</th>\n",
       "      <td>-120.44</td>\n",
       "      <td>34.65</td>\n",
       "      <td>30.0</td>\n",
       "      <td>2265.0</td>\n",
       "      <td>512.0</td>\n",
       "      <td>1402.0</td>\n",
       "      <td>471.0</td>\n",
       "      <td>1.9750</td>\n",
       "      <td>NEAR OCEAN</td>\n",
       "    </tr>\n",
       "    <tr>\n",
       "      <th>4019</th>\n",
       "      <td>-118.49</td>\n",
       "      <td>34.18</td>\n",
       "      <td>31.0</td>\n",
       "      <td>3073.0</td>\n",
       "      <td>674.0</td>\n",
       "      <td>1486.0</td>\n",
       "      <td>684.0</td>\n",
       "      <td>4.8984</td>\n",
       "      <td>&lt;1H OCEAN</td>\n",
       "    </tr>\n",
       "    <tr>\n",
       "      <th>12107</th>\n",
       "      <td>-117.32</td>\n",
       "      <td>33.99</td>\n",
       "      <td>27.0</td>\n",
       "      <td>5464.0</td>\n",
       "      <td>850.0</td>\n",
       "      <td>2400.0</td>\n",
       "      <td>836.0</td>\n",
       "      <td>4.7110</td>\n",
       "      <td>INLAND</td>\n",
       "    </tr>\n",
       "    <tr>\n",
       "      <th>2398</th>\n",
       "      <td>-118.91</td>\n",
       "      <td>36.79</td>\n",
       "      <td>19.0</td>\n",
       "      <td>1616.0</td>\n",
       "      <td>324.0</td>\n",
       "      <td>187.0</td>\n",
       "      <td>80.0</td>\n",
       "      <td>3.7857</td>\n",
       "      <td>INLAND</td>\n",
       "    </tr>\n",
       "  </tbody>\n",
       "</table>\n",
       "<p>4128 rows × 9 columns</p>\n",
       "</div>"
      ],
      "text/plain": [
       "       longitude  latitude  housing_median_age  total_rooms  total_bedrooms  \\\n",
       "5241     -118.39     34.12                29.0       6447.0          1012.0   \n",
       "10970    -117.86     33.77                39.0       4159.0           655.0   \n",
       "20351    -119.05     34.21                27.0       4357.0           926.0   \n",
       "6568     -118.15     34.20                52.0       1786.0           306.0   \n",
       "13285    -117.68     34.07                32.0       1775.0           314.0   \n",
       "...          ...       ...                 ...          ...             ...   \n",
       "20519    -121.53     38.58                33.0       4988.0          1169.0   \n",
       "17430    -120.44     34.65                30.0       2265.0           512.0   \n",
       "4019     -118.49     34.18                31.0       3073.0           674.0   \n",
       "12107    -117.32     33.99                27.0       5464.0           850.0   \n",
       "2398     -118.91     36.79                19.0       1616.0           324.0   \n",
       "\n",
       "       population  households  median_income ocean_proximity  \n",
       "5241       2184.0       960.0         8.2816       <1H OCEAN  \n",
       "10970      1669.0       651.0         4.6111       <1H OCEAN  \n",
       "20351      2110.0       876.0         3.0119       <1H OCEAN  \n",
       "6568       1018.0       322.0         4.1518          INLAND  \n",
       "13285      1067.0       302.0         4.0375          INLAND  \n",
       "...           ...         ...            ...             ...  \n",
       "20519      2414.0      1075.0         1.9728          INLAND  \n",
       "17430      1402.0       471.0         1.9750      NEAR OCEAN  \n",
       "4019       1486.0       684.0         4.8984       <1H OCEAN  \n",
       "12107      2400.0       836.0         4.7110          INLAND  \n",
       "2398        187.0        80.0         3.7857          INLAND  \n",
       "\n",
       "[4128 rows x 9 columns]"
      ]
     },
     "execution_count": 86,
     "metadata": {},
     "output_type": "execute_result"
    }
   ],
   "source": [
    "X_test_prepared"
   ]
  },
  {
   "cell_type": "code",
   "execution_count": 91,
   "id": "881aa51f",
   "metadata": {},
   "outputs": [
    {
     "data": {
      "text/plain": [
       "array([[ 0.59238393, -0.71074948,  0.02758786, ...,  0.        ,\n",
       "         0.        ,  0.        ],\n",
       "       [ 0.8571457 , -0.87445443,  0.8228579 , ...,  0.        ,\n",
       "         0.        ,  0.        ],\n",
       "       [ 0.26268061, -0.66865392, -0.13146615, ...,  0.        ,\n",
       "         0.        ,  0.        ],\n",
       "       ...,\n",
       "       [ 0.54242889, -0.68268578,  0.18664186, ...,  0.        ,\n",
       "         0.        ,  0.        ],\n",
       "       [ 1.12690297, -0.77155418, -0.13146615, ...,  0.        ,\n",
       "         0.        ,  0.        ],\n",
       "       [ 0.33261768,  0.53808541, -0.76768218, ...,  0.        ,\n",
       "         0.        ,  0.        ]])"
      ]
     },
     "execution_count": 91,
     "metadata": {},
     "output_type": "execute_result"
    }
   ],
   "source": [
    "X_test_prepared"
   ]
  },
  {
   "cell_type": "code",
   "execution_count": 92,
   "id": "4097e145",
   "metadata": {},
   "outputs": [],
   "source": [
    "final_prediction = final_model.predict(X_test_prepared)"
   ]
  },
  {
   "cell_type": "code",
   "execution_count": 94,
   "id": "5c4e9ab7",
   "metadata": {},
   "outputs": [
    {
     "data": {
      "text/plain": [
       "47730.22690385927"
      ]
     },
     "execution_count": 94,
     "metadata": {},
     "output_type": "execute_result"
    }
   ],
   "source": [
    "mean_squared_error(y_test, final_prediction, squared=False)"
   ]
  },
  {
   "cell_type": "markdown",
   "id": "0e015e8b",
   "metadata": {},
   "source": [
    "### 95% confidence interval for test RMSE"
   ]
  },
  {
   "cell_type": "code",
   "execution_count": 95,
   "id": "cebf8a7c",
   "metadata": {},
   "outputs": [],
   "source": [
    "from scipy import stats"
   ]
  },
  {
   "cell_type": "code",
   "execution_count": 96,
   "id": "c5cf2ed2",
   "metadata": {},
   "outputs": [
    {
     "data": {
      "text/plain": [
       "array([45685.10470776, 49691.25001878])"
      ]
     },
     "execution_count": 96,
     "metadata": {},
     "output_type": "execute_result"
    }
   ],
   "source": [
    "confidence = 0.95\n",
    "squared_errors = (final_prediction - y_test) ** 2\n",
    "np.sqrt(stats.t.interval(confidence, len(squared_errors) - 1,\n",
    "                        loc=squared_errors.mean(),\n",
    "                        scale=stats.sem(squared_errors)\n",
    "                        ))"
   ]
  }
 ],
 "metadata": {
  "kernelspec": {
   "display_name": "Python 3",
   "language": "python",
   "name": "python3"
  },
  "language_info": {
   "codemirror_mode": {
    "name": "ipython",
    "version": 3
   },
   "file_extension": ".py",
   "mimetype": "text/x-python",
   "name": "python",
   "nbconvert_exporter": "python",
   "pygments_lexer": "ipython3",
   "version": "3.8.8"
  }
 },
 "nbformat": 4,
 "nbformat_minor": 5
}
