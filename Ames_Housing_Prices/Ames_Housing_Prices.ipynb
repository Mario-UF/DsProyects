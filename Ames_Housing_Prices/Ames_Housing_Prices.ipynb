{
 "cells": [
  {
   "cell_type": "markdown",
   "id": "34654b94",
   "metadata": {},
   "source": [
    "# Ames Housing Price Predictor"
   ]
  },
  {
   "cell_type": "markdown",
   "id": "8c1501da",
   "metadata": {},
   "source": [
    "The objective is to predict the sales price for each house (SalePrice variable)"
   ]
  },
  {
   "cell_type": "code",
   "execution_count": 1,
   "id": "e7db75b2",
   "metadata": {},
   "outputs": [],
   "source": [
    "import numpy as np\n",
    "import pandas as pd\n",
    "import matplotlib.pyplot as plt\n",
    "%matplotlib inline\n",
    "import seaborn as sns"
   ]
  },
  {
   "cell_type": "code",
   "execution_count": 2,
   "id": "513e7119",
   "metadata": {},
   "outputs": [],
   "source": [
    "housing=pd.read_csv('train.csv')\n",
    "test=pd.read_csv('test.csv')\n",
    "housing_labels = housing['SalePrice'].copy()"
   ]
  },
  {
   "cell_type": "code",
   "execution_count": 3,
   "id": "0634c2fb",
   "metadata": {},
   "outputs": [],
   "source": [
    "train_len = len(housing)"
   ]
  },
  {
   "cell_type": "code",
   "execution_count": 4,
   "id": "7acd32d6",
   "metadata": {},
   "outputs": [
    {
     "name": "stdout",
     "output_type": "stream",
     "text": [
      "(1460, 81) (1459, 80)\n"
     ]
    }
   ],
   "source": [
    "print(housing.shape, test.shape)"
   ]
  },
  {
   "cell_type": "markdown",
   "id": "e6595c7d",
   "metadata": {},
   "source": [
    "# 1. Data Cleaning"
   ]
  },
  {
   "cell_type": "markdown",
   "id": "c143229d",
   "metadata": {},
   "source": [
    "we merge train and test data to perform the cleaning step"
   ]
  },
  {
   "cell_type": "code",
   "execution_count": 5,
   "id": "d09f542d",
   "metadata": {},
   "outputs": [
    {
     "data": {
      "text/plain": [
       "(2919, 80)"
      ]
     },
     "execution_count": 5,
     "metadata": {},
     "output_type": "execute_result"
    }
   ],
   "source": [
    "concat_df = pd.concat([housing,test]).reset_index(drop=True)\n",
    "concat_df = concat_df.drop('SalePrice',axis=1)\n",
    "concat_df.shape"
   ]
  },
  {
   "cell_type": "code",
   "execution_count": 6,
   "id": "1d521239",
   "metadata": {},
   "outputs": [],
   "source": [
    "#concat_df.info()"
   ]
  },
  {
   "cell_type": "markdown",
   "id": "0258d54f",
   "metadata": {},
   "source": [
    "## 1.1 Missing data"
   ]
  },
  {
   "cell_type": "code",
   "execution_count": 7,
   "id": "0a91ac39",
   "metadata": {
    "scrolled": true
   },
   "outputs": [
    {
     "data": {
      "text/plain": [
       "PoolQC          2909\n",
       "MiscFeature     2814\n",
       "Alley           2721\n",
       "Fence           2348\n",
       "FireplaceQu     1420\n",
       "LotFrontage      486\n",
       "GarageFinish     159\n",
       "GarageQual       159\n",
       "GarageCond       159\n",
       "GarageYrBlt      159\n",
       "GarageType       157\n",
       "BsmtExposure      82\n",
       "BsmtCond          82\n",
       "BsmtQual          81\n",
       "BsmtFinType2      80\n",
       "BsmtFinType1      79\n",
       "MasVnrType        24\n",
       "MasVnrArea        23\n",
       "MSZoning           4\n",
       "BsmtFullBath       2\n",
       "BsmtHalfBath       2\n",
       "Functional         2\n",
       "Utilities          2\n",
       "GarageArea         1\n",
       "GarageCars         1\n",
       "Electrical         1\n",
       "KitchenQual        1\n",
       "TotalBsmtSF        1\n",
       "BsmtUnfSF          1\n",
       "BsmtFinSF2         1\n",
       "BsmtFinSF1         1\n",
       "Exterior2nd        1\n",
       "Exterior1st        1\n",
       "SaleType           1\n",
       "dtype: int64"
      ]
     },
     "execution_count": 7,
     "metadata": {},
     "output_type": "execute_result"
    }
   ],
   "source": [
    "concat_df.isna().sum()[concat_df.isna().sum()>0].sort_values(ascending=False)"
   ]
  },
  {
   "cell_type": "markdown",
   "id": "f7023185",
   "metadata": {},
   "source": [
    "Most of the features seem to have missing values, but they are actually 'None' values"
   ]
  },
  {
   "cell_type": "code",
   "execution_count": 8,
   "id": "2b55798a",
   "metadata": {},
   "outputs": [],
   "source": [
    "concat_df['PoolQC'] = concat_df['PoolQC'].fillna('None')\n",
    "concat_df['MiscFeature'] = concat_df['MiscFeature'].fillna('None')\n",
    "concat_df['Alley'] = concat_df['Alley'].fillna('None')\n",
    "concat_df['Fence'] = concat_df['Fence'].fillna('None')\n",
    "concat_df['FireplaceQu'] = concat_df['FireplaceQu'].fillna('None')\n",
    "concat_df['MasVnrType'] = concat_df['MasVnrType'].fillna('None')\n",
    "\n",
    "concat_df['GarageCond'] = concat_df['GarageCond'].fillna('None')\n",
    "concat_df['GarageQual'] = concat_df['GarageQual'].fillna('None')\n",
    "concat_df['GarageFinish'] = concat_df['GarageFinish'].fillna('None')\n",
    "concat_df['GarageType'] = concat_df['GarageType'].fillna('None')\n",
    "\n",
    "concat_df['BsmtQual'] = concat_df['BsmtQual'].fillna('None')\n",
    "concat_df['BsmtCond'] = concat_df['BsmtCond'].fillna('None')\n",
    "concat_df['BsmtExposure'] = concat_df['BsmtExposure'].fillna('None')\n",
    "concat_df['BsmtFinType1'] = concat_df['BsmtFinType1'].fillna('None')\n",
    "concat_df['BsmtFinType2'] = concat_df['BsmtFinType2'].fillna('None')\n",
    "\n",
    "concat_df['Functional'] = concat_df['Functional'].fillna('Typ')  #Typical functionality"
   ]
  },
  {
   "cell_type": "code",
   "execution_count": 9,
   "id": "54d14f13",
   "metadata": {},
   "outputs": [],
   "source": [
    "#concat_df[concat_df['MasVnrArea'].isna()][['MasVnrArea','MasVnrType']]\n",
    "concat_df['MasVnrArea'] = concat_df['MasVnrArea'].fillna(0) #MasVnrArea NaN ocurrs when MasVnrType is None\n",
    "                                                            \n",
    "concat_df['BsmtFinSF1'] = concat_df['BsmtFinSF1'].fillna(0)\n",
    "concat_df['BsmtFinSF2'] = concat_df['BsmtFinSF2'].fillna(0)\n",
    "concat_df['BsmtUnfSF'] = concat_df['BsmtUnfSF'].fillna(0)\n",
    "concat_df['TotalBsmtSF'] = concat_df['TotalBsmtSF'].fillna(0)\n",
    "concat_df['BsmtFullBath'] = concat_df['BsmtFullBath'].fillna(0)\n",
    "concat_df['BsmtHalfBath'] = concat_df['BsmtHalfBath'].fillna(0)\n",
    "concat_df['GarageYrBlt'] = concat_df['GarageYrBlt'].fillna(0)\n",
    "concat_df['GarageArea'] = concat_df['GarageArea'].fillna(0)\n",
    "concat_df['GarageCars'] = concat_df['GarageCars'].fillna(0)"
   ]
  },
  {
   "cell_type": "markdown",
   "id": "91e9009f",
   "metadata": {},
   "source": [
    "The <b>MSZoning</b> missing data is from 'IDOTRR' & 'Mitchel' Neighborhoods, so we impute the most frecuent classification zone (RM & RL respectively):  "
   ]
  },
  {
   "cell_type": "code",
   "execution_count": 10,
   "id": "332bba92",
   "metadata": {},
   "outputs": [
    {
     "data": {
      "text/html": [
       "<div>\n",
       "<style scoped>\n",
       "    .dataframe tbody tr th:only-of-type {\n",
       "        vertical-align: middle;\n",
       "    }\n",
       "\n",
       "    .dataframe tbody tr th {\n",
       "        vertical-align: top;\n",
       "    }\n",
       "\n",
       "    .dataframe thead th {\n",
       "        text-align: right;\n",
       "    }\n",
       "</style>\n",
       "<table border=\"1\" class=\"dataframe\">\n",
       "  <thead>\n",
       "    <tr style=\"text-align: right;\">\n",
       "      <th></th>\n",
       "      <th></th>\n",
       "      <th>Id</th>\n",
       "      <th>MSSubClass</th>\n",
       "      <th>LotFrontage</th>\n",
       "      <th>LotArea</th>\n",
       "      <th>Street</th>\n",
       "      <th>Alley</th>\n",
       "      <th>LotShape</th>\n",
       "      <th>LandContour</th>\n",
       "      <th>Utilities</th>\n",
       "      <th>LotConfig</th>\n",
       "      <th>...</th>\n",
       "      <th>ScreenPorch</th>\n",
       "      <th>PoolArea</th>\n",
       "      <th>PoolQC</th>\n",
       "      <th>Fence</th>\n",
       "      <th>MiscFeature</th>\n",
       "      <th>MiscVal</th>\n",
       "      <th>MoSold</th>\n",
       "      <th>YrSold</th>\n",
       "      <th>SaleType</th>\n",
       "      <th>SaleCondition</th>\n",
       "    </tr>\n",
       "    <tr>\n",
       "      <th>Neighborhood</th>\n",
       "      <th>MSZoning</th>\n",
       "      <th></th>\n",
       "      <th></th>\n",
       "      <th></th>\n",
       "      <th></th>\n",
       "      <th></th>\n",
       "      <th></th>\n",
       "      <th></th>\n",
       "      <th></th>\n",
       "      <th></th>\n",
       "      <th></th>\n",
       "      <th></th>\n",
       "      <th></th>\n",
       "      <th></th>\n",
       "      <th></th>\n",
       "      <th></th>\n",
       "      <th></th>\n",
       "      <th></th>\n",
       "      <th></th>\n",
       "      <th></th>\n",
       "      <th></th>\n",
       "      <th></th>\n",
       "    </tr>\n",
       "  </thead>\n",
       "  <tbody>\n",
       "    <tr>\n",
       "      <th rowspan=\"2\" valign=\"top\">Mitchel</th>\n",
       "      <th>RL</th>\n",
       "      <td>104</td>\n",
       "      <td>104</td>\n",
       "      <td>81</td>\n",
       "      <td>104</td>\n",
       "      <td>104</td>\n",
       "      <td>104</td>\n",
       "      <td>104</td>\n",
       "      <td>104</td>\n",
       "      <td>104</td>\n",
       "      <td>104</td>\n",
       "      <td>...</td>\n",
       "      <td>104</td>\n",
       "      <td>104</td>\n",
       "      <td>104</td>\n",
       "      <td>104</td>\n",
       "      <td>104</td>\n",
       "      <td>104</td>\n",
       "      <td>104</td>\n",
       "      <td>104</td>\n",
       "      <td>104</td>\n",
       "      <td>104</td>\n",
       "    </tr>\n",
       "    <tr>\n",
       "      <th>RM</th>\n",
       "      <td>9</td>\n",
       "      <td>9</td>\n",
       "      <td>8</td>\n",
       "      <td>9</td>\n",
       "      <td>9</td>\n",
       "      <td>9</td>\n",
       "      <td>9</td>\n",
       "      <td>9</td>\n",
       "      <td>9</td>\n",
       "      <td>9</td>\n",
       "      <td>...</td>\n",
       "      <td>9</td>\n",
       "      <td>9</td>\n",
       "      <td>9</td>\n",
       "      <td>9</td>\n",
       "      <td>9</td>\n",
       "      <td>9</td>\n",
       "      <td>9</td>\n",
       "      <td>9</td>\n",
       "      <td>9</td>\n",
       "      <td>9</td>\n",
       "    </tr>\n",
       "    <tr>\n",
       "      <th rowspan=\"2\" valign=\"top\">IDOTRR</th>\n",
       "      <th>RM</th>\n",
       "      <td>68</td>\n",
       "      <td>68</td>\n",
       "      <td>63</td>\n",
       "      <td>68</td>\n",
       "      <td>68</td>\n",
       "      <td>68</td>\n",
       "      <td>68</td>\n",
       "      <td>68</td>\n",
       "      <td>68</td>\n",
       "      <td>68</td>\n",
       "      <td>...</td>\n",
       "      <td>68</td>\n",
       "      <td>68</td>\n",
       "      <td>68</td>\n",
       "      <td>68</td>\n",
       "      <td>68</td>\n",
       "      <td>68</td>\n",
       "      <td>68</td>\n",
       "      <td>68</td>\n",
       "      <td>68</td>\n",
       "      <td>68</td>\n",
       "    </tr>\n",
       "    <tr>\n",
       "      <th>C (all)</th>\n",
       "      <td>22</td>\n",
       "      <td>22</td>\n",
       "      <td>22</td>\n",
       "      <td>22</td>\n",
       "      <td>22</td>\n",
       "      <td>22</td>\n",
       "      <td>22</td>\n",
       "      <td>22</td>\n",
       "      <td>22</td>\n",
       "      <td>22</td>\n",
       "      <td>...</td>\n",
       "      <td>22</td>\n",
       "      <td>22</td>\n",
       "      <td>22</td>\n",
       "      <td>22</td>\n",
       "      <td>22</td>\n",
       "      <td>22</td>\n",
       "      <td>22</td>\n",
       "      <td>22</td>\n",
       "      <td>22</td>\n",
       "      <td>22</td>\n",
       "    </tr>\n",
       "  </tbody>\n",
       "</table>\n",
       "<p>4 rows × 78 columns</p>\n",
       "</div>"
      ],
      "text/plain": [
       "                        Id  MSSubClass  LotFrontage  LotArea  Street  Alley  \\\n",
       "Neighborhood MSZoning                                                         \n",
       "Mitchel      RL        104         104           81      104     104    104   \n",
       "             RM          9           9            8        9       9      9   \n",
       "IDOTRR       RM         68          68           63       68      68     68   \n",
       "             C (all)    22          22           22       22      22     22   \n",
       "\n",
       "                       LotShape  LandContour  Utilities  LotConfig  ...  \\\n",
       "Neighborhood MSZoning                                               ...   \n",
       "Mitchel      RL             104          104        104        104  ...   \n",
       "             RM               9            9          9          9  ...   \n",
       "IDOTRR       RM              68           68         68         68  ...   \n",
       "             C (all)         22           22         22         22  ...   \n",
       "\n",
       "                       ScreenPorch  PoolArea  PoolQC  Fence  MiscFeature  \\\n",
       "Neighborhood MSZoning                                                      \n",
       "Mitchel      RL                104       104     104    104          104   \n",
       "             RM                  9         9       9      9            9   \n",
       "IDOTRR       RM                 68        68      68     68           68   \n",
       "             C (all)            22        22      22     22           22   \n",
       "\n",
       "                       MiscVal  MoSold  YrSold  SaleType  SaleCondition  \n",
       "Neighborhood MSZoning                                                    \n",
       "Mitchel      RL            104     104     104       104            104  \n",
       "             RM              9       9       9         9              9  \n",
       "IDOTRR       RM             68      68      68        68             68  \n",
       "             C (all)        22      22      22        22             22  \n",
       "\n",
       "[4 rows x 78 columns]"
      ]
     },
     "execution_count": 10,
     "metadata": {},
     "output_type": "execute_result"
    }
   ],
   "source": [
    "concat_df.groupby(['Neighborhood','MSZoning']).count().loc[['IDOTRR','Mitchel']].sort_values(['Neighborhood','Id'], ascending=False)"
   ]
  },
  {
   "cell_type": "code",
   "execution_count": 11,
   "id": "e1daa89d",
   "metadata": {},
   "outputs": [],
   "source": [
    "concat_df.loc[concat_df['MSZoning'].isna(),'MSZoning'] = concat_df['Neighborhood'].map({'IDOTRR':'RM','Mitchel':'RL'})"
   ]
  },
  {
   "cell_type": "markdown",
   "id": "ad285d19",
   "metadata": {},
   "source": [
    "The <b>Exterior1st & Exterior2nd</b> missing data correspond to the same instance, so we impute it based on the most common value according to the house quality ('OverallQual'= 5), i.e 'MetalSd'"
   ]
  },
  {
   "cell_type": "code",
   "execution_count": 12,
   "id": "094ad198",
   "metadata": {
    "scrolled": true
   },
   "outputs": [
    {
     "data": {
      "text/html": [
       "<div>\n",
       "<style scoped>\n",
       "    .dataframe tbody tr th:only-of-type {\n",
       "        vertical-align: middle;\n",
       "    }\n",
       "\n",
       "    .dataframe tbody tr th {\n",
       "        vertical-align: top;\n",
       "    }\n",
       "\n",
       "    .dataframe thead th {\n",
       "        text-align: right;\n",
       "    }\n",
       "</style>\n",
       "<table border=\"1\" class=\"dataframe\">\n",
       "  <thead>\n",
       "    <tr style=\"text-align: right;\">\n",
       "      <th></th>\n",
       "      <th>Id</th>\n",
       "      <th>MSSubClass</th>\n",
       "      <th>MSZoning</th>\n",
       "      <th>LotFrontage</th>\n",
       "      <th>LotArea</th>\n",
       "      <th>Street</th>\n",
       "      <th>Alley</th>\n",
       "      <th>LotShape</th>\n",
       "      <th>LandContour</th>\n",
       "      <th>Utilities</th>\n",
       "      <th>...</th>\n",
       "      <th>ScreenPorch</th>\n",
       "      <th>PoolArea</th>\n",
       "      <th>PoolQC</th>\n",
       "      <th>Fence</th>\n",
       "      <th>MiscFeature</th>\n",
       "      <th>MiscVal</th>\n",
       "      <th>MoSold</th>\n",
       "      <th>YrSold</th>\n",
       "      <th>SaleType</th>\n",
       "      <th>SaleCondition</th>\n",
       "    </tr>\n",
       "    <tr>\n",
       "      <th>Exterior1st</th>\n",
       "      <th></th>\n",
       "      <th></th>\n",
       "      <th></th>\n",
       "      <th></th>\n",
       "      <th></th>\n",
       "      <th></th>\n",
       "      <th></th>\n",
       "      <th></th>\n",
       "      <th></th>\n",
       "      <th></th>\n",
       "      <th></th>\n",
       "      <th></th>\n",
       "      <th></th>\n",
       "      <th></th>\n",
       "      <th></th>\n",
       "      <th></th>\n",
       "      <th></th>\n",
       "      <th></th>\n",
       "      <th></th>\n",
       "      <th></th>\n",
       "      <th></th>\n",
       "    </tr>\n",
       "  </thead>\n",
       "  <tbody>\n",
       "    <tr>\n",
       "      <th>MetalSd</th>\n",
       "      <td>176</td>\n",
       "      <td>176</td>\n",
       "      <td>176</td>\n",
       "      <td>156</td>\n",
       "      <td>176</td>\n",
       "      <td>176</td>\n",
       "      <td>176</td>\n",
       "      <td>176</td>\n",
       "      <td>176</td>\n",
       "      <td>176</td>\n",
       "      <td>...</td>\n",
       "      <td>176</td>\n",
       "      <td>176</td>\n",
       "      <td>176</td>\n",
       "      <td>176</td>\n",
       "      <td>176</td>\n",
       "      <td>176</td>\n",
       "      <td>176</td>\n",
       "      <td>176</td>\n",
       "      <td>176</td>\n",
       "      <td>176</td>\n",
       "    </tr>\n",
       "  </tbody>\n",
       "</table>\n",
       "<p>1 rows × 78 columns</p>\n",
       "</div>"
      ],
      "text/plain": [
       "              Id  MSSubClass  MSZoning  LotFrontage  LotArea  Street  Alley  \\\n",
       "Exterior1st                                                                   \n",
       "MetalSd      176         176       176          156      176     176    176   \n",
       "\n",
       "             LotShape  LandContour  Utilities  ...  ScreenPorch  PoolArea  \\\n",
       "Exterior1st                                    ...                          \n",
       "MetalSd           176          176        176  ...          176       176   \n",
       "\n",
       "             PoolQC  Fence  MiscFeature  MiscVal  MoSold  YrSold  SaleType  \\\n",
       "Exterior1st                                                                  \n",
       "MetalSd         176    176          176      176     176     176       176   \n",
       "\n",
       "             SaleCondition  \n",
       "Exterior1st                 \n",
       "MetalSd                176  \n",
       "\n",
       "[1 rows x 78 columns]"
      ]
     },
     "execution_count": 12,
     "metadata": {},
     "output_type": "execute_result"
    }
   ],
   "source": [
    "#concat_df[concat_df['Exterior1st'].isna()|concat_df['Exterior2nd'].isna()]['OverallQual']  #OverallQual = 5\n",
    "\n",
    "concat_df.groupby(['OverallQual','Exterior1st']).count().loc[5].sort_values('LotFrontage',ascending=False).head(1) #same outcome for 'Exterior2nd'"
   ]
  },
  {
   "cell_type": "code",
   "execution_count": 13,
   "id": "fa700beb",
   "metadata": {},
   "outputs": [],
   "source": [
    "concat_df[['Exterior1st','Exterior2nd']] = concat_df[['Exterior1st','Exterior2nd']].fillna('MetalSd')"
   ]
  },
  {
   "cell_type": "markdown",
   "id": "52adb390",
   "metadata": {},
   "source": [
    "<b>Electrical & KitchenQual & SaleType</b> features only have 1 missing value and it will be imputed with the most frecuent value."
   ]
  },
  {
   "cell_type": "code",
   "execution_count": 14,
   "id": "b9c9d271",
   "metadata": {},
   "outputs": [],
   "source": [
    "concat_df['Electrical'] = concat_df['Electrical'].fillna(concat_df['Electrical'].mode()[0])\n",
    "concat_df['KitchenQual'] = concat_df['KitchenQual'].fillna(concat_df['KitchenQual'].mode()[0])\n",
    "concat_df['SaleType'] = concat_df['SaleType'].fillna(concat_df['SaleType'].mode()[0])"
   ]
  },
  {
   "cell_type": "markdown",
   "id": "ac813fe3",
   "metadata": {},
   "source": [
    "The <b>Utilities</b> feature only contains \"AllPub\" values, so it won't help to train the model. Therefore, it will be dropped."
   ]
  },
  {
   "cell_type": "code",
   "execution_count": 15,
   "id": "3170b19d",
   "metadata": {},
   "outputs": [],
   "source": [
    "concat_df = concat_df.drop('Utilities', axis=1)"
   ]
  },
  {
   "cell_type": "markdown",
   "id": "d88fa901",
   "metadata": {},
   "source": [
    "In order to imput <b>LotFrontage</b>, we explore the alternatives of doing so based on Neighborhood and Building type. Preferring the first option since the houses median according to their neighborhood should be more representative (median instead of mean due to the presence of outliers)."
   ]
  },
  {
   "cell_type": "code",
   "execution_count": 16,
   "id": "91a79d67",
   "metadata": {},
   "outputs": [
    {
     "data": {
      "text/plain": [
       "<AxesSubplot:xlabel='BldgType', ylabel='LotFrontage'>"
      ]
     },
     "execution_count": 16,
     "metadata": {},
     "output_type": "execute_result"
    },
    {
     "data": {
      "image/png": "[encoded data removed]",
      "text/plain": [
       "<Figure size 1080x288 with 2 Axes>"
      ]
     },
     "metadata": {
      "needs_background": "light"
     },
     "output_type": "display_data"
    }
   ],
   "source": [
    "f,ax = plt.subplots(1,2,figsize=(15,4))\n",
    "ax[0].tick_params(axis='x', rotation=90)\n",
    "sns.boxplot(data=concat_df, x='Neighborhood', y='LotFrontage',ax=ax[0])\n",
    "sns.boxplot(data=concat_df, x='BldgType', y='LotFrontage',ax=ax[1]);"
   ]
  },
  {
   "cell_type": "markdown",
   "id": "b14d1ce6",
   "metadata": {},
   "source": [
    "But before imputing, We can clearly observe 2 <b>Outliers</b> away from the rest of the instances, which are more evident when we plot the 'LotFrontage' against the target value 'SalePrice'"
   ]
  },
  {
   "cell_type": "code",
   "execution_count": 17,
   "id": "f90f066a",
   "metadata": {
    "scrolled": true
   },
   "outputs": [
    {
     "data": {
      "text/plain": [
       "<AxesSubplot:xlabel='LotFrontage', ylabel='SalePrice'>"
      ]
     },
     "execution_count": 17,
     "metadata": {},
     "output_type": "execute_result"
    },
    {
     "data": {
      "image/png": "[encoded data removed]",
      "text/plain": [
       "<Figure size 432x288 with 1 Axes>"
      ]
     },
     "metadata": {
      "needs_background": "light"
     },
     "output_type": "display_data"
    }
   ],
   "source": [
    "sns.scatterplot(x=concat_df.loc[:train_len,'LotFrontage'],y=housing_labels);"
   ]
  },
  {
   "cell_type": "markdown",
   "id": "25891788",
   "metadata": {},
   "source": [
    "So we proceed to <b>drop</b> both instances (both from trainig data so we modify train_len & housing_labels too)"
   ]
  },
  {
   "cell_type": "code",
   "execution_count": 18,
   "id": "a8e06f70",
   "metadata": {},
   "outputs": [],
   "source": [
    "outlyr_idx = concat_df[concat_df['LotFrontage']>300].index\n",
    "concat_df = concat_df.drop(outlyr_idx).reset_index(drop=True)\n",
    "housing_labels = housing_labels.drop(outlyr_idx).reset_index(drop=True)\n",
    "train_len = train_len - 2"
   ]
  },
  {
   "cell_type": "markdown",
   "id": "2e1d4c47",
   "metadata": {},
   "source": [
    "and then we proceed to impute <b>LotFrontage</b> missing data"
   ]
  },
  {
   "cell_type": "code",
   "execution_count": 19,
   "id": "062712c4",
   "metadata": {},
   "outputs": [],
   "source": [
    "neigh_median = concat_df.groupby('Neighborhood')['LotFrontage'].mean()\n",
    "concat_df.loc[concat_df['LotFrontage'].isna(),'LotFrontage']=concat_df['Neighborhood'].map(neigh_median)"
   ]
  },
  {
   "cell_type": "markdown",
   "id": "cb61c82e",
   "metadata": {},
   "source": [
    "## 1.2 Data type correction"
   ]
  },
  {
   "cell_type": "markdown",
   "id": "6eddfa00",
   "metadata": {},
   "source": [
    "<b>MSSubClass</b> & <b>MoSold</b> as categorical variables"
   ]
  },
  {
   "cell_type": "code",
   "execution_count": 20,
   "id": "7200d408",
   "metadata": {},
   "outputs": [],
   "source": [
    "concat_df['MSSubClass'] = concat_df['MSSubClass'].astype(str)\n",
    "concat_df['MoSold'] = concat_df['MoSold'].astype(str)"
   ]
  },
  {
   "cell_type": "markdown",
   "id": "c98a51e6",
   "metadata": {},
   "source": [
    "# 2. EDA"
   ]
  },
  {
   "cell_type": "code",
   "execution_count": 21,
   "id": "19c43fcc",
   "metadata": {},
   "outputs": [],
   "source": [
    "housing = pd.concat([concat_df[:train_len],housing_labels],axis=1)\n",
    "test = concat_df[train_len:]"
   ]
  },
  {
   "cell_type": "code",
   "execution_count": 22,
   "id": "e8f21ac8",
   "metadata": {
    "scrolled": true
   },
   "outputs": [
    {
     "name": "stdout",
     "output_type": "stream",
     "text": [
      "36 Index(['Id', 'LotFrontage', 'LotArea', 'OverallQual', 'OverallCond',\n",
      "       'YearBuilt', 'YearRemodAdd', 'MasVnrArea', 'BsmtFinSF1', 'BsmtFinSF2',\n",
      "       'BsmtUnfSF', 'TotalBsmtSF', '1stFlrSF', '2ndFlrSF', 'LowQualFinSF',\n",
      "       'GrLivArea', 'BsmtFullBath', 'BsmtHalfBath', 'FullBath', 'HalfBath',\n",
      "       'BedroomAbvGr', 'KitchenAbvGr', 'TotRmsAbvGrd', 'Fireplaces',\n",
      "       'GarageYrBlt', 'GarageCars', 'GarageArea', 'WoodDeckSF', 'OpenPorchSF',\n",
      "       'EnclosedPorch', '3SsnPorch', 'ScreenPorch', 'PoolArea', 'MiscVal',\n",
      "       'YrSold', 'SalePrice'],\n",
      "      dtype='object')\n"
     ]
    }
   ],
   "source": [
    "num_atr=housing._get_numeric_data().columns\n",
    "print(len(num_atr),num_atr)"
   ]
  },
  {
   "cell_type": "code",
   "execution_count": 23,
   "id": "34b90def",
   "metadata": {
    "scrolled": false
   },
   "outputs": [
    {
     "data": {
      "image/png": "[encoded data removed]",
      "text/plain": [
       "<Figure size 720x576 with 2 Axes>"
      ]
     },
     "metadata": {
      "needs_background": "light"
     },
     "output_type": "display_data"
    }
   ],
   "source": [
    "plt.figure(figsize=(10,8))\n",
    "sns.heatmap(housing.corr(), center=0, cmap='coolwarm');"
   ]
  },
  {
   "cell_type": "markdown",
   "id": "23ec30d2",
   "metadata": {},
   "source": [
    "this way we can see some logical correlations between variables such as garage area and garage cars, and confirm others such as year built and Overall quality. To understand how they could help us with our price prediction, we will study the correlation with our target variable Sale Price"
   ]
  },
  {
   "cell_type": "code",
   "execution_count": 24,
   "id": "4fa52872",
   "metadata": {
    "scrolled": false
   },
   "outputs": [
    {
     "data": {
      "image/png": "[encoded data removed]",
      "text/plain": [
       "<Figure size 360x576 with 2 Axes>"
      ]
     },
     "metadata": {
      "needs_background": "light"
     },
     "output_type": "display_data"
    }
   ],
   "source": [
    "plt.figure(figsize=(5,8))\n",
    "sns.heatmap(housing.corr()[['SalePrice']].sort_values('SalePrice',ascending=False), annot=True);"
   ]
  },
  {
   "cell_type": "markdown",
   "id": "c1aa8259",
   "metadata": {},
   "source": [
    "There are several variables with corr above 0.5 so we will take a closer loot at 6 of them, understanding that some are highly correlated (for instance GarageArea & GarageCars)"
   ]
  },
  {
   "cell_type": "code",
   "execution_count": 25,
   "id": "babb9dca",
   "metadata": {
    "scrolled": false
   },
   "outputs": [
    {
     "data": {
      "image/png": "[encoded data removed]",
      "text/plain": [
       "<Figure size 1224x216 with 6 Axes>"
      ]
     },
     "metadata": {
      "needs_background": "light"
     },
     "output_type": "display_data"
    }
   ],
   "source": [
    "f, ax = plt.subplots(1,6, figsize=(17,3))\n",
    "plt.subplots_adjust(wspace=0.8)\n",
    "#plt.figure(figsize=(3,8))\n",
    "sns.heatmap(housing.corr()[['OverallQual']].sort_values('OverallQual',ascending=False)[:12], annot=True, ax=ax[0], cbar=False);\n",
    "sns.heatmap(housing.corr()[['GrLivArea']].sort_values('GrLivArea',ascending=False)[:12], annot=True, ax=ax[1], cbar=False);\n",
    "sns.heatmap(housing.corr()[['TotalBsmtSF']].sort_values('TotalBsmtSF',ascending=False)[:12], annot=True, ax=ax[2], cbar=False);\n",
    "sns.heatmap(housing.corr()[['GarageCars']].sort_values('GarageCars',ascending=False)[:12], annot=True, ax=ax[3], cbar=False);\n",
    "sns.heatmap(housing.corr()[['FullBath']].sort_values('FullBath',ascending=False)[:12], annot=True, ax=ax[4], cbar=False);\n",
    "sns.heatmap(housing.corr()[['YearBuilt']].sort_values('YearBuilt',ascending=False)[:12], annot=True, ax=ax[5], cbar=False);\n"
   ]
  },
  {
   "cell_type": "markdown",
   "id": "be45ada7",
   "metadata": {},
   "source": [
    "we can see a strong correlation between square feet and SalePrice, so we should create \"TotalHouseSF\" variable (we will address this later, feature eng part), adding 'GrLivArea' and 'TotalBsmtSF' (Garage Area will be considered on its own)."
   ]
  },
  {
   "cell_type": "markdown",
   "id": "e8b5b1b1",
   "metadata": {},
   "source": [
    "Finally it is always useful to visually check the scatterplot distribution of each variable according to Sale Price. At the end we can observe how SalePrice is right skewed, we will tackle that in the feature engeeniering part."
   ]
  },
  {
   "cell_type": "code",
   "execution_count": 26,
   "id": "3ac753b7",
   "metadata": {},
   "outputs": [],
   "source": [
    "#sns.pairplot(housing[num_atr],y_vars=num_atr,x_vars='SalePrice',aspect=1.5,plot_kws={'alpha': 0.4});"
   ]
  },
  {
   "cell_type": "markdown",
   "id": "b1f67b92",
   "metadata": {},
   "source": [
    "# 3. Feature Engeeniering"
   ]
  },
  {
   "cell_type": "markdown",
   "id": "5eca81fe",
   "metadata": {},
   "source": [
    "## 3.1 Adding TotalHouseSF:"
   ]
  },
  {
   "cell_type": "markdown",
   "id": "5ff5b7f9",
   "metadata": {},
   "source": [
    "As we saw before, a new variable with the total house square feet could be a great predictor, so we proceed to create it:"
   ]
  },
  {
   "cell_type": "code",
   "execution_count": 27,
   "id": "087682d1",
   "metadata": {},
   "outputs": [],
   "source": [
    "concat_df['TotalHouseSF'] = concat_df['GrLivArea'] + concat_df['TotalBsmtSF']"
   ]
  },
  {
   "cell_type": "markdown",
   "id": "44f7360e",
   "metadata": {},
   "source": [
    "## 3.2 Skewed Features:"
   ]
  },
  {
   "cell_type": "markdown",
   "id": "68c55c74",
   "metadata": {},
   "source": [
    "The skewness is very relevant for linear models, so we will start analyzing the SalePrice distribution to see how symmetric it is:"
   ]
  },
  {
   "cell_type": "code",
   "execution_count": 28,
   "id": "b59a2e64",
   "metadata": {},
   "outputs": [
    {
     "data": {
      "image/png": "[encoded data removed]",
      "text/plain": [
       "<Figure size 432x288 with 1 Axes>"
      ]
     },
     "metadata": {
      "needs_background": "light"
     },
     "output_type": "display_data"
    }
   ],
   "source": [
    "plt.title('SalePrice')\n",
    "housing_labels.hist(bins=30,grid=False);"
   ]
  },
  {
   "cell_type": "markdown",
   "id": "07d926b6",
   "metadata": {},
   "source": [
    "As we can see, it is right skewed, and since linear models work better with evenly distributed data, we can center it through a logarithmic transformation to approximate to a more symmetric distribution."
   ]
  },
  {
   "cell_type": "code",
   "execution_count": 29,
   "id": "65f896cd",
   "metadata": {},
   "outputs": [
    {
     "data": {
      "image/png": "[encoded data removed]",
      "text/plain": [
       "<Figure size 432x288 with 1 Axes>"
      ]
     },
     "metadata": {
      "needs_background": "light"
     },
     "output_type": "display_data"
    }
   ],
   "source": [
    "plt.title('Log(SalePrice)')\n",
    "np.log(housing_labels).hist(bins=30,grid=False);"
   ]
  },
  {
   "cell_type": "code",
   "execution_count": 30,
   "id": "a01d61cf",
   "metadata": {},
   "outputs": [],
   "source": [
    "housing_labels = np.log(housing_labels)"
   ]
  },
  {
   "cell_type": "markdown",
   "id": "4a1febb9",
   "metadata": {},
   "source": [
    "We can extend this to the features, so we will transform them when unbiased skewness is over 0.65 (0.5 is a rule of thumb for moderate skewness, so will give a little more margin).\n",
    "(cons:GarageYrBlt is skewed due to the high number of 0)"
   ]
  },
  {
   "cell_type": "code",
   "execution_count": 31,
   "id": "a141a65c",
   "metadata": {},
   "outputs": [
    {
     "data": {
      "text/plain": [
       "MiscVal          21.950962\n",
       "PoolArea         17.697766\n",
       "LotArea          13.064929\n",
       "LowQualFinSF     12.090757\n",
       "3SsnPorch        11.377932\n",
       "KitchenAbvGr      4.302763\n",
       "BsmtFinSF2        4.146636\n",
       "EnclosedPorch     4.004404\n",
       "ScreenPorch       3.947131\n",
       "BsmtHalfBath      3.932018\n",
       "MasVnrArea        2.618126\n",
       "OpenPorchSF       2.540137\n",
       "WoodDeckSF        1.844187\n",
       "1stFlrSF          1.283349\n",
       "GrLivArea         1.129981\n",
       "TotalHouseSF      1.084866\n",
       "BsmtFinSF1        0.991938\n",
       "BsmtUnfSF         0.919016\n",
       "2ndFlrSF          0.862829\n",
       "TotRmsAbvGrd      0.753015\n",
       "Fireplaces        0.725651\n",
       "TotalBsmtSF       0.697775\n",
       "HalfBath          0.695429\n",
       "GarageYrBlt      -3.906636\n",
       "dtype: float64"
      ]
     },
     "execution_count": 31,
     "metadata": {},
     "output_type": "execute_result"
    }
   ],
   "source": [
    "num_atr = concat_df.select_dtypes(exclude='object').columns\n",
    "concat_df[num_atr].skew()[abs(concat_df.skew())>0.65].sort_values(ascending=False)"
   ]
  },
  {
   "cell_type": "markdown",
   "id": "14d820b4",
   "metadata": {},
   "source": [
    "Since we have some feature values equal to cero, we transform the variables using <b>natural logarithmic(x+1)</b>, to avoid having negative infinite values. "
   ]
  },
  {
   "cell_type": "code",
   "execution_count": 32,
   "id": "6c520365",
   "metadata": {},
   "outputs": [],
   "source": [
    "skw_feat = concat_df[num_atr].skew()[concat_df.skew()>0.65].index\n",
    "concat_df[skw_feat] = np.log(concat_df[skw_feat]+1)"
   ]
  },
  {
   "cell_type": "code",
   "execution_count": 33,
   "id": "9670d058",
   "metadata": {},
   "outputs": [],
   "source": [
    "housing = pd.concat([concat_df[:train_len],housing_labels],axis=1)\n",
    "test = concat_df[train_len:]"
   ]
  },
  {
   "cell_type": "markdown",
   "id": "5b87a2dd",
   "metadata": {},
   "source": [
    "Finally we explore the correlation with SalePrice again, where most of the variables improve their coefficient and where we can observe that the added feature 'TotalHouseSF' has a high correlation with the target "
   ]
  },
  {
   "cell_type": "code",
   "execution_count": 34,
   "id": "cc94cc28",
   "metadata": {
    "scrolled": true
   },
   "outputs": [
    {
     "data": {
      "image/png": "[encoded data removed]",
      "text/plain": [
       "<Figure size 360x576 with 2 Axes>"
      ]
     },
     "metadata": {
      "needs_background": "light"
     },
     "output_type": "display_data"
    }
   ],
   "source": [
    "plt.figure(figsize=(5,8))\n",
    "sns.heatmap(housing.corr()[['SalePrice']].sort_values('SalePrice',ascending=False), annot=True);"
   ]
  },
  {
   "cell_type": "code",
   "execution_count": 35,
   "id": "98485fdc",
   "metadata": {},
   "outputs": [],
   "source": [
    "housing = housing.drop('SalePrice', axis=1)"
   ]
  },
  {
   "cell_type": "markdown",
   "id": "6bffdecf",
   "metadata": {},
   "source": [
    "## 3.3 Numerical Features Pipeline:"
   ]
  },
  {
   "cell_type": "markdown",
   "id": "380f450d",
   "metadata": {},
   "source": [
    "Finally we add a Pipeline to apply standardization on the features"
   ]
  },
  {
   "cell_type": "code",
   "execution_count": 36,
   "id": "602844e2",
   "metadata": {},
   "outputs": [],
   "source": [
    "from sklearn.pipeline import Pipeline\n",
    "from sklearn.preprocessing import StandardScaler\n",
    "from sklearn.preprocessing import PolynomialFeatures\n",
    "\n",
    "pipe = Pipeline([('scaler',StandardScaler())\n",
    "                #,('poli_tranf',PolynomialFeatures(degree=2,include_bias=False)) #after exploring models, i decided not to use polynomial transformation\n",
    "                ])"
   ]
  },
  {
   "cell_type": "markdown",
   "id": "c3738429",
   "metadata": {},
   "source": [
    "## 3.4 Categorical Features:"
   ]
  },
  {
   "cell_type": "code",
   "execution_count": 37,
   "id": "c18fca08",
   "metadata": {},
   "outputs": [],
   "source": [
    "num_atr = housing.select_dtypes(exclude='object').columns\n",
    "cat_atr = housing.select_dtypes(include='object').columns"
   ]
  },
  {
   "cell_type": "markdown",
   "id": "63e3f6e6",
   "metadata": {},
   "source": [
    "Now we will complement the Pipeline Above and include OneHotEncoder for categorical variables. Since we are using Models with regularization later, we won't drop any feature, because doing so would change the optimization problem and therefore the optimal."
   ]
  },
  {
   "cell_type": "code",
   "execution_count": 38,
   "id": "bd6f5d8f",
   "metadata": {},
   "outputs": [],
   "source": [
    "from sklearn.preprocessing import OneHotEncoder\n",
    "from sklearn.compose import ColumnTransformer\n",
    "\n",
    "full_pipe = ColumnTransformer([\n",
    "        (\"num\",pipe,num_atr),\n",
    "        (\"cat\",OneHotEncoder(handle_unknown='ignore',drop=None),cat_atr)  #we don't drop the first cat per feature ONLY in regularized models \n",
    "    ])"
   ]
  },
  {
   "cell_type": "code",
   "execution_count": 39,
   "id": "18f26bca",
   "metadata": {},
   "outputs": [],
   "source": [
    "housing_prepared = full_pipe.fit_transform(housing)"
   ]
  },
  {
   "cell_type": "code",
   "execution_count": 40,
   "id": "7fa6d29c",
   "metadata": {
    "scrolled": true
   },
   "outputs": [],
   "source": [
    "cat_names = full_pipe.named_transformers_['cat'].get_feature_names()\n",
    "tot_column_names=list(num_atr)+list(cat_names)"
   ]
  },
  {
   "cell_type": "markdown",
   "id": "f76131e1",
   "metadata": {},
   "source": [
    "# 4. Training Model"
   ]
  },
  {
   "cell_type": "markdown",
   "id": "8e9f6eab",
   "metadata": {},
   "source": [
    "We will use RMSE as our cost function, this will be calculated using cross validation to leverage the amount of data available to train"
   ]
  },
  {
   "cell_type": "code",
   "execution_count": 41,
   "id": "62646246",
   "metadata": {},
   "outputs": [],
   "source": [
    "from sklearn.model_selection import cross_val_score\n",
    "\n",
    "def rmse_cv(model, X,y):\n",
    "    scores = cross_val_score(model,X, y, scoring='neg_root_mean_squared_error',cv=10)\n",
    "    return(scores)\n",
    "\n",
    "def display_cv_score(s):\n",
    "    print(f'  mean:{-s.mean()}')\n",
    "    print(f'  std:{s.std()}')"
   ]
  },
  {
   "cell_type": "markdown",
   "id": "a413ccd2",
   "metadata": {},
   "source": [
    "## 4.1 Base Models"
   ]
  },
  {
   "cell_type": "markdown",
   "id": "4b543e58",
   "metadata": {},
   "source": [
    "### Linear, Ridge, Lasso and ElasticNet Regresion"
   ]
  },
  {
   "cell_type": "code",
   "execution_count": 42,
   "id": "01f0adc2",
   "metadata": {},
   "outputs": [],
   "source": [
    "from sklearn.linear_model import LinearRegression, Ridge, Lasso, ElasticNet\n",
    "\n",
    "lm = LinearRegression()\n",
    "rm = Ridge(alpha=0.1)\n",
    "lasso = Lasso(alpha=0.1,max_iter=2000)\n",
    "elastic_net = ElasticNet(alpha=0.1,l1_ratio=0.5,max_iter=2000)"
   ]
  },
  {
   "cell_type": "code",
   "execution_count": 43,
   "id": "cf63ed54",
   "metadata": {},
   "outputs": [
    {
     "name": "stdout",
     "output_type": "stream",
     "text": [
      "Linear reg:\n",
      "  mean:0.13592845596099384\n",
      "  std:0.035853427569899766\n",
      "Ridge reg:\n",
      "  mean:0.12337524578609513\n",
      "  std:0.02020068529388576\n",
      "Lasso reg:\n",
      "  mean:0.20570135513622692\n",
      "  std:0.01713450160378756\n",
      "Elastic Net reg:\n",
      "  mean:0.16694719406199576\n",
      "  std:0.014202910513279581\n"
     ]
    }
   ],
   "source": [
    "print('Linear reg:')\n",
    "display_cv_score(rmse_cv(lm,housing_prepared, housing_labels))\n",
    "\n",
    "print('Ridge reg:')\n",
    "display_cv_score(rmse_cv(rm,housing_prepared, housing_labels))\n",
    "\n",
    "print('Lasso reg:')\n",
    "display_cv_score(rmse_cv(lasso,housing_prepared, housing_labels))\n",
    "\n",
    "print('Elastic Net reg:')\n",
    "display_cv_score(rmse_cv(elastic_net,housing_prepared, housing_labels))"
   ]
  },
  {
   "cell_type": "markdown",
   "id": "87c99dfa",
   "metadata": {},
   "source": [
    "## 4.2 Fine Tune model parameters"
   ]
  },
  {
   "cell_type": "markdown",
   "id": "50fcfe45",
   "metadata": {},
   "source": [
    "## 4.2.1 Fine Tune model without feature selection"
   ]
  },
  {
   "cell_type": "code",
   "execution_count": 44,
   "id": "2226d6de",
   "metadata": {},
   "outputs": [],
   "source": [
    "from sklearn.model_selection import GridSearchCV"
   ]
  },
  {
   "cell_type": "code",
   "execution_count": 45,
   "id": "d9d7ecd6",
   "metadata": {},
   "outputs": [],
   "source": [
    "def grid(model,X,y,params,results):\n",
    "    mod = GridSearchCV(model,params,cv=10,scoring='neg_root_mean_squared_error')\n",
    "    mod.fit(X,y)\n",
    "    df = pd.DataFrame(mod.cv_results_)[results].sort_values('mean_test_score')\n",
    "    return(df)"
   ]
  },
  {
   "cell_type": "markdown",
   "id": "d9803230",
   "metadata": {},
   "source": [
    "### Ridge"
   ]
  },
  {
   "cell_type": "code",
   "execution_count": 46,
   "id": "1b09e498",
   "metadata": {},
   "outputs": [
    {
     "data": {
      "text/html": [
       "<div>\n",
       "<style scoped>\n",
       "    .dataframe tbody tr th:only-of-type {\n",
       "        vertical-align: middle;\n",
       "    }\n",
       "\n",
       "    .dataframe tbody tr th {\n",
       "        vertical-align: top;\n",
       "    }\n",
       "\n",
       "    .dataframe thead th {\n",
       "        text-align: right;\n",
       "    }\n",
       "</style>\n",
       "<table border=\"1\" class=\"dataframe\">\n",
       "  <thead>\n",
       "    <tr style=\"text-align: right;\">\n",
       "      <th></th>\n",
       "      <th>param_alpha</th>\n",
       "      <th>mean_test_score</th>\n",
       "    </tr>\n",
       "  </thead>\n",
       "  <tbody>\n",
       "    <tr>\n",
       "      <th>0</th>\n",
       "      <td>0.005</td>\n",
       "      <td>-0.124519</td>\n",
       "    </tr>\n",
       "    <tr>\n",
       "      <th>1</th>\n",
       "      <td>0.05</td>\n",
       "      <td>-0.123945</td>\n",
       "    </tr>\n",
       "    <tr>\n",
       "      <th>2</th>\n",
       "      <td>0.1</td>\n",
       "      <td>-0.123375</td>\n",
       "    </tr>\n",
       "    <tr>\n",
       "      <th>3</th>\n",
       "      <td>0.5</td>\n",
       "      <td>-0.120009</td>\n",
       "    </tr>\n",
       "    <tr>\n",
       "      <th>4</th>\n",
       "      <td>1</td>\n",
       "      <td>-0.117911</td>\n",
       "    </tr>\n",
       "    <tr>\n",
       "      <th>11</th>\n",
       "      <td>75</td>\n",
       "      <td>-0.116575</td>\n",
       "    </tr>\n",
       "    <tr>\n",
       "      <th>10</th>\n",
       "      <td>50</td>\n",
       "      <td>-0.115545</td>\n",
       "    </tr>\n",
       "    <tr>\n",
       "      <th>5</th>\n",
       "      <td>5</td>\n",
       "      <td>-0.115031</td>\n",
       "    </tr>\n",
       "    <tr>\n",
       "      <th>9</th>\n",
       "      <td>30</td>\n",
       "      <td>-0.114787</td>\n",
       "    </tr>\n",
       "    <tr>\n",
       "      <th>8</th>\n",
       "      <td>20</td>\n",
       "      <td>-0.114410</td>\n",
       "    </tr>\n",
       "    <tr>\n",
       "      <th>6</th>\n",
       "      <td>10</td>\n",
       "      <td>-0.114336</td>\n",
       "    </tr>\n",
       "    <tr>\n",
       "      <th>7</th>\n",
       "      <td>15</td>\n",
       "      <td>-0.114217</td>\n",
       "    </tr>\n",
       "  </tbody>\n",
       "</table>\n",
       "</div>"
      ],
      "text/plain": [
       "   param_alpha  mean_test_score\n",
       "0        0.005        -0.124519\n",
       "1         0.05        -0.123945\n",
       "2          0.1        -0.123375\n",
       "3          0.5        -0.120009\n",
       "4            1        -0.117911\n",
       "11          75        -0.116575\n",
       "10          50        -0.115545\n",
       "5            5        -0.115031\n",
       "9           30        -0.114787\n",
       "8           20        -0.114410\n",
       "6           10        -0.114336\n",
       "7           15        -0.114217"
      ]
     },
     "execution_count": 46,
     "metadata": {},
     "output_type": "execute_result"
    }
   ],
   "source": [
    "alphas_param = {'alpha':[0.005,0.05,0.1,0.5,1,5,10,15,20,30,50,75]}\n",
    "ridge = grid(rm,housing_prepared,housing_labels,alphas_param,['param_alpha','mean_test_score'])\n",
    "ridge"
   ]
  },
  {
   "cell_type": "code",
   "execution_count": 47,
   "id": "1210bd60",
   "metadata": {},
   "outputs": [
    {
     "data": {
      "text/plain": [
       "<AxesSubplot:xlabel='param_alpha', ylabel='mean_test_score'>"
      ]
     },
     "execution_count": 47,
     "metadata": {},
     "output_type": "execute_result"
    },
    {
     "data": {
      "image/png": "[encoded data removed]",
      "text/plain": [
       "<Figure size 432x288 with 1 Axes>"
      ]
     },
     "metadata": {
      "needs_background": "light"
     },
     "output_type": "display_data"
    }
   ],
   "source": [
    "sns.lineplot(data=ridge, x='param_alpha',y='mean_test_score');"
   ]
  },
  {
   "cell_type": "markdown",
   "id": "2851cc31",
   "metadata": {},
   "source": [
    "### Lasso"
   ]
  },
  {
   "cell_type": "code",
   "execution_count": 48,
   "id": "4d1b799f",
   "metadata": {
    "scrolled": true
   },
   "outputs": [
    {
     "data": {
      "text/html": [
       "<div>\n",
       "<style scoped>\n",
       "    .dataframe tbody tr th:only-of-type {\n",
       "        vertical-align: middle;\n",
       "    }\n",
       "\n",
       "    .dataframe tbody tr th {\n",
       "        vertical-align: top;\n",
       "    }\n",
       "\n",
       "    .dataframe thead th {\n",
       "        text-align: right;\n",
       "    }\n",
       "</style>\n",
       "<table border=\"1\" class=\"dataframe\">\n",
       "  <thead>\n",
       "    <tr style=\"text-align: right;\">\n",
       "      <th></th>\n",
       "      <th>param_alpha</th>\n",
       "      <th>mean_test_score</th>\n",
       "    </tr>\n",
       "  </thead>\n",
       "  <tbody>\n",
       "    <tr>\n",
       "      <th>4</th>\n",
       "      <td>0.05</td>\n",
       "      <td>-0.166702</td>\n",
       "    </tr>\n",
       "    <tr>\n",
       "      <th>3</th>\n",
       "      <td>0.01</td>\n",
       "      <td>-0.133161</td>\n",
       "    </tr>\n",
       "    <tr>\n",
       "      <th>2</th>\n",
       "      <td>0.005</td>\n",
       "      <td>-0.128432</td>\n",
       "    </tr>\n",
       "    <tr>\n",
       "      <th>0</th>\n",
       "      <td>0.0001</td>\n",
       "      <td>-0.118350</td>\n",
       "    </tr>\n",
       "    <tr>\n",
       "      <th>1</th>\n",
       "      <td>0.001</td>\n",
       "      <td>-0.113369</td>\n",
       "    </tr>\n",
       "  </tbody>\n",
       "</table>\n",
       "</div>"
      ],
      "text/plain": [
       "  param_alpha  mean_test_score\n",
       "4        0.05        -0.166702\n",
       "3        0.01        -0.133161\n",
       "2       0.005        -0.128432\n",
       "0      0.0001        -0.118350\n",
       "1       0.001        -0.113369"
      ]
     },
     "execution_count": 48,
     "metadata": {},
     "output_type": "execute_result"
    }
   ],
   "source": [
    "alphas_param = {'alpha':[0.0001,0.001,0.005,0.01,0.05]}\n",
    "grid(lasso, housing_prepared,housing_labels, alphas_param,['param_alpha','mean_test_score'])"
   ]
  },
  {
   "cell_type": "markdown",
   "id": "4abee916",
   "metadata": {},
   "source": [
    "One of the adventages of using lasso is that it will drop some features, we can take adventage of this and explore if the models improve their prediction power"
   ]
  },
  {
   "cell_type": "code",
   "execution_count": 49,
   "id": "88a324f5",
   "metadata": {},
   "outputs": [],
   "source": [
    "lasso = Lasso(alpha=0.001)\n",
    "lasso.fit(housing_prepared, housing_labels);"
   ]
  },
  {
   "cell_type": "code",
   "execution_count": 50,
   "id": "438e56d0",
   "metadata": {},
   "outputs": [
    {
     "data": {
      "text/plain": [
       "Id            -0.001661\n",
       "LotFrontage    0.001010\n",
       "LotArea        0.040393\n",
       "OverallQual    0.073737\n",
       "OverallCond    0.051077\n",
       "                 ...   \n",
       "x41_7          0.003420\n",
       "x42_New        0.034004\n",
       "x42_WD        -0.011740\n",
       "x43_Abnorml   -0.048169\n",
       "x43_Normal     0.010283\n",
       "Length: 85, dtype: float64"
      ]
     },
     "execution_count": 50,
     "metadata": {},
     "output_type": "execute_result"
    }
   ],
   "source": [
    "pd.Series(lasso.coef_,index=tot_column_names)[lasso.coef_!=0]"
   ]
  },
  {
   "cell_type": "markdown",
   "id": "dd170e6c",
   "metadata": {},
   "source": [
    "As we can see only 85 features were selected using Lasso best param (alpha=0.001). We will use these features to retrain the models"
   ]
  },
  {
   "cell_type": "markdown",
   "id": "df72ba09",
   "metadata": {},
   "source": [
    "### ElasticNet"
   ]
  },
  {
   "cell_type": "code",
   "execution_count": 51,
   "id": "4fa2ddf1",
   "metadata": {},
   "outputs": [
    {
     "data": {
      "text/html": [
       "<div>\n",
       "<style scoped>\n",
       "    .dataframe tbody tr th:only-of-type {\n",
       "        vertical-align: middle;\n",
       "    }\n",
       "\n",
       "    .dataframe tbody tr th {\n",
       "        vertical-align: top;\n",
       "    }\n",
       "\n",
       "    .dataframe thead th {\n",
       "        text-align: right;\n",
       "    }\n",
       "</style>\n",
       "<table border=\"1\" class=\"dataframe\">\n",
       "  <thead>\n",
       "    <tr style=\"text-align: right;\">\n",
       "      <th></th>\n",
       "      <th>param_alpha</th>\n",
       "      <th>param_l1_ratio</th>\n",
       "      <th>mean_test_score</th>\n",
       "    </tr>\n",
       "  </thead>\n",
       "  <tbody>\n",
       "    <tr>\n",
       "      <th>17</th>\n",
       "      <td>0.003</td>\n",
       "      <td>0.8</td>\n",
       "      <td>-0.121062</td>\n",
       "    </tr>\n",
       "    <tr>\n",
       "      <th>16</th>\n",
       "      <td>0.003</td>\n",
       "      <td>0.7</td>\n",
       "      <td>-0.119966</td>\n",
       "    </tr>\n",
       "    <tr>\n",
       "      <th>15</th>\n",
       "      <td>0.003</td>\n",
       "      <td>0.6</td>\n",
       "      <td>-0.118632</td>\n",
       "    </tr>\n",
       "    <tr>\n",
       "      <th>14</th>\n",
       "      <td>0.003</td>\n",
       "      <td>0.5</td>\n",
       "      <td>-0.116893</td>\n",
       "    </tr>\n",
       "    <tr>\n",
       "      <th>0</th>\n",
       "      <td>0.0007</td>\n",
       "      <td>0.1</td>\n",
       "      <td>-0.115825</td>\n",
       "    </tr>\n",
       "    <tr>\n",
       "      <th>13</th>\n",
       "      <td>0.003</td>\n",
       "      <td>0.4</td>\n",
       "      <td>-0.115136</td>\n",
       "    </tr>\n",
       "    <tr>\n",
       "      <th>6</th>\n",
       "      <td>0.001</td>\n",
       "      <td>0.1</td>\n",
       "      <td>-0.114583</td>\n",
       "    </tr>\n",
       "    <tr>\n",
       "      <th>1</th>\n",
       "      <td>0.0007</td>\n",
       "      <td>0.4</td>\n",
       "      <td>-0.112944</td>\n",
       "    </tr>\n",
       "    <tr>\n",
       "      <th>12</th>\n",
       "      <td>0.003</td>\n",
       "      <td>0.1</td>\n",
       "      <td>-0.112838</td>\n",
       "    </tr>\n",
       "    <tr>\n",
       "      <th>2</th>\n",
       "      <td>0.0007</td>\n",
       "      <td>0.5</td>\n",
       "      <td>-0.112769</td>\n",
       "    </tr>\n",
       "    <tr>\n",
       "      <th>3</th>\n",
       "      <td>0.0007</td>\n",
       "      <td>0.6</td>\n",
       "      <td>-0.112733</td>\n",
       "    </tr>\n",
       "    <tr>\n",
       "      <th>7</th>\n",
       "      <td>0.001</td>\n",
       "      <td>0.4</td>\n",
       "      <td>-0.112657</td>\n",
       "    </tr>\n",
       "    <tr>\n",
       "      <th>4</th>\n",
       "      <td>0.0007</td>\n",
       "      <td>0.7</td>\n",
       "      <td>-0.112655</td>\n",
       "    </tr>\n",
       "    <tr>\n",
       "      <th>11</th>\n",
       "      <td>0.001</td>\n",
       "      <td>0.8</td>\n",
       "      <td>-0.112636</td>\n",
       "    </tr>\n",
       "    <tr>\n",
       "      <th>5</th>\n",
       "      <td>0.0007</td>\n",
       "      <td>0.8</td>\n",
       "      <td>-0.112626</td>\n",
       "    </tr>\n",
       "    <tr>\n",
       "      <th>8</th>\n",
       "      <td>0.001</td>\n",
       "      <td>0.5</td>\n",
       "      <td>-0.112580</td>\n",
       "    </tr>\n",
       "    <tr>\n",
       "      <th>9</th>\n",
       "      <td>0.001</td>\n",
       "      <td>0.6</td>\n",
       "      <td>-0.112528</td>\n",
       "    </tr>\n",
       "    <tr>\n",
       "      <th>10</th>\n",
       "      <td>0.001</td>\n",
       "      <td>0.7</td>\n",
       "      <td>-0.112493</td>\n",
       "    </tr>\n",
       "  </tbody>\n",
       "</table>\n",
       "</div>"
      ],
      "text/plain": [
       "   param_alpha param_l1_ratio  mean_test_score\n",
       "17       0.003            0.8        -0.121062\n",
       "16       0.003            0.7        -0.119966\n",
       "15       0.003            0.6        -0.118632\n",
       "14       0.003            0.5        -0.116893\n",
       "0       0.0007            0.1        -0.115825\n",
       "13       0.003            0.4        -0.115136\n",
       "6        0.001            0.1        -0.114583\n",
       "1       0.0007            0.4        -0.112944\n",
       "12       0.003            0.1        -0.112838\n",
       "2       0.0007            0.5        -0.112769\n",
       "3       0.0007            0.6        -0.112733\n",
       "7        0.001            0.4        -0.112657\n",
       "4       0.0007            0.7        -0.112655\n",
       "11       0.001            0.8        -0.112636\n",
       "5       0.0007            0.8        -0.112626\n",
       "8        0.001            0.5        -0.112580\n",
       "9        0.001            0.6        -0.112528\n",
       "10       0.001            0.7        -0.112493"
      ]
     },
     "execution_count": 51,
     "metadata": {},
     "output_type": "execute_result"
    }
   ],
   "source": [
    "eparams = {'alpha':[0.0007,0.001,0.003],'l1_ratio':[0.1,0.4,0.5,0.6,0.7,0.8]}\n",
    "grid(elastic_net, housing_prepared,housing_labels, eparams,['param_alpha','param_l1_ratio','mean_test_score'])"
   ]
  },
  {
   "cell_type": "code",
   "execution_count": 52,
   "id": "f761d2d6",
   "metadata": {},
   "outputs": [
    {
     "data": {
      "text/plain": [
       "0               Id\n",
       "1      LotFrontage\n",
       "2          LotArea\n",
       "3      OverallQual\n",
       "4      OverallCond\n",
       "          ...     \n",
       "308          x41_7\n",
       "317        x42_New\n",
       "319         x42_WD\n",
       "320    x43_Abnorml\n",
       "324     x43_Normal\n",
       "Length: 98, dtype: object"
      ]
     },
     "execution_count": 52,
     "metadata": {},
     "output_type": "execute_result"
    }
   ],
   "source": [
    "elastic_net=ElasticNet(alpha=0.001,l1_ratio=0.7)\n",
    "elastic_net.fit(housing_prepared,housing_labels)\n",
    "pd.Series(tot_column_names)[elastic_net.coef_!=0]"
   ]
  },
  {
   "cell_type": "markdown",
   "id": "55600aa5",
   "metadata": {},
   "source": [
    "In this case 98 features were selected using ElasticNet best params. We will explore these features to retrain the models as with Lasso."
   ]
  },
  {
   "cell_type": "markdown",
   "id": "9b13ea52",
   "metadata": {},
   "source": [
    "## 4.2.2 Fine Tune model with feature selection (Lasso & Enet selection )"
   ]
  },
  {
   "cell_type": "markdown",
   "id": "a01a9328",
   "metadata": {},
   "source": [
    "All the models performed best with the lasso selected features, so we only show those models in this section (and comment the Enet params)"
   ]
  },
  {
   "cell_type": "code",
   "execution_count": 53,
   "id": "4409e270",
   "metadata": {},
   "outputs": [],
   "source": [
    "housing_prepared_ft_lasso = housing_prepared[:,lasso.coef_!=0]\n",
    "#housing_prepared_ft_enet = housing_prepared[:,elastic_net.coef_!=0]"
   ]
  },
  {
   "cell_type": "markdown",
   "id": "7ad71789",
   "metadata": {},
   "source": [
    "### Retrain Linear Regression"
   ]
  },
  {
   "cell_type": "code",
   "execution_count": 54,
   "id": "40a1a928",
   "metadata": {
    "scrolled": true
   },
   "outputs": [
    {
     "name": "stdout",
     "output_type": "stream",
     "text": [
      "  mean:0.10865472868078536\n",
      "  std:0.02090207725062274\n"
     ]
    }
   ],
   "source": [
    "display_cv_score(rmse_cv(lm,housing_prepared_ft_lasso,housing_labels))\n",
    "#display_cv_score(rmse_cv(lm,housing_prepared_ft_enet,housing_labels))"
   ]
  },
  {
   "cell_type": "markdown",
   "id": "3a67a4c6",
   "metadata": {},
   "source": [
    "### Retrain Ridge"
   ]
  },
  {
   "cell_type": "code",
   "execution_count": 55,
   "id": "21742d81",
   "metadata": {},
   "outputs": [
    {
     "data": {
      "text/html": [
       "<div>\n",
       "<style scoped>\n",
       "    .dataframe tbody tr th:only-of-type {\n",
       "        vertical-align: middle;\n",
       "    }\n",
       "\n",
       "    .dataframe tbody tr th {\n",
       "        vertical-align: top;\n",
       "    }\n",
       "\n",
       "    .dataframe thead th {\n",
       "        text-align: right;\n",
       "    }\n",
       "</style>\n",
       "<table border=\"1\" class=\"dataframe\">\n",
       "  <thead>\n",
       "    <tr style=\"text-align: right;\">\n",
       "      <th></th>\n",
       "      <th>param_alpha</th>\n",
       "      <th>mean_test_score</th>\n",
       "    </tr>\n",
       "  </thead>\n",
       "  <tbody>\n",
       "    <tr>\n",
       "      <th>11</th>\n",
       "      <td>75</td>\n",
       "      <td>-0.115124</td>\n",
       "    </tr>\n",
       "    <tr>\n",
       "      <th>10</th>\n",
       "      <td>50</td>\n",
       "      <td>-0.113538</td>\n",
       "    </tr>\n",
       "    <tr>\n",
       "      <th>9</th>\n",
       "      <td>30</td>\n",
       "      <td>-0.111990</td>\n",
       "    </tr>\n",
       "    <tr>\n",
       "      <th>8</th>\n",
       "      <td>20</td>\n",
       "      <td>-0.110998</td>\n",
       "    </tr>\n",
       "    <tr>\n",
       "      <th>7</th>\n",
       "      <td>15</td>\n",
       "      <td>-0.110449</td>\n",
       "    </tr>\n",
       "    <tr>\n",
       "      <th>6</th>\n",
       "      <td>10</td>\n",
       "      <td>-0.109742</td>\n",
       "    </tr>\n",
       "    <tr>\n",
       "      <th>5</th>\n",
       "      <td>5</td>\n",
       "      <td>-0.109041</td>\n",
       "    </tr>\n",
       "    <tr>\n",
       "      <th>0</th>\n",
       "      <td>0.005</td>\n",
       "      <td>-0.108664</td>\n",
       "    </tr>\n",
       "    <tr>\n",
       "      <th>1</th>\n",
       "      <td>0.05</td>\n",
       "      <td>-0.108653</td>\n",
       "    </tr>\n",
       "    <tr>\n",
       "      <th>2</th>\n",
       "      <td>0.1</td>\n",
       "      <td>-0.108650</td>\n",
       "    </tr>\n",
       "    <tr>\n",
       "      <th>4</th>\n",
       "      <td>1</td>\n",
       "      <td>-0.108588</td>\n",
       "    </tr>\n",
       "    <tr>\n",
       "      <th>3</th>\n",
       "      <td>0.5</td>\n",
       "      <td>-0.108575</td>\n",
       "    </tr>\n",
       "  </tbody>\n",
       "</table>\n",
       "</div>"
      ],
      "text/plain": [
       "   param_alpha  mean_test_score\n",
       "11          75        -0.115124\n",
       "10          50        -0.113538\n",
       "9           30        -0.111990\n",
       "8           20        -0.110998\n",
       "7           15        -0.110449\n",
       "6           10        -0.109742\n",
       "5            5        -0.109041\n",
       "0        0.005        -0.108664\n",
       "1         0.05        -0.108653\n",
       "2          0.1        -0.108650\n",
       "4            1        -0.108588\n",
       "3          0.5        -0.108575"
      ]
     },
     "execution_count": 55,
     "metadata": {},
     "output_type": "execute_result"
    }
   ],
   "source": [
    "alphas_param = {'alpha':[0.005,0.05,0.1,0.5,1,5,10,15,20,30,50,75]}\n",
    "grid(rm,housing_prepared_ft_lasso,housing_labels,alphas_param,['param_alpha','mean_test_score'])\n",
    "\n",
    "#alphas_param = {'alpha':[0.005,0.05,0.1,0.5,1,5,10,15,20,30,50,75]}\n",
    "#grid(rm,housing_prepared_ft_enet,housing_labels,alphas_param,['param_alpha','mean_test_score'])"
   ]
  },
  {
   "cell_type": "markdown",
   "id": "3ae48ed7",
   "metadata": {},
   "source": [
    "### Retrain Lasso "
   ]
  },
  {
   "cell_type": "code",
   "execution_count": 56,
   "id": "626646e3",
   "metadata": {
    "scrolled": true
   },
   "outputs": [
    {
     "data": {
      "text/html": [
       "<div>\n",
       "<style scoped>\n",
       "    .dataframe tbody tr th:only-of-type {\n",
       "        vertical-align: middle;\n",
       "    }\n",
       "\n",
       "    .dataframe tbody tr th {\n",
       "        vertical-align: top;\n",
       "    }\n",
       "\n",
       "    .dataframe thead th {\n",
       "        text-align: right;\n",
       "    }\n",
       "</style>\n",
       "<table border=\"1\" class=\"dataframe\">\n",
       "  <thead>\n",
       "    <tr style=\"text-align: right;\">\n",
       "      <th></th>\n",
       "      <th>param_alpha</th>\n",
       "      <th>mean_test_score</th>\n",
       "    </tr>\n",
       "  </thead>\n",
       "  <tbody>\n",
       "    <tr>\n",
       "      <th>4</th>\n",
       "      <td>0.05</td>\n",
       "      <td>-0.166702</td>\n",
       "    </tr>\n",
       "    <tr>\n",
       "      <th>3</th>\n",
       "      <td>0.01</td>\n",
       "      <td>-0.133161</td>\n",
       "    </tr>\n",
       "    <tr>\n",
       "      <th>2</th>\n",
       "      <td>0.005</td>\n",
       "      <td>-0.128429</td>\n",
       "    </tr>\n",
       "    <tr>\n",
       "      <th>1</th>\n",
       "      <td>0.001</td>\n",
       "      <td>-0.112805</td>\n",
       "    </tr>\n",
       "    <tr>\n",
       "      <th>0</th>\n",
       "      <td>0.0001</td>\n",
       "      <td>-0.108597</td>\n",
       "    </tr>\n",
       "  </tbody>\n",
       "</table>\n",
       "</div>"
      ],
      "text/plain": [
       "  param_alpha  mean_test_score\n",
       "4        0.05        -0.166702\n",
       "3        0.01        -0.133161\n",
       "2       0.005        -0.128429\n",
       "1       0.001        -0.112805\n",
       "0      0.0001        -0.108597"
      ]
     },
     "execution_count": 56,
     "metadata": {},
     "output_type": "execute_result"
    }
   ],
   "source": [
    "alphas_param = {'alpha':[0.0001,0.001,0.005,0.01,0.05]}\n",
    "grid(lasso, housing_prepared_ft_lasso,housing_labels, alphas_param,['param_alpha','mean_test_score'])\n",
    "\n",
    "#alphas_param = {'alpha':[0.0001,0.001,0.005,0.01,0.05]}\n",
    "#grid(lasso, housing_prepared_ft_enet,housing_labels, alphas_param,['param_alpha','mean_test_score'])"
   ]
  },
  {
   "cell_type": "markdown",
   "id": "151e454f",
   "metadata": {},
   "source": [
    "### Retrain ElasticNet "
   ]
  },
  {
   "cell_type": "code",
   "execution_count": 57,
   "id": "7d490c23",
   "metadata": {},
   "outputs": [
    {
     "data": {
      "text/html": [
       "<div>\n",
       "<style scoped>\n",
       "    .dataframe tbody tr th:only-of-type {\n",
       "        vertical-align: middle;\n",
       "    }\n",
       "\n",
       "    .dataframe tbody tr th {\n",
       "        vertical-align: top;\n",
       "    }\n",
       "\n",
       "    .dataframe thead th {\n",
       "        text-align: right;\n",
       "    }\n",
       "</style>\n",
       "<table border=\"1\" class=\"dataframe\">\n",
       "  <thead>\n",
       "    <tr style=\"text-align: right;\">\n",
       "      <th></th>\n",
       "      <th>param_alpha</th>\n",
       "      <th>param_l1_ratio</th>\n",
       "      <th>mean_test_score</th>\n",
       "    </tr>\n",
       "  </thead>\n",
       "  <tbody>\n",
       "    <tr>\n",
       "      <th>14</th>\n",
       "      <td>0.003</td>\n",
       "      <td>0.7</td>\n",
       "      <td>-0.119746</td>\n",
       "    </tr>\n",
       "    <tr>\n",
       "      <th>13</th>\n",
       "      <td>0.003</td>\n",
       "      <td>0.6</td>\n",
       "      <td>-0.118374</td>\n",
       "    </tr>\n",
       "    <tr>\n",
       "      <th>12</th>\n",
       "      <td>0.003</td>\n",
       "      <td>0.5</td>\n",
       "      <td>-0.116604</td>\n",
       "    </tr>\n",
       "    <tr>\n",
       "      <th>11</th>\n",
       "      <td>0.003</td>\n",
       "      <td>0.4</td>\n",
       "      <td>-0.114731</td>\n",
       "    </tr>\n",
       "    <tr>\n",
       "      <th>9</th>\n",
       "      <td>0.001</td>\n",
       "      <td>0.7</td>\n",
       "      <td>-0.110962</td>\n",
       "    </tr>\n",
       "    <tr>\n",
       "      <th>8</th>\n",
       "      <td>0.001</td>\n",
       "      <td>0.6</td>\n",
       "      <td>-0.110418</td>\n",
       "    </tr>\n",
       "    <tr>\n",
       "      <th>7</th>\n",
       "      <td>0.001</td>\n",
       "      <td>0.5</td>\n",
       "      <td>-0.109947</td>\n",
       "    </tr>\n",
       "    <tr>\n",
       "      <th>4</th>\n",
       "      <td>0.0007</td>\n",
       "      <td>0.7</td>\n",
       "      <td>-0.109804</td>\n",
       "    </tr>\n",
       "    <tr>\n",
       "      <th>10</th>\n",
       "      <td>0.003</td>\n",
       "      <td>0.1</td>\n",
       "      <td>-0.109689</td>\n",
       "    </tr>\n",
       "    <tr>\n",
       "      <th>6</th>\n",
       "      <td>0.001</td>\n",
       "      <td>0.4</td>\n",
       "      <td>-0.109537</td>\n",
       "    </tr>\n",
       "    <tr>\n",
       "      <th>3</th>\n",
       "      <td>0.0007</td>\n",
       "      <td>0.6</td>\n",
       "      <td>-0.109527</td>\n",
       "    </tr>\n",
       "    <tr>\n",
       "      <th>2</th>\n",
       "      <td>0.0007</td>\n",
       "      <td>0.5</td>\n",
       "      <td>-0.109279</td>\n",
       "    </tr>\n",
       "    <tr>\n",
       "      <th>1</th>\n",
       "      <td>0.0007</td>\n",
       "      <td>0.4</td>\n",
       "      <td>-0.109067</td>\n",
       "    </tr>\n",
       "    <tr>\n",
       "      <th>5</th>\n",
       "      <td>0.001</td>\n",
       "      <td>0.1</td>\n",
       "      <td>-0.108655</td>\n",
       "    </tr>\n",
       "    <tr>\n",
       "      <th>0</th>\n",
       "      <td>0.0007</td>\n",
       "      <td>0.1</td>\n",
       "      <td>-0.108581</td>\n",
       "    </tr>\n",
       "  </tbody>\n",
       "</table>\n",
       "</div>"
      ],
      "text/plain": [
       "   param_alpha param_l1_ratio  mean_test_score\n",
       "14       0.003            0.7        -0.119746\n",
       "13       0.003            0.6        -0.118374\n",
       "12       0.003            0.5        -0.116604\n",
       "11       0.003            0.4        -0.114731\n",
       "9        0.001            0.7        -0.110962\n",
       "8        0.001            0.6        -0.110418\n",
       "7        0.001            0.5        -0.109947\n",
       "4       0.0007            0.7        -0.109804\n",
       "10       0.003            0.1        -0.109689\n",
       "6        0.001            0.4        -0.109537\n",
       "3       0.0007            0.6        -0.109527\n",
       "2       0.0007            0.5        -0.109279\n",
       "1       0.0007            0.4        -0.109067\n",
       "5        0.001            0.1        -0.108655\n",
       "0       0.0007            0.1        -0.108581"
      ]
     },
     "execution_count": 57,
     "metadata": {},
     "output_type": "execute_result"
    }
   ],
   "source": [
    "eparams = {'alpha':[0.0007,0.001,0.003],'l1_ratio':[0.1,0.4,0.5,0.6,0.7]}\n",
    "grid(elastic_net, housing_prepared_ft_lasso,housing_labels, eparams,['param_alpha','param_l1_ratio','mean_test_score'])\n",
    "\n",
    "#eparams = {'alpha':[0.0007,0.001,0.003],'l1_ratio':[0.1,0.4,0.5,0.6,0.7,0.8]}\n",
    "#grid(elastic_net, housing_prepared_ft_enet,housing_labels, eparams,['param_alpha','param_l1_ratio','mean_test_score'])"
   ]
  },
  {
   "cell_type": "markdown",
   "id": "c4a6713b",
   "metadata": {},
   "source": [
    "# 5. Final Model"
   ]
  },
  {
   "cell_type": "markdown",
   "id": "8392ab36",
   "metadata": {},
   "source": [
    "Finally we select the best model according to CV RMSE, The Ridge regression with alpha equivalent to 0.5 and 85 features."
   ]
  },
  {
   "cell_type": "code",
   "execution_count": 58,
   "id": "bd57516e",
   "metadata": {},
   "outputs": [
    {
     "data": {
      "text/plain": [
       "Ridge(alpha=0.5)"
      ]
     },
     "execution_count": 58,
     "metadata": {},
     "output_type": "execute_result"
    }
   ],
   "source": [
    "Ridge_model = Ridge(alpha=0.5)\n",
    "Ridge_model.fit(housing_prepared_ft_lasso,housing_labels)"
   ]
  },
  {
   "cell_type": "code",
   "execution_count": 59,
   "id": "6a874f77",
   "metadata": {},
   "outputs": [],
   "source": [
    "X_test = full_pipe.transform(test)[:,lasso.coef_!=0]"
   ]
  },
  {
   "cell_type": "code",
   "execution_count": 60,
   "id": "28194921",
   "metadata": {
    "scrolled": true
   },
   "outputs": [],
   "source": [
    "submission=pd.DataFrame()\n",
    "submission['Id'] = test['Id']\n",
    "submission['SalePrice']=np.exp(Ridge_model.predict(X_test))"
   ]
  },
  {
   "cell_type": "code",
   "execution_count": 61,
   "id": "933cf6ce",
   "metadata": {},
   "outputs": [],
   "source": [
    "submission.to_csv('submission.csv',index=False)"
   ]
  }
 ],
 "metadata": {
  "kernelspec": {
   "display_name": "Python 3",
   "language": "python",
   "name": "python3"
  },
  "language_info": {
   "codemirror_mode": {
    "name": "ipython",
    "version": 3
   },
   "file_extension": ".py",
   "mimetype": "text/x-python",
   "name": "python",
   "nbconvert_exporter": "python",
   "pygments_lexer": "ipython3",
   "version": "3.8.8"
  }
 },
 "nbformat": 4,
 "nbformat_minor": 5
}
