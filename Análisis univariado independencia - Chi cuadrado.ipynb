{
 "cells": [
  {
   "cell_type": "markdown",
   "id": "095c5fcb",
   "metadata": {},
   "source": [
    "# Análisis univariado de independencia entre variables a partir del test Chi-cuadrado"
   ]
  },
  {
   "cell_type": "markdown",
   "id": "a4d7029a",
   "metadata": {},
   "source": [
    "En este ejemplo, se busca determinar si es que existe dependencia entre una variable de interes y posibles candidatos que puedan explicar su comportamiento. Para esto emplearemos la prueba de chi-cuadrado, la cual compara los valores observados con los esperados, y cuya hipotesis nula planetea que no existe dependencia.\n",
    "\n",
    ">${H_0}:$ La variable de interes Y es independiente de la variable X\n",
    "\n",
    ">${H_1}:$ La variable de interes Y es diferente dependiendo de la variable X\n",
    "\n",
    "Para este ejemplo en particular generaremos data sintetica de una variable de interes \"y\", junto con 3 variables independientes a guardar relación con ella (de antemano sabemos que las 2 primeras si lo hacen y la tercera no, ya que así lo definimos en la generacion de información).\n",
    "\n",
    "La forma de realizar la prueba de hipotesis es a través del estadistico chi cuadrado, el cual se calcula mediante la siguiente expresión:\n",
    "\n",
    "$${X^2}=\\sum\\frac{(O-E)^2}{E}\\sim{X^2_{(r-1)(c-1)}}$$\n",
    "\n",
    "Una vez calculado el estadistico, es posible obtener el valor P asociado a este. Para esto, es necesario emplear la distribucion chi cuadrado acorde a los grados de libertad del ejercicio, estos vienen dados por el numero de columnas y filas de la matriz de frecuencias (frecuencia de las combinaciones de categorias pertenecientes a ambas variables) menos 1. Si el valor P resultante es inferior a la significancia (α, generalmente 0.05) rechazamos la hipotesis nula dada la baja probabilidad de obtener ese resultado debido meramente al azar."
   ]
  },
  {
   "cell_type": "code",
   "execution_count": 2,
   "id": "332a2519",
   "metadata": {},
   "outputs": [],
   "source": [
    "import numpy as np\n",
    "from scipy import stats\n",
    "from numpy.random import default_rng\n",
    "import pandas as pd \n",
    "\n",
    "# Generamos las 3 variables independientes, para explorar su relacion con la variable dependiente\n",
    "X = default_rng(123).integers(0,3,size=(3000,3)) \n",
    "n, p = 2, 0.5\n",
    "# Generamos la variable dependiente en funcion de las primeras 2 variables, el ultimo termino es ruido en dist binomial\n",
    "y = X[:,0]//2 + X[:,1] + stats.binom(n,p).rvs(size=3000, random_state=123)  \n",
    "# Consolidamos la informacion en un Dataframe\n",
    "df = pd.DataFrame(np.c_[X,y],columns=('x1','x2','x3','y'))"
   ]
  },
  {
   "cell_type": "markdown",
   "id": "40523cd8",
   "metadata": {},
   "source": [
    "Construimos nuestras tablas de contingencia para los 3 posibles valores de cada variable en funcion de los posibles valores de la variable de interes \"y\":"
   ]
  },
  {
   "cell_type": "code",
   "execution_count": 3,
   "id": "03112ce7",
   "metadata": {},
   "outputs": [
    {
     "data": {
      "text/html": [
       "<div>\n",
       "<style scoped>\n",
       "    .dataframe tbody tr th:only-of-type {\n",
       "        vertical-align: middle;\n",
       "    }\n",
       "\n",
       "    .dataframe tbody tr th {\n",
       "        vertical-align: top;\n",
       "    }\n",
       "\n",
       "    .dataframe thead th {\n",
       "        text-align: right;\n",
       "    }\n",
       "</style>\n",
       "<table border=\"1\" class=\"dataframe\">\n",
       "  <thead>\n",
       "    <tr style=\"text-align: right;\">\n",
       "      <th>y</th>\n",
       "      <th>0</th>\n",
       "      <th>1</th>\n",
       "      <th>2</th>\n",
       "      <th>3</th>\n",
       "      <th>4</th>\n",
       "      <th>5</th>\n",
       "      <th>All</th>\n",
       "    </tr>\n",
       "    <tr>\n",
       "      <th>x3</th>\n",
       "      <th></th>\n",
       "      <th></th>\n",
       "      <th></th>\n",
       "      <th></th>\n",
       "      <th></th>\n",
       "      <th></th>\n",
       "      <th></th>\n",
       "    </tr>\n",
       "  </thead>\n",
       "  <tbody>\n",
       "    <tr>\n",
       "      <th>0</th>\n",
       "      <td>65</td>\n",
       "      <td>186</td>\n",
       "      <td>315</td>\n",
       "      <td>275</td>\n",
       "      <td>134</td>\n",
       "      <td>21</td>\n",
       "      <td>996</td>\n",
       "    </tr>\n",
       "    <tr>\n",
       "      <th>1</th>\n",
       "      <td>57</td>\n",
       "      <td>204</td>\n",
       "      <td>304</td>\n",
       "      <td>289</td>\n",
       "      <td>138</td>\n",
       "      <td>14</td>\n",
       "      <td>1006</td>\n",
       "    </tr>\n",
       "    <tr>\n",
       "      <th>2</th>\n",
       "      <td>58</td>\n",
       "      <td>205</td>\n",
       "      <td>309</td>\n",
       "      <td>255</td>\n",
       "      <td>146</td>\n",
       "      <td>25</td>\n",
       "      <td>998</td>\n",
       "    </tr>\n",
       "    <tr>\n",
       "      <th>All</th>\n",
       "      <td>180</td>\n",
       "      <td>595</td>\n",
       "      <td>928</td>\n",
       "      <td>819</td>\n",
       "      <td>418</td>\n",
       "      <td>60</td>\n",
       "      <td>3000</td>\n",
       "    </tr>\n",
       "  </tbody>\n",
       "</table>\n",
       "</div>"
      ],
      "text/plain": [
       "y      0    1    2    3    4   5   All\n",
       "x3                                    \n",
       "0     65  186  315  275  134  21   996\n",
       "1     57  204  304  289  138  14  1006\n",
       "2     58  205  309  255  146  25   998\n",
       "All  180  595  928  819  418  60  3000"
      ]
     },
     "execution_count": 3,
     "metadata": {},
     "output_type": "execute_result"
    }
   ],
   "source": [
    "piv_x1 = pd.pivot_table(data=df, index='x1',columns='y',values='x2',aggfunc='count',margins=True)\n",
    "piv_x2 = pd.pivot_table(data=df, index='x2',columns='y',values='x1',aggfunc='count',margins=True)\n",
    "piv_x3 = pd.pivot_table(data=df, index='x3',columns='y',values='x1',aggfunc='count',margins=True)\n",
    "piv_x3"
   ]
  },
  {
   "cell_type": "markdown",
   "id": "011b7706",
   "metadata": {},
   "source": [
    "A continuacion construimos una función que nos permita obtener la tabla de contingencia de valores esperados asumiendo la hipotesis nula como verdadera y por tanto que sean independientes:"
   ]
  },
  {
   "cell_type": "code",
   "execution_count": 4,
   "id": "33a93541",
   "metadata": {},
   "outputs": [],
   "source": [
    "def expected_freq_tab(df_table):\n",
    "  table = df_table\n",
    "  col = 6\n",
    "  row = 3\n",
    "  l=[]\n",
    "  for i in range(col):\n",
    "    for j in range(row):\n",
    "      l.append(df_table[i]['All']/3000*df_table['All'][j]/3000*3000)\n",
    "\n",
    "  return pd.DataFrame(np.array(l).reshape(6,3).T, columns=list(range(6)))  # Matriz de valores observados"
   ]
  },
  {
   "cell_type": "markdown",
   "id": "09929924",
   "metadata": {},
   "source": [
    "Dado que ya contamos con ambas tablas de contingencia, para valores observados y esperados, podemos calcular el estadistico chi cuadrado para cada variable en funcion de y:"
   ]
  },
  {
   "cell_type": "code",
   "execution_count": 5,
   "id": "3781d93c",
   "metadata": {},
   "outputs": [],
   "source": [
    "def p_value(df_table, grad_lib):\n",
    "  chi = (df_table.iloc[0:3,0:6] - expected_freq_tab(df_table))**2/expected_freq_tab(df_table) # Calculo del estadistico\n",
    "  chi_stat = chi.sum().sum()\n",
    "  return stats.chi2.sf(chi.sum().sum(),grad_lib)  # valor P para el estadistico"
   ]
  },
  {
   "cell_type": "code",
   "execution_count": 6,
   "id": "9f7d9cb8",
   "metadata": {},
   "outputs": [
    {
     "name": "stdout",
     "output_type": "stream",
     "text": [
      "Definiendo una significancia de 0.05, se rechaza H0 si el valor p es inferior a este\n",
      " El valor p para x1 e y es :2.2e-70 por lo tanto rechazo H0, no son independientes\n",
      " El valor p para x2 e y es :4.7e-253 por lo tanto rechazo H0, no son independientes\n",
      " El valor p para x3 e y es :0.7 por lo tanto NO rechazo H0\n"
     ]
    }
   ],
   "source": [
    "grad_lib = (3-1)*(6-1)\n",
    "print('Definiendo una significancia de 0.05, se rechaza H0 si el valor p es inferior a este')\n",
    "print(f' El valor p para x1 e y es :{p_value(piv_x1, grad_lib):.1e} por lo tanto rechazo H0, no son independientes')\n",
    "print(f' El valor p para x2 e y es :{p_value(piv_x2, grad_lib):.1e} por lo tanto rechazo H0, no son independientes')\n",
    "print(f' El valor p para x3 e y es :{p_value(piv_x3, grad_lib):.1f} por lo tanto NO rechazo H0')"
   ]
  },
  {
   "cell_type": "markdown",
   "id": "a83f8109",
   "metadata": {},
   "source": [
    "**Conclusion:** Contamos con evidencia suficiente evidencia estadistica para afirmar que existe una asociacion entre la variable dependiente \"y\" y las variables \"x1\" y \"x2\", mientras que no podemos concluir esto para \"x3\", todo esto con un nivel de significancia de un 5%"
   ]
  },
  {
   "cell_type": "code",
   "execution_count": null,
   "id": "4173547e",
   "metadata": {},
   "outputs": [],
   "source": []
  }
 ],
 "metadata": {
  "kernelspec": {
   "display_name": "Python 3",
   "language": "python",
   "name": "python3"
  },
  "language_info": {
   "codemirror_mode": {
    "name": "ipython",
    "version": 3
   },
   "file_extension": ".py",
   "mimetype": "text/x-python",
   "name": "python",
   "nbconvert_exporter": "python",
   "pygments_lexer": "ipython3",
   "version": "3.8.8"
  }
 },
 "nbformat": 4,
 "nbformat_minor": 5
}
