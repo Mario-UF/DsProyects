{
 "cells": [
  {
   "cell_type": "markdown",
   "id": "095c5fcb",
   "metadata": {},
   "source": [
    "# Análisis univariado de independencia entre variables a partir del test Chi-cuadrado"
   ]
  },
  {
   "cell_type": "markdown",
   "id": "a4d7029a",
   "metadata": {},
   "source": [
    "En este ejemplo, se busca determinar si es que existe dependencia entre una variable de interes y posibles candidatos que puedan explicar su comportamiento. Para esto emplearemos la prueba de chi-cuadrado, la cual compara los valores observados con los esperados, y cuya hipotesis nula planetea que no existe dependencia.\n",
    "\n",
    ">${H_0}:$ La variable de interes Y es independiente de la variable X\n",
    "\n",
    ">${H_1}:$ La variable de interes Y es diferente dependiendo de la variable X\n",
    "\n",
    "Para este ejemplo en particular generaremos data sintetica de una variable de interes \"y\" (dependiente), junto con 3 variables independientes que puedan guardar relación con ella (de antemano sabemos que las 2 primeras si lo hacen y la tercera no, ya que así lo definimos en la generacion de información).\n",
    "\n",
    "La forma de realizar la prueba de hipotesis es a través del estadistico chi cuadrado, el cual se calcula mediante la siguiente expresión:\n",
    "\n",
    "$${X^2}=\\sum\\frac{(O-E)^2}{E}\\sim{X^2_{(r-1)(c-1)}}$$\n",
    "\n",
    "Donde:\n",
    "\n",
    "$O_i$: Representa a cada frecuencia observada\n",
    "\n",
    "$E_i$: Representa a cada frecuencia esperada\n",
    "\n",
    "$(r-1)(c-1)$: Representa los grados de libertad\n",
    "\n",
    "Una vez calculado el estadistico, es posible obtener el valor P asociado a este. Para esto, es necesario emplear la distribucion chi cuadrado acorde a los grados de libertad del ejercicio, estos vienen dados por el numero de columnas y filas de la matriz de frecuencias (frecuencia de las combinaciones de categorias pertenecientes a ambas variables) menos 1. Si el valor P resultante es inferior a la significancia (α, generalmente 0.05) rechazamos la hipotesis nula dada la baja probabilidad de obtener ese resultado debido meramente al azar."
   ]
  },
  {
   "cell_type": "code",
   "execution_count": 66,
   "id": "332a2519",
   "metadata": {},
   "outputs": [],
   "source": [
    "import numpy as np\n",
    "from scipy import stats\n",
    "from numpy.random import default_rng\n",
    "import pandas as pd \n",
    "\n",
    "# Generamos las 3 variables independientes, para explorar su relacion con la variable dependiente\n",
    "X = default_rng(123).integers(0,3,size=(3000,3)) \n",
    "n, p = 2, 0.5\n",
    "\n",
    "# Generamos la variable dependiente en funcion de las primeras 2 variables, el ultimo termino es ruido en dist binomial\n",
    "y = X[:,0]//2 + X[:,1] + stats.binom(n,p).rvs(size=3000, random_state=123)\n",
    "\n",
    "\n",
    "# Para el correcto desempeño del estadistico se requiere al menos 1 valor de frecuencia observada por combinación.\n",
    "# por lo que agregamos valores que quedan fuera del rango de formula generada para y.\n",
    "extra = np.array([[2,1,0,0]\n",
    "                 ,[0,0,2,5]\n",
    "                 ,[1,1,0,5]\n",
    "                 ,[1,0,2,4]\n",
    "                 ,[1,2,2,1]\n",
    "                 ,[1,2,2,0]])\n",
    "\n",
    "# Consolidamos la informacion en un Dataframe\n",
    "df = pd.DataFrame(np.concatenate([np.c_[X,y],extra], axis=0),columns=('x1','x2','x3','y'))"
   ]
  },
  {
   "cell_type": "markdown",
   "id": "40523cd8",
   "metadata": {},
   "source": [
    "Construimos nuestras tablas de contingencia para los valores observados de acuerdo a los 3 posibles valores de cada variable, en funcion de los valores de la variable dependiente \"y\":"
   ]
  },
  {
   "cell_type": "code",
   "execution_count": 67,
   "id": "03112ce7",
   "metadata": {},
   "outputs": [
    {
     "data": {
      "text/html": [
       "<div>\n",
       "<style scoped>\n",
       "    .dataframe tbody tr th:only-of-type {\n",
       "        vertical-align: middle;\n",
       "    }\n",
       "\n",
       "    .dataframe tbody tr th {\n",
       "        vertical-align: top;\n",
       "    }\n",
       "\n",
       "    .dataframe thead th {\n",
       "        text-align: right;\n",
       "    }\n",
       "</style>\n",
       "<table border=\"1\" class=\"dataframe\">\n",
       "  <thead>\n",
       "    <tr style=\"text-align: right;\">\n",
       "      <th>y</th>\n",
       "      <th>0</th>\n",
       "      <th>1</th>\n",
       "      <th>2</th>\n",
       "      <th>3</th>\n",
       "      <th>4</th>\n",
       "      <th>5</th>\n",
       "      <th>All</th>\n",
       "    </tr>\n",
       "    <tr>\n",
       "      <th>x3</th>\n",
       "      <th></th>\n",
       "      <th></th>\n",
       "      <th></th>\n",
       "      <th></th>\n",
       "      <th></th>\n",
       "      <th></th>\n",
       "      <th></th>\n",
       "    </tr>\n",
       "  </thead>\n",
       "  <tbody>\n",
       "    <tr>\n",
       "      <th>0</th>\n",
       "      <td>66</td>\n",
       "      <td>186</td>\n",
       "      <td>315</td>\n",
       "      <td>275</td>\n",
       "      <td>134</td>\n",
       "      <td>22</td>\n",
       "      <td>998</td>\n",
       "    </tr>\n",
       "    <tr>\n",
       "      <th>1</th>\n",
       "      <td>57</td>\n",
       "      <td>204</td>\n",
       "      <td>304</td>\n",
       "      <td>289</td>\n",
       "      <td>138</td>\n",
       "      <td>14</td>\n",
       "      <td>1006</td>\n",
       "    </tr>\n",
       "    <tr>\n",
       "      <th>2</th>\n",
       "      <td>59</td>\n",
       "      <td>206</td>\n",
       "      <td>309</td>\n",
       "      <td>255</td>\n",
       "      <td>147</td>\n",
       "      <td>26</td>\n",
       "      <td>1002</td>\n",
       "    </tr>\n",
       "    <tr>\n",
       "      <th>All</th>\n",
       "      <td>182</td>\n",
       "      <td>596</td>\n",
       "      <td>928</td>\n",
       "      <td>819</td>\n",
       "      <td>419</td>\n",
       "      <td>62</td>\n",
       "      <td>3006</td>\n",
       "    </tr>\n",
       "  </tbody>\n",
       "</table>\n",
       "</div>"
      ],
      "text/plain": [
       "y      0    1    2    3    4   5   All\n",
       "x3                                    \n",
       "0     66  186  315  275  134  22   998\n",
       "1     57  204  304  289  138  14  1006\n",
       "2     59  206  309  255  147  26  1002\n",
       "All  182  596  928  819  419  62  3006"
      ]
     },
     "execution_count": 67,
     "metadata": {},
     "output_type": "execute_result"
    }
   ],
   "source": [
    "piv_x1 = pd.pivot_table(data=df, index='x1',columns='y',values='x2',aggfunc='count',margins=True)\n",
    "piv_x2 = pd.pivot_table(data=df, index='x2',columns='y',values='x1',aggfunc='count',margins=True)\n",
    "piv_x3 = pd.pivot_table(data=df, index='x3',columns='y',values='x1',aggfunc='count',margins=True)\n",
    "piv_x3"
   ]
  },
  {
   "cell_type": "markdown",
   "id": "011b7706",
   "metadata": {},
   "source": [
    "A continuacion, construiremos una función que nos permita obtener la tabla de contingencia de valores esperados asumiendo la hipotesis nula como verdadera, es decir, que sean variables independientes entre si:"
   ]
  },
  {
   "cell_type": "code",
   "execution_count": 68,
   "id": "33a93541",
   "metadata": {},
   "outputs": [],
   "source": [
    "def expected_freq_tab(df_table):\n",
    "    table = df_table\n",
    "    size = df_table.iloc[-1,-1]\n",
    "    col = 6\n",
    "    row = 3\n",
    "    l=[]\n",
    "    for i in range(col):\n",
    "        for j in range(row):\n",
    "            l.append(df_table[i]['All']/size*df_table['All'][j]/size*size)\n",
    "\n",
    "    return pd.DataFrame(np.array(l).reshape(6,3).T, columns=list(range(6)))  # Matriz de valores esperados"
   ]
  },
  {
   "cell_type": "markdown",
   "id": "09929924",
   "metadata": {},
   "source": [
    "Dado que ya contamos con ambas tablas de contingencia, para valores observados y esperados, podemos calcular el estadistico chi cuadrado para cada variable en funcion de y:"
   ]
  },
  {
   "cell_type": "code",
   "execution_count": 69,
   "id": "3781d93c",
   "metadata": {},
   "outputs": [],
   "source": [
    "def p_value(df_table, grad_lib):\n",
    "    chi = (df_table.iloc[0:3,0:6] - expected_freq_tab(df_table))**2/expected_freq_tab(df_table) # Calculo del estadistico\n",
    "    chi_stat = chi.sum().sum()\n",
    "    return stats.chi2.sf(chi.sum().sum(),grad_lib)  # valor P para el estadistico"
   ]
  },
  {
   "cell_type": "code",
   "execution_count": 70,
   "id": "9f7d9cb8",
   "metadata": {},
   "outputs": [
    {
     "name": "stdout",
     "output_type": "stream",
     "text": [
      "Definiendo una significancia de 0.05, se rechaza H0 si el valor p es inferior a este, por lo que:\n",
      " El valor p para x1 e y es :3.4e-89 por ende hay suficiente evidencia estadistica para rechazar H0, no son independientes\n",
      " El valor p para x2 e y es :0.0e+00 por ende hay suficiente evidencia estadistica para rechazar H0, no son independientes\n",
      " El valor p para x3 e y es :0.6 por ende NO hay suficiente evidencia estadistica para rechazar H0, y asumo la hipotesis nula como verdadera, es decir, son independientes\n"
     ]
    }
   ],
   "source": [
    "grad_lib = (3-1)*(6-1)\n",
    "print('Definiendo una significancia de 0.05, se rechaza H0 si el valor p es inferior a este, por lo que:')\n",
    "print(f' El valor p para x1 e y es :{p_value(piv_x1, grad_lib):.1e} por ende hay suficiente evidencia estadistica para rechazar H0, no son independientes')\n",
    "print(f' El valor p para x2 e y es :{p_value(piv_x2, grad_lib):.1e} por ende hay suficiente evidencia estadistica para rechazar H0, no son independientes')\n",
    "print(f' El valor p para x3 e y es :{p_value(piv_x3, grad_lib):.1f} por ende NO hay suficiente evidencia estadistica para rechazar H0, y asumo la hipotesis nula como verdadera, es decir, son independientes')"
   ]
  },
  {
   "cell_type": "markdown",
   "id": "a83f8109",
   "metadata": {},
   "source": [
    "**Conclusion:** Contamos con evidencia suficiente evidencia estadistica para afirmar que existe una asociacion entre la variable dependiente \"y\" y las variables \"x1\" y \"x2\", mientras que no podemos concluir esto para \"x3\", todo esto con un nivel de significancia de un 5%"
   ]
  }
 ],
 "metadata": {
  "kernelspec": {
   "display_name": "Python 3",
   "language": "python",
   "name": "python3"
  },
  "language_info": {
   "codemirror_mode": {
    "name": "ipython",
    "version": 3
   },
   "file_extension": ".py",
   "mimetype": "text/x-python",
   "name": "python",
   "nbconvert_exporter": "python",
   "pygments_lexer": "ipython3",
   "version": "3.8.8"
  }
 },
 "nbformat": 4,
 "nbformat_minor": 5
}
