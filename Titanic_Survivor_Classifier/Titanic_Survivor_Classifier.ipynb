{
 "cells": [
  {
   "cell_type": "markdown",
   "id": "63db1605",
   "metadata": {},
   "source": [
    "# Titanic Survivor Classifier"
   ]
  },
  {
   "cell_type": "markdown",
   "id": "30a30717",
   "metadata": {},
   "source": [
    "in this project our goal is to create a machine learning classifier capable of predicting whether or not a Titanic passenger survived."
   ]
  },
  {
   "cell_type": "code",
   "execution_count": 1,
   "id": "07ce55ed",
   "metadata": {},
   "outputs": [],
   "source": [
    "import pandas as pd\n",
    "import numpy as np\n",
    "import matplotlib.pyplot as plt\n",
    "import seaborn as sns\n",
    "%matplotlib inline\n",
    "\n",
    "pd. set_option('display.max_rows', None)  # we can use this given that it is a small data set"
   ]
  },
  {
   "cell_type": "markdown",
   "id": "6aa8f4a5",
   "metadata": {},
   "source": [
    "# 1. Load and check data"
   ]
  },
  {
   "cell_type": "code",
   "execution_count": 2,
   "id": "43829bc5",
   "metadata": {},
   "outputs": [],
   "source": [
    "titanic = pd.read_csv('train.csv')\n",
    "test = pd.read_csv('test.csv')\n",
    "titanic_labels = titanic['Survived'].copy()"
   ]
  },
  {
   "cell_type": "code",
   "execution_count": 3,
   "id": "8ffc861c",
   "metadata": {},
   "outputs": [],
   "source": [
    "#titanic = titanic.drop('Survived',axis=1)"
   ]
  },
  {
   "cell_type": "code",
   "execution_count": 4,
   "id": "b25e0bd1",
   "metadata": {},
   "outputs": [
    {
     "data": {
      "text/html": [
       "<div>\n",
       "<style scoped>\n",
       "    .dataframe tbody tr th:only-of-type {\n",
       "        vertical-align: middle;\n",
       "    }\n",
       "\n",
       "    .dataframe tbody tr th {\n",
       "        vertical-align: top;\n",
       "    }\n",
       "\n",
       "    .dataframe thead th {\n",
       "        text-align: right;\n",
       "    }\n",
       "</style>\n",
       "<table border=\"1\" class=\"dataframe\">\n",
       "  <thead>\n",
       "    <tr style=\"text-align: right;\">\n",
       "      <th></th>\n",
       "      <th>PassengerId</th>\n",
       "      <th>Survived</th>\n",
       "      <th>Pclass</th>\n",
       "      <th>Name</th>\n",
       "      <th>Sex</th>\n",
       "      <th>Age</th>\n",
       "      <th>SibSp</th>\n",
       "      <th>Parch</th>\n",
       "      <th>Ticket</th>\n",
       "      <th>Fare</th>\n",
       "      <th>Cabin</th>\n",
       "      <th>Embarked</th>\n",
       "    </tr>\n",
       "  </thead>\n",
       "  <tbody>\n",
       "    <tr>\n",
       "      <th>0</th>\n",
       "      <td>1</td>\n",
       "      <td>0</td>\n",
       "      <td>3</td>\n",
       "      <td>Braund, Mr. Owen Harris</td>\n",
       "      <td>male</td>\n",
       "      <td>22.0</td>\n",
       "      <td>1</td>\n",
       "      <td>0</td>\n",
       "      <td>A/5 21171</td>\n",
       "      <td>7.2500</td>\n",
       "      <td>NaN</td>\n",
       "      <td>S</td>\n",
       "    </tr>\n",
       "    <tr>\n",
       "      <th>1</th>\n",
       "      <td>2</td>\n",
       "      <td>1</td>\n",
       "      <td>1</td>\n",
       "      <td>Cumings, Mrs. John Bradley (Florence Briggs Th...</td>\n",
       "      <td>female</td>\n",
       "      <td>38.0</td>\n",
       "      <td>1</td>\n",
       "      <td>0</td>\n",
       "      <td>PC 17599</td>\n",
       "      <td>71.2833</td>\n",
       "      <td>C85</td>\n",
       "      <td>C</td>\n",
       "    </tr>\n",
       "    <tr>\n",
       "      <th>2</th>\n",
       "      <td>3</td>\n",
       "      <td>1</td>\n",
       "      <td>3</td>\n",
       "      <td>Heikkinen, Miss. Laina</td>\n",
       "      <td>female</td>\n",
       "      <td>26.0</td>\n",
       "      <td>0</td>\n",
       "      <td>0</td>\n",
       "      <td>STON/O2. 3101282</td>\n",
       "      <td>7.9250</td>\n",
       "      <td>NaN</td>\n",
       "      <td>S</td>\n",
       "    </tr>\n",
       "    <tr>\n",
       "      <th>3</th>\n",
       "      <td>4</td>\n",
       "      <td>1</td>\n",
       "      <td>1</td>\n",
       "      <td>Futrelle, Mrs. Jacques Heath (Lily May Peel)</td>\n",
       "      <td>female</td>\n",
       "      <td>35.0</td>\n",
       "      <td>1</td>\n",
       "      <td>0</td>\n",
       "      <td>113803</td>\n",
       "      <td>53.1000</td>\n",
       "      <td>C123</td>\n",
       "      <td>S</td>\n",
       "    </tr>\n",
       "    <tr>\n",
       "      <th>4</th>\n",
       "      <td>5</td>\n",
       "      <td>0</td>\n",
       "      <td>3</td>\n",
       "      <td>Allen, Mr. William Henry</td>\n",
       "      <td>male</td>\n",
       "      <td>35.0</td>\n",
       "      <td>0</td>\n",
       "      <td>0</td>\n",
       "      <td>373450</td>\n",
       "      <td>8.0500</td>\n",
       "      <td>NaN</td>\n",
       "      <td>S</td>\n",
       "    </tr>\n",
       "  </tbody>\n",
       "</table>\n",
       "</div>"
      ],
      "text/plain": [
       "   PassengerId  Survived  Pclass  \\\n",
       "0            1         0       3   \n",
       "1            2         1       1   \n",
       "2            3         1       3   \n",
       "3            4         1       1   \n",
       "4            5         0       3   \n",
       "\n",
       "                                                Name     Sex   Age  SibSp  \\\n",
       "0                            Braund, Mr. Owen Harris    male  22.0      1   \n",
       "1  Cumings, Mrs. John Bradley (Florence Briggs Th...  female  38.0      1   \n",
       "2                             Heikkinen, Miss. Laina  female  26.0      0   \n",
       "3       Futrelle, Mrs. Jacques Heath (Lily May Peel)  female  35.0      1   \n",
       "4                           Allen, Mr. William Henry    male  35.0      0   \n",
       "\n",
       "   Parch            Ticket     Fare Cabin Embarked  \n",
       "0      0         A/5 21171   7.2500   NaN        S  \n",
       "1      0          PC 17599  71.2833   C85        C  \n",
       "2      0  STON/O2. 3101282   7.9250   NaN        S  \n",
       "3      0            113803  53.1000  C123        S  \n",
       "4      0            373450   8.0500   NaN        S  "
      ]
     },
     "execution_count": 4,
     "metadata": {},
     "output_type": "execute_result"
    }
   ],
   "source": [
    "titanic.head()"
   ]
  },
  {
   "cell_type": "code",
   "execution_count": 5,
   "id": "e9684cf3",
   "metadata": {},
   "outputs": [],
   "source": [
    "concat_df = pd.concat([titanic,test]).reset_index(drop=True).drop('Survived',axis=1)"
   ]
  },
  {
   "cell_type": "markdown",
   "id": "8ab8f296",
   "metadata": {},
   "source": [
    "### Checking missing data"
   ]
  },
  {
   "cell_type": "code",
   "execution_count": 6,
   "id": "61a47f60",
   "metadata": {},
   "outputs": [
    {
     "name": "stdout",
     "output_type": "stream",
     "text": [
      "<class 'pandas.core.frame.DataFrame'>\n",
      "RangeIndex: 1309 entries, 0 to 1308\n",
      "Data columns (total 11 columns):\n",
      " #   Column       Non-Null Count  Dtype  \n",
      "---  ------       --------------  -----  \n",
      " 0   PassengerId  1309 non-null   int64  \n",
      " 1   Pclass       1309 non-null   int64  \n",
      " 2   Name         1309 non-null   object \n",
      " 3   Sex          1309 non-null   object \n",
      " 4   Age          1046 non-null   float64\n",
      " 5   SibSp        1309 non-null   int64  \n",
      " 6   Parch        1309 non-null   int64  \n",
      " 7   Ticket       1309 non-null   object \n",
      " 8   Fare         1308 non-null   float64\n",
      " 9   Cabin        295 non-null    object \n",
      " 10  Embarked     1307 non-null   object \n",
      "dtypes: float64(2), int64(4), object(5)\n",
      "memory usage: 112.6+ KB\n"
     ]
    }
   ],
   "source": [
    "concat_df.info()"
   ]
  },
  {
   "cell_type": "code",
   "execution_count": 7,
   "id": "a3192f70",
   "metadata": {},
   "outputs": [
    {
     "data": {
      "text/plain": [
       "Age          263\n",
       "Fare           1\n",
       "Cabin       1014\n",
       "Embarked       2\n",
       "dtype: int64"
      ]
     },
     "execution_count": 7,
     "metadata": {},
     "output_type": "execute_result"
    }
   ],
   "source": [
    "concat_df.isna().sum()[concat_df.isna().sum()!=0]"
   ]
  },
  {
   "cell_type": "markdown",
   "id": "3ac1d4e9",
   "metadata": {},
   "source": [
    "It seems we have some missing values, particularly with Age and Cabin features, let's tackle this problem."
   ]
  },
  {
   "cell_type": "markdown",
   "id": "209aecf4",
   "metadata": {},
   "source": [
    "# 2. Filling in the missing data"
   ]
  },
  {
   "cell_type": "markdown",
   "id": "80298b7e",
   "metadata": {},
   "source": [
    "### Cabin"
   ]
  },
  {
   "cell_type": "markdown",
   "id": "5dc70cce",
   "metadata": {},
   "source": [
    "Cabin has few labeled observations, most of them associated with survivors, let's explore the training set"
   ]
  },
  {
   "cell_type": "code",
   "execution_count": 8,
   "id": "a0c3d071",
   "metadata": {
    "scrolled": true
   },
   "outputs": [
    {
     "data": {
      "text/plain": [
       "Survived\n",
       "0     68\n",
       "1    136\n",
       "Name: Cabin, dtype: int64"
      ]
     },
     "execution_count": 8,
     "metadata": {},
     "output_type": "execute_result"
    }
   ],
   "source": [
    "titanic.groupby('Survived').count()['Cabin']"
   ]
  },
  {
   "cell_type": "code",
   "execution_count": 9,
   "id": "b148eeca",
   "metadata": {},
   "outputs": [
    {
     "data": {
      "text/plain": [
       "'Only 22.9% of the Cabin values are not missing'"
      ]
     },
     "execution_count": 9,
     "metadata": {},
     "output_type": "execute_result"
    }
   ],
   "source": [
    "not_miss = titanic['Cabin'].notna().sum()\n",
    "perc_not_miss = not_miss/len(titanic) * 100\n",
    "f'Only {perc_not_miss:.1f}% of the Cabin values are not missing'"
   ]
  },
  {
   "cell_type": "code",
   "execution_count": 10,
   "id": "cb9699ea",
   "metadata": {},
   "outputs": [
    {
     "data": {
      "image/png": "[encoded data removed]",
      "text/plain": [
       "<Figure size 432x288 with 1 Axes>"
      ]
     },
     "metadata": {
      "needs_background": "light"
     },
     "output_type": "display_data"
    }
   ],
   "source": [
    "cabin_class_df = pd.concat([titanic[titanic['Cabin'].notna()][['Cabin','Pclass']]\n",
    "                           ,titanic[titanic['Cabin'].notna()]['Cabin'].apply(lambda x: x[0])] #it extracts the letter of the cabin section \n",
    "                           ,axis=1)\n",
    "cabin_class_df = cabin_class_df.set_axis(['init','Pclass','Cabin'],axis=1)\n",
    "sns.countplot(data=cabin_class_df.sort_values('Cabin'),x='Cabin',hue='Pclass');"
   ]
  },
  {
   "cell_type": "markdown",
   "id": "7d657a90",
   "metadata": {},
   "source": [
    "Although there seems to exist a predictive trend, since Cabin only has 23% of the training observations labeled, we will remove this feature."
   ]
  },
  {
   "cell_type": "code",
   "execution_count": 11,
   "id": "c4c38214",
   "metadata": {},
   "outputs": [],
   "source": [
    "concat_df = concat_df.drop('Cabin', axis=1)"
   ]
  },
  {
   "cell_type": "markdown",
   "id": "bab4f404",
   "metadata": {},
   "source": [
    "### Embarked"
   ]
  },
  {
   "cell_type": "code",
   "execution_count": 12,
   "id": "a0b040d2",
   "metadata": {},
   "outputs": [
    {
     "data": {
      "text/html": [
       "<div>\n",
       "<style scoped>\n",
       "    .dataframe tbody tr th:only-of-type {\n",
       "        vertical-align: middle;\n",
       "    }\n",
       "\n",
       "    .dataframe tbody tr th {\n",
       "        vertical-align: top;\n",
       "    }\n",
       "\n",
       "    .dataframe thead th {\n",
       "        text-align: right;\n",
       "    }\n",
       "</style>\n",
       "<table border=\"1\" class=\"dataframe\">\n",
       "  <thead>\n",
       "    <tr style=\"text-align: right;\">\n",
       "      <th></th>\n",
       "      <th>PassengerId</th>\n",
       "      <th>Pclass</th>\n",
       "      <th>Name</th>\n",
       "      <th>Sex</th>\n",
       "      <th>Age</th>\n",
       "      <th>SibSp</th>\n",
       "      <th>Parch</th>\n",
       "      <th>Ticket</th>\n",
       "      <th>Fare</th>\n",
       "      <th>Embarked</th>\n",
       "    </tr>\n",
       "  </thead>\n",
       "  <tbody>\n",
       "    <tr>\n",
       "      <th>61</th>\n",
       "      <td>62</td>\n",
       "      <td>1</td>\n",
       "      <td>Icard, Miss. Amelie</td>\n",
       "      <td>female</td>\n",
       "      <td>38.0</td>\n",
       "      <td>0</td>\n",
       "      <td>0</td>\n",
       "      <td>113572</td>\n",
       "      <td>80.0</td>\n",
       "      <td>NaN</td>\n",
       "    </tr>\n",
       "    <tr>\n",
       "      <th>829</th>\n",
       "      <td>830</td>\n",
       "      <td>1</td>\n",
       "      <td>Stone, Mrs. George Nelson (Martha Evelyn)</td>\n",
       "      <td>female</td>\n",
       "      <td>62.0</td>\n",
       "      <td>0</td>\n",
       "      <td>0</td>\n",
       "      <td>113572</td>\n",
       "      <td>80.0</td>\n",
       "      <td>NaN</td>\n",
       "    </tr>\n",
       "  </tbody>\n",
       "</table>\n",
       "</div>"
      ],
      "text/plain": [
       "     PassengerId  Pclass                                       Name     Sex  \\\n",
       "61            62       1                        Icard, Miss. Amelie  female   \n",
       "829          830       1  Stone, Mrs. George Nelson (Martha Evelyn)  female   \n",
       "\n",
       "      Age  SibSp  Parch  Ticket  Fare Embarked  \n",
       "61   38.0      0      0  113572  80.0      NaN  \n",
       "829  62.0      0      0  113572  80.0      NaN  "
      ]
     },
     "execution_count": 12,
     "metadata": {},
     "output_type": "execute_result"
    }
   ],
   "source": [
    "concat_df[concat_df['Embarked'].isna()]"
   ]
  },
  {
   "cell_type": "code",
   "execution_count": 13,
   "id": "95efcaa6",
   "metadata": {
    "scrolled": true
   },
   "outputs": [
    {
     "data": {
      "text/html": [
       "<div>\n",
       "<style scoped>\n",
       "    .dataframe tbody tr th:only-of-type {\n",
       "        vertical-align: middle;\n",
       "    }\n",
       "\n",
       "    .dataframe tbody tr th {\n",
       "        vertical-align: top;\n",
       "    }\n",
       "\n",
       "    .dataframe thead th {\n",
       "        text-align: right;\n",
       "    }\n",
       "</style>\n",
       "<table border=\"1\" class=\"dataframe\">\n",
       "  <thead>\n",
       "    <tr style=\"text-align: right;\">\n",
       "      <th></th>\n",
       "      <th>PassengerId</th>\n",
       "      <th>Name</th>\n",
       "      <th>Age</th>\n",
       "      <th>SibSp</th>\n",
       "      <th>Parch</th>\n",
       "      <th>Ticket</th>\n",
       "      <th>Fare</th>\n",
       "    </tr>\n",
       "    <tr>\n",
       "      <th>Embarked</th>\n",
       "      <th></th>\n",
       "      <th></th>\n",
       "      <th></th>\n",
       "      <th></th>\n",
       "      <th></th>\n",
       "      <th></th>\n",
       "      <th></th>\n",
       "    </tr>\n",
       "  </thead>\n",
       "  <tbody>\n",
       "    <tr>\n",
       "      <th>C</th>\n",
       "      <td>71</td>\n",
       "      <td>71</td>\n",
       "      <td>65</td>\n",
       "      <td>71</td>\n",
       "      <td>71</td>\n",
       "      <td>71</td>\n",
       "      <td>71</td>\n",
       "    </tr>\n",
       "    <tr>\n",
       "      <th>Q</th>\n",
       "      <td>2</td>\n",
       "      <td>2</td>\n",
       "      <td>2</td>\n",
       "      <td>2</td>\n",
       "      <td>2</td>\n",
       "      <td>2</td>\n",
       "      <td>2</td>\n",
       "    </tr>\n",
       "    <tr>\n",
       "      <th>S</th>\n",
       "      <td>69</td>\n",
       "      <td>69</td>\n",
       "      <td>64</td>\n",
       "      <td>69</td>\n",
       "      <td>69</td>\n",
       "      <td>69</td>\n",
       "      <td>69</td>\n",
       "    </tr>\n",
       "  </tbody>\n",
       "</table>\n",
       "</div>"
      ],
      "text/plain": [
       "          PassengerId  Name  Age  SibSp  Parch  Ticket  Fare\n",
       "Embarked                                                    \n",
       "C                  71    71   65     71     71      71    71\n",
       "Q                   2     2    2      2      2       2     2\n",
       "S                  69    69   64     69     69      69    69"
      ]
     },
     "execution_count": 13,
     "metadata": {},
     "output_type": "execute_result"
    }
   ],
   "source": [
    "concat_df.groupby(['Pclass','Sex','Embarked']).count().loc[(1,'female')]  # 1st Class & Female"
   ]
  },
  {
   "cell_type": "markdown",
   "id": "6423a152",
   "metadata": {},
   "source": [
    "There are only 2 observations without Embarked data, so we will input the mode for them according to Sex and Pclass, in this case corresponds to Cherbourg('C') "
   ]
  },
  {
   "cell_type": "code",
   "execution_count": 14,
   "id": "f43a00e2",
   "metadata": {},
   "outputs": [],
   "source": [
    "concat_df['Embarked'] = concat_df['Embarked'].fillna('C')"
   ]
  },
  {
   "cell_type": "markdown",
   "id": "d52ae6b2",
   "metadata": {},
   "source": [
    "### Age"
   ]
  },
  {
   "cell_type": "code",
   "execution_count": 15,
   "id": "1c41fbbe",
   "metadata": {
    "scrolled": false
   },
   "outputs": [
    {
     "data": {
      "text/plain": [
       "<Figure size 360x576 with 0 Axes>"
      ]
     },
     "metadata": {},
     "output_type": "display_data"
    },
    {
     "data": {
      "image/png": "[encoded data removed]",
      "text/plain": [
       "<Figure size 216x216 with 1 Axes>"
      ]
     },
     "metadata": {
      "needs_background": "light"
     },
     "output_type": "display_data"
    },
    {
     "data": {
      "image/png": "[encoded data removed]",
      "text/plain": [
       "<Figure size 718.5x216 with 3 Axes>"
      ]
     },
     "metadata": {
      "needs_background": "light"
     },
     "output_type": "display_data"
    },
    {
     "data": {
      "image/png": "[encoded data removed]",
      "text/plain": [
       "<Figure size 706.25x216 with 3 Axes>"
      ]
     },
     "metadata": {
      "needs_background": "light"
     },
     "output_type": "display_data"
    }
   ],
   "source": [
    "plt.figure(figsize=(5,8))\n",
    "sns.displot(data=concat_df['Age'],kde=True,bins=40,height=3).set(title='Age Distribution')\n",
    "sns.displot(data=concat_df,x='Age',hue='Sex',col='Pclass',kde=True,bins=40,height=3)\n",
    "sns.displot(data=concat_df,x='Age',hue='Embarked',col='Pclass',kde=True,bins=40,height=3);"
   ]
  },
  {
   "cell_type": "markdown",
   "id": "b8b255e2",
   "metadata": {},
   "source": [
    "We can observe some differences between male and female distribution depending on the Ticket class. In addition to that, the distribution seems right skewed in some cases, so we will use median values to impute data."
   ]
  },
  {
   "cell_type": "code",
   "execution_count": 16,
   "id": "023c570d",
   "metadata": {},
   "outputs": [
    {
     "data": {
      "text/html": [
       "<div>\n",
       "<style scoped>\n",
       "    .dataframe tbody tr th:only-of-type {\n",
       "        vertical-align: middle;\n",
       "    }\n",
       "\n",
       "    .dataframe tbody tr th {\n",
       "        vertical-align: top;\n",
       "    }\n",
       "\n",
       "    .dataframe thead tr th {\n",
       "        text-align: left;\n",
       "    }\n",
       "\n",
       "    .dataframe thead tr:last-of-type th {\n",
       "        text-align: right;\n",
       "    }\n",
       "</style>\n",
       "<table border=\"1\" class=\"dataframe\">\n",
       "  <thead>\n",
       "    <tr>\n",
       "      <th></th>\n",
       "      <th colspan=\"4\" halign=\"left\">mean</th>\n",
       "      <th colspan=\"4\" halign=\"left\">count</th>\n",
       "    </tr>\n",
       "    <tr>\n",
       "      <th>Pclass</th>\n",
       "      <th>1</th>\n",
       "      <th>2</th>\n",
       "      <th>3</th>\n",
       "      <th>All</th>\n",
       "      <th>1</th>\n",
       "      <th>2</th>\n",
       "      <th>3</th>\n",
       "      <th>All</th>\n",
       "    </tr>\n",
       "    <tr>\n",
       "      <th>Sex</th>\n",
       "      <th></th>\n",
       "      <th></th>\n",
       "      <th></th>\n",
       "      <th></th>\n",
       "      <th></th>\n",
       "      <th></th>\n",
       "      <th></th>\n",
       "      <th></th>\n",
       "    </tr>\n",
       "  </thead>\n",
       "  <tbody>\n",
       "    <tr>\n",
       "      <th>female</th>\n",
       "      <td>37.037594</td>\n",
       "      <td>27.499223</td>\n",
       "      <td>22.185329</td>\n",
       "      <td>28.687088</td>\n",
       "      <td>133</td>\n",
       "      <td>103</td>\n",
       "      <td>152</td>\n",
       "      <td>388</td>\n",
       "    </tr>\n",
       "    <tr>\n",
       "      <th>male</th>\n",
       "      <td>41.029272</td>\n",
       "      <td>30.815380</td>\n",
       "      <td>25.962264</td>\n",
       "      <td>30.585228</td>\n",
       "      <td>151</td>\n",
       "      <td>158</td>\n",
       "      <td>349</td>\n",
       "      <td>658</td>\n",
       "    </tr>\n",
       "    <tr>\n",
       "      <th>All</th>\n",
       "      <td>39.159930</td>\n",
       "      <td>29.506705</td>\n",
       "      <td>24.816367</td>\n",
       "      <td>29.881138</td>\n",
       "      <td>284</td>\n",
       "      <td>261</td>\n",
       "      <td>501</td>\n",
       "      <td>1046</td>\n",
       "    </tr>\n",
       "  </tbody>\n",
       "</table>\n",
       "</div>"
      ],
      "text/plain": [
       "             mean                                  count                \n",
       "Pclass          1          2          3        All     1    2    3   All\n",
       "Sex                                                                     \n",
       "female  37.037594  27.499223  22.185329  28.687088   133  103  152   388\n",
       "male    41.029272  30.815380  25.962264  30.585228   151  158  349   658\n",
       "All     39.159930  29.506705  24.816367  29.881138   284  261  501  1046"
      ]
     },
     "execution_count": 16,
     "metadata": {},
     "output_type": "execute_result"
    }
   ],
   "source": [
    "concat_df.pivot_table(index='Sex', columns='Pclass', values='Age', aggfunc=['mean','count'],margins=True)"
   ]
  },
  {
   "cell_type": "code",
   "execution_count": 17,
   "id": "76411756",
   "metadata": {},
   "outputs": [
    {
     "data": {
      "text/html": [
       "<div>\n",
       "<style scoped>\n",
       "    .dataframe tbody tr th:only-of-type {\n",
       "        vertical-align: middle;\n",
       "    }\n",
       "\n",
       "    .dataframe tbody tr th {\n",
       "        vertical-align: top;\n",
       "    }\n",
       "\n",
       "    .dataframe thead tr th {\n",
       "        text-align: left;\n",
       "    }\n",
       "\n",
       "    .dataframe thead tr:last-of-type th {\n",
       "        text-align: right;\n",
       "    }\n",
       "</style>\n",
       "<table border=\"1\" class=\"dataframe\">\n",
       "  <thead>\n",
       "    <tr>\n",
       "      <th></th>\n",
       "      <th colspan=\"3\" halign=\"left\">mean</th>\n",
       "      <th colspan=\"3\" halign=\"left\">count</th>\n",
       "    </tr>\n",
       "    <tr>\n",
       "      <th>Pclass</th>\n",
       "      <th>1</th>\n",
       "      <th>2</th>\n",
       "      <th>3</th>\n",
       "      <th>1</th>\n",
       "      <th>2</th>\n",
       "      <th>3</th>\n",
       "    </tr>\n",
       "    <tr>\n",
       "      <th>Sex</th>\n",
       "      <th></th>\n",
       "      <th></th>\n",
       "      <th></th>\n",
       "      <th></th>\n",
       "      <th></th>\n",
       "      <th></th>\n",
       "    </tr>\n",
       "  </thead>\n",
       "  <tbody>\n",
       "    <tr>\n",
       "      <th>female</th>\n",
       "      <td>0.474434</td>\n",
       "      <td>0.471567</td>\n",
       "      <td>0.460778</td>\n",
       "      <td>0.46831</td>\n",
       "      <td>0.394636</td>\n",
       "      <td>0.303393</td>\n",
       "    </tr>\n",
       "    <tr>\n",
       "      <th>male</th>\n",
       "      <td>0.525566</td>\n",
       "      <td>0.528433</td>\n",
       "      <td>0.539222</td>\n",
       "      <td>0.53169</td>\n",
       "      <td>0.605364</td>\n",
       "      <td>0.696607</td>\n",
       "    </tr>\n",
       "  </tbody>\n",
       "</table>\n",
       "</div>"
      ],
      "text/plain": [
       "            mean                        count                    \n",
       "Pclass         1         2         3        1         2         3\n",
       "Sex                                                              \n",
       "female  0.474434  0.471567  0.460778  0.46831  0.394636  0.303393\n",
       "male    0.525566  0.528433  0.539222  0.53169  0.605364  0.696607"
      ]
     },
     "execution_count": 17,
     "metadata": {},
     "output_type": "execute_result"
    }
   ],
   "source": [
    "concat_df.pivot_table(index='Sex', columns='Pclass', values='Age', aggfunc=['mean','count']).apply(lambda x: x/x.sum())"
   ]
  },
  {
   "cell_type": "markdown",
   "id": "21de902f",
   "metadata": {},
   "source": [
    "We can see that as the Pclass increases, the mean age too (younger people belong to the 3rd class)"
   ]
  },
  {
   "cell_type": "code",
   "execution_count": 18,
   "id": "0af82003",
   "metadata": {},
   "outputs": [
    {
     "data": {
      "text/html": [
       "<div>\n",
       "<style scoped>\n",
       "    .dataframe tbody tr th:only-of-type {\n",
       "        vertical-align: middle;\n",
       "    }\n",
       "\n",
       "    .dataframe tbody tr th {\n",
       "        vertical-align: top;\n",
       "    }\n",
       "\n",
       "    .dataframe thead tr th {\n",
       "        text-align: left;\n",
       "    }\n",
       "\n",
       "    .dataframe thead tr:last-of-type th {\n",
       "        text-align: right;\n",
       "    }\n",
       "</style>\n",
       "<table border=\"1\" class=\"dataframe\">\n",
       "  <thead>\n",
       "    <tr>\n",
       "      <th></th>\n",
       "      <th></th>\n",
       "      <th colspan=\"4\" halign=\"left\">mean</th>\n",
       "      <th colspan=\"4\" halign=\"left\">count</th>\n",
       "    </tr>\n",
       "    <tr>\n",
       "      <th></th>\n",
       "      <th>Pclass</th>\n",
       "      <th>1</th>\n",
       "      <th>2</th>\n",
       "      <th>3</th>\n",
       "      <th>All</th>\n",
       "      <th>1</th>\n",
       "      <th>2</th>\n",
       "      <th>3</th>\n",
       "      <th>All</th>\n",
       "    </tr>\n",
       "    <tr>\n",
       "      <th>Sex</th>\n",
       "      <th>Embarked</th>\n",
       "      <th></th>\n",
       "      <th></th>\n",
       "      <th></th>\n",
       "      <th></th>\n",
       "      <th></th>\n",
       "      <th></th>\n",
       "      <th></th>\n",
       "      <th></th>\n",
       "    </tr>\n",
       "  </thead>\n",
       "  <tbody>\n",
       "    <tr>\n",
       "      <th rowspan=\"3\" valign=\"top\">female</th>\n",
       "      <th>C</th>\n",
       "      <td>38.462687</td>\n",
       "      <td>19.363636</td>\n",
       "      <td>16.818182</td>\n",
       "      <td>31.600000</td>\n",
       "      <td>67</td>\n",
       "      <td>11</td>\n",
       "      <td>22</td>\n",
       "      <td>100</td>\n",
       "    </tr>\n",
       "    <tr>\n",
       "      <th>Q</th>\n",
       "      <td>35.000000</td>\n",
       "      <td>30.000000</td>\n",
       "      <td>24.333333</td>\n",
       "      <td>25.458333</td>\n",
       "      <td>2</td>\n",
       "      <td>1</td>\n",
       "      <td>21</td>\n",
       "      <td>24</td>\n",
       "    </tr>\n",
       "    <tr>\n",
       "      <th>S</th>\n",
       "      <td>35.609375</td>\n",
       "      <td>28.455165</td>\n",
       "      <td>22.854771</td>\n",
       "      <td>27.877235</td>\n",
       "      <td>64</td>\n",
       "      <td>91</td>\n",
       "      <td>109</td>\n",
       "      <td>264</td>\n",
       "    </tr>\n",
       "    <tr>\n",
       "      <th rowspan=\"3\" valign=\"top\">male</th>\n",
       "      <th>C</th>\n",
       "      <td>40.047619</td>\n",
       "      <td>27.269231</td>\n",
       "      <td>24.129474</td>\n",
       "      <td>33.284386</td>\n",
       "      <td>63</td>\n",
       "      <td>13</td>\n",
       "      <td>38</td>\n",
       "      <td>114</td>\n",
       "    </tr>\n",
       "    <tr>\n",
       "      <th>Q</th>\n",
       "      <td>44.000000</td>\n",
       "      <td>53.750000</td>\n",
       "      <td>26.738095</td>\n",
       "      <td>31.557692</td>\n",
       "      <td>1</td>\n",
       "      <td>4</td>\n",
       "      <td>21</td>\n",
       "      <td>26</td>\n",
       "    </tr>\n",
       "    <tr>\n",
       "      <th>S</th>\n",
       "      <td>41.705977</td>\n",
       "      <td>30.491702</td>\n",
       "      <td>26.146241</td>\n",
       "      <td>29.942394</td>\n",
       "      <td>87</td>\n",
       "      <td>141</td>\n",
       "      <td>290</td>\n",
       "      <td>518</td>\n",
       "    </tr>\n",
       "    <tr>\n",
       "      <th>All</th>\n",
       "      <th></th>\n",
       "      <td>39.159930</td>\n",
       "      <td>29.506705</td>\n",
       "      <td>24.816367</td>\n",
       "      <td>29.881138</td>\n",
       "      <td>284</td>\n",
       "      <td>261</td>\n",
       "      <td>501</td>\n",
       "      <td>1046</td>\n",
       "    </tr>\n",
       "  </tbody>\n",
       "</table>\n",
       "</div>"
      ],
      "text/plain": [
       "                      mean                                  count            \\\n",
       "Pclass                   1          2          3        All     1    2    3   \n",
       "Sex    Embarked                                                               \n",
       "female C         38.462687  19.363636  16.818182  31.600000    67   11   22   \n",
       "       Q         35.000000  30.000000  24.333333  25.458333     2    1   21   \n",
       "       S         35.609375  28.455165  22.854771  27.877235    64   91  109   \n",
       "male   C         40.047619  27.269231  24.129474  33.284386    63   13   38   \n",
       "       Q         44.000000  53.750000  26.738095  31.557692     1    4   21   \n",
       "       S         41.705977  30.491702  26.146241  29.942394    87  141  290   \n",
       "All              39.159930  29.506705  24.816367  29.881138   284  261  501   \n",
       "\n",
       "                       \n",
       "Pclass            All  \n",
       "Sex    Embarked        \n",
       "female C          100  \n",
       "       Q           24  \n",
       "       S          264  \n",
       "male   C          114  \n",
       "       Q           26  \n",
       "       S          518  \n",
       "All              1046  "
      ]
     },
     "execution_count": 18,
     "metadata": {},
     "output_type": "execute_result"
    }
   ],
   "source": [
    "concat_df.pivot_table(index=['Sex','Embarked'], columns='Pclass', values='Age', aggfunc=['mean','count'], margins=True)"
   ]
  },
  {
   "cell_type": "markdown",
   "id": "7dc045a7",
   "metadata": {},
   "source": [
    "And people from Cherbourg tend to be older that people from Southampton (very few people from Queenstown to come to a conclusion)"
   ]
  },
  {
   "cell_type": "code",
   "execution_count": 19,
   "id": "e2f97fd5",
   "metadata": {},
   "outputs": [
    {
     "data": {
      "image/png": "[encoded data removed]",
      "text/plain": [
       "<Figure size 576x144 with 2 Axes>"
      ]
     },
     "metadata": {
      "needs_background": "light"
     },
     "output_type": "display_data"
    }
   ],
   "source": [
    "concat_df[concat_df.isna()['Age']][['Pclass','Fare']].hist(figsize=(8,2),bins=50);"
   ]
  },
  {
   "cell_type": "markdown",
   "id": "e4a10062",
   "metadata": {},
   "source": [
    "Most of the 'Age' missing data comes from 3rd class passengers and, as we saw above, the distribution not only differs between classes but also between male and female and between embarkation ports, so we will impute the missing data according to the median of this 3 features subpopulations."
   ]
  },
  {
   "cell_type": "code",
   "execution_count": 20,
   "id": "346fa58f",
   "metadata": {},
   "outputs": [],
   "source": [
    "impute_age_dic = dict(concat_df.groupby(['Pclass','Sex','Embarked']).median().round()['Age'])"
   ]
  },
  {
   "cell_type": "code",
   "execution_count": 21,
   "id": "54ffb88d",
   "metadata": {},
   "outputs": [],
   "source": [
    "def age_fill(pclass, sex, embark, dic):\n",
    "    for k, age in dic.items():\n",
    "        if pclass == k[0] and sex == k[1] and embark == k[2]:\n",
    "            return age"
   ]
  },
  {
   "cell_type": "code",
   "execution_count": 22,
   "id": "d5900833",
   "metadata": {},
   "outputs": [],
   "source": [
    "concat_df['Age'] = concat_df.apply(lambda x: age_fill(x['Pclass'],x['Sex'],x['Embarked'], impute_age_dic) \n",
    "                                             if pd.isna(x['Age']) else x['Age']\n",
    "                                   , axis=1)"
   ]
  },
  {
   "cell_type": "markdown",
   "id": "57afa970",
   "metadata": {},
   "source": [
    "### Fare"
   ]
  },
  {
   "cell_type": "code",
   "execution_count": 23,
   "id": "a20eb591",
   "metadata": {},
   "outputs": [
    {
     "data": {
      "text/html": [
       "<div>\n",
       "<style scoped>\n",
       "    .dataframe tbody tr th:only-of-type {\n",
       "        vertical-align: middle;\n",
       "    }\n",
       "\n",
       "    .dataframe tbody tr th {\n",
       "        vertical-align: top;\n",
       "    }\n",
       "\n",
       "    .dataframe thead th {\n",
       "        text-align: right;\n",
       "    }\n",
       "</style>\n",
       "<table border=\"1\" class=\"dataframe\">\n",
       "  <thead>\n",
       "    <tr style=\"text-align: right;\">\n",
       "      <th></th>\n",
       "      <th>PassengerId</th>\n",
       "      <th>Pclass</th>\n",
       "      <th>Name</th>\n",
       "      <th>Sex</th>\n",
       "      <th>Age</th>\n",
       "      <th>SibSp</th>\n",
       "      <th>Parch</th>\n",
       "      <th>Ticket</th>\n",
       "      <th>Fare</th>\n",
       "      <th>Embarked</th>\n",
       "    </tr>\n",
       "  </thead>\n",
       "  <tbody>\n",
       "    <tr>\n",
       "      <th>1043</th>\n",
       "      <td>1044</td>\n",
       "      <td>3</td>\n",
       "      <td>Storey, Mr. Thomas</td>\n",
       "      <td>male</td>\n",
       "      <td>60.5</td>\n",
       "      <td>0</td>\n",
       "      <td>0</td>\n",
       "      <td>3701</td>\n",
       "      <td>NaN</td>\n",
       "      <td>S</td>\n",
       "    </tr>\n",
       "  </tbody>\n",
       "</table>\n",
       "</div>"
      ],
      "text/plain": [
       "      PassengerId  Pclass                Name   Sex   Age  SibSp  Parch  \\\n",
       "1043         1044       3  Storey, Mr. Thomas  male  60.5      0      0   \n",
       "\n",
       "     Ticket  Fare Embarked  \n",
       "1043   3701   NaN        S  "
      ]
     },
     "execution_count": 23,
     "metadata": {},
     "output_type": "execute_result"
    }
   ],
   "source": [
    "concat_df[concat_df['Fare'].isna()]"
   ]
  },
  {
   "cell_type": "markdown",
   "id": "a1a9c1d6",
   "metadata": {},
   "source": [
    "Finally, there is one last missing value from the variable 'Fare'. We will impute the data by averaging the nearby values, according to the passanger features "
   ]
  },
  {
   "cell_type": "code",
   "execution_count": 24,
   "id": "f51a5b2c",
   "metadata": {},
   "outputs": [],
   "source": [
    "fare_miss = concat_df[(concat_df['Pclass']==3)&\n",
    "                      (concat_df['Age']>55)&\n",
    "                      (concat_df['Embarked']=='S')&\n",
    "                      (concat_df['Sex']=='male')]['Fare'].mean()\n",
    "concat_df['Fare'] = concat_df['Fare'].fillna(fare_miss)"
   ]
  },
  {
   "cell_type": "markdown",
   "id": "c63a89b7",
   "metadata": {},
   "source": [
    "# 3. EDA"
   ]
  },
  {
   "cell_type": "markdown",
   "id": "bdbf66fa",
   "metadata": {},
   "source": [
    "Now that we have filled in the missing values, we proceed to update our titanic set to explore its content"
   ]
  },
  {
   "cell_type": "code",
   "execution_count": 25,
   "id": "acf9e325",
   "metadata": {},
   "outputs": [],
   "source": [
    "titanic = concat_df.iloc[:len(titanic)]\n",
    "titanic = pd.concat([titanic,titanic_labels],axis=1)\n",
    "test = concat_df.iloc[len(titanic):]"
   ]
  },
  {
   "cell_type": "markdown",
   "id": "328177fd",
   "metadata": {},
   "source": [
    "### Pclass & Sex"
   ]
  },
  {
   "cell_type": "markdown",
   "id": "76e98257",
   "metadata": {},
   "source": [
    "First of all, we will check how PClass and Sex are related to Survival rate"
   ]
  },
  {
   "cell_type": "code",
   "execution_count": 26,
   "id": "6c8ad2ee",
   "metadata": {},
   "outputs": [
    {
     "data": {
      "image/png": "[encoded data removed]",
      "text/plain": [
       "<Figure size 576x432 with 3 Axes>"
      ]
     },
     "metadata": {
      "needs_background": "light"
     },
     "output_type": "display_data"
    }
   ],
   "source": [
    "f,ax = plt.subplots(2,2,figsize=(8,6))\n",
    "\n",
    "sns.countplot(data=titanic, x='Pclass', hue='Survived',ax=ax[0,0]).set_title('Survived by Class');\n",
    "sns.countplot(data=titanic[titanic['Sex']=='female'], x='Pclass', hue='Survived',ax=ax[1,0]).set_title('female');\n",
    "sns.countplot(data=titanic[titanic['Sex']=='male'], x='Pclass', hue='Survived',ax=ax[1,1]).set_title('male');\n",
    "f.delaxes(ax[0,1])\n",
    "plt.tight_layout()"
   ]
  },
  {
   "cell_type": "code",
   "execution_count": 27,
   "id": "3649563e",
   "metadata": {},
   "outputs": [
    {
     "data": {
      "text/html": [
       "<div>\n",
       "<style scoped>\n",
       "    .dataframe tbody tr th:only-of-type {\n",
       "        vertical-align: middle;\n",
       "    }\n",
       "\n",
       "    .dataframe tbody tr th {\n",
       "        vertical-align: top;\n",
       "    }\n",
       "\n",
       "    .dataframe thead th {\n",
       "        text-align: right;\n",
       "    }\n",
       "</style>\n",
       "<table border=\"1\" class=\"dataframe\">\n",
       "  <thead>\n",
       "    <tr style=\"text-align: right;\">\n",
       "      <th>Pclass</th>\n",
       "      <th>1</th>\n",
       "      <th>2</th>\n",
       "      <th>3</th>\n",
       "      <th>All</th>\n",
       "    </tr>\n",
       "    <tr>\n",
       "      <th>Sex</th>\n",
       "      <th></th>\n",
       "      <th></th>\n",
       "      <th></th>\n",
       "      <th></th>\n",
       "    </tr>\n",
       "  </thead>\n",
       "  <tbody>\n",
       "    <tr>\n",
       "      <th>female</th>\n",
       "      <td>0.968085</td>\n",
       "      <td>0.921053</td>\n",
       "      <td>0.500000</td>\n",
       "      <td>0.742038</td>\n",
       "    </tr>\n",
       "    <tr>\n",
       "      <th>male</th>\n",
       "      <td>0.368852</td>\n",
       "      <td>0.157407</td>\n",
       "      <td>0.135447</td>\n",
       "      <td>0.188908</td>\n",
       "    </tr>\n",
       "    <tr>\n",
       "      <th>All</th>\n",
       "      <td>0.629630</td>\n",
       "      <td>0.472826</td>\n",
       "      <td>0.242363</td>\n",
       "      <td>0.383838</td>\n",
       "    </tr>\n",
       "  </tbody>\n",
       "</table>\n",
       "</div>"
      ],
      "text/plain": [
       "Pclass         1         2         3       All\n",
       "Sex                                           \n",
       "female  0.968085  0.921053  0.500000  0.742038\n",
       "male    0.368852  0.157407  0.135447  0.188908\n",
       "All     0.629630  0.472826  0.242363  0.383838"
      ]
     },
     "execution_count": 27,
     "metadata": {},
     "output_type": "execute_result"
    }
   ],
   "source": [
    "titanic.pivot_table(index='Sex', columns='Pclass',values='Survived', aggfunc='mean', margins=True)"
   ]
  },
  {
   "cell_type": "markdown",
   "id": "6fd8fd80",
   "metadata": {},
   "source": [
    "As we can see, both variables have important differences in survivor rates depending on their values. The first class survival rate is close to 63% whereas 3rd class is roughly 24%. On the other hand, nearly 74% of women survived, almost every 1st and 2nd class female, and half of the 3rd class."
   ]
  },
  {
   "cell_type": "markdown",
   "id": "8c6fa3e3",
   "metadata": {},
   "source": [
    "### Embarked"
   ]
  },
  {
   "cell_type": "markdown",
   "id": "21ecec96",
   "metadata": {},
   "source": [
    "Another interesting factor to analyze would be whether the embarking port is relevant."
   ]
  },
  {
   "cell_type": "code",
   "execution_count": 28,
   "id": "1a888a8e",
   "metadata": {
    "scrolled": false
   },
   "outputs": [
    {
     "data": {
      "image/png": "[encoded data removed]",
      "text/plain": [
       "<Figure size 591.875x360 with 6 Axes>"
      ]
     },
     "metadata": {
      "needs_background": "light"
     },
     "output_type": "display_data"
    }
   ],
   "source": [
    "sns.displot(data=titanic.sort_values('Pclass'),x='Embarked',hue='Survived',multiple='dodge'\n",
    "            , shrink=0.8, row='Sex', col='Pclass', height=2.5);"
   ]
  },
  {
   "cell_type": "code",
   "execution_count": 29,
   "id": "20b9aebd",
   "metadata": {},
   "outputs": [
    {
     "data": {
      "text/html": [
       "<div>\n",
       "<style scoped>\n",
       "    .dataframe tbody tr th:only-of-type {\n",
       "        vertical-align: middle;\n",
       "    }\n",
       "\n",
       "    .dataframe tbody tr th {\n",
       "        vertical-align: top;\n",
       "    }\n",
       "\n",
       "    .dataframe thead tr th {\n",
       "        text-align: left;\n",
       "    }\n",
       "\n",
       "    .dataframe thead tr:last-of-type th {\n",
       "        text-align: right;\n",
       "    }\n",
       "</style>\n",
       "<table border=\"1\" class=\"dataframe\">\n",
       "  <thead>\n",
       "    <tr>\n",
       "      <th></th>\n",
       "      <th colspan=\"3\" halign=\"left\">mean</th>\n",
       "      <th colspan=\"3\" halign=\"left\">count</th>\n",
       "    </tr>\n",
       "    <tr>\n",
       "      <th>Sex</th>\n",
       "      <th>female</th>\n",
       "      <th>male</th>\n",
       "      <th>All</th>\n",
       "      <th>female</th>\n",
       "      <th>male</th>\n",
       "      <th>All</th>\n",
       "    </tr>\n",
       "    <tr>\n",
       "      <th>Embarked</th>\n",
       "      <th></th>\n",
       "      <th></th>\n",
       "      <th></th>\n",
       "      <th></th>\n",
       "      <th></th>\n",
       "      <th></th>\n",
       "    </tr>\n",
       "  </thead>\n",
       "  <tbody>\n",
       "    <tr>\n",
       "      <th>C</th>\n",
       "      <td>0.880000</td>\n",
       "      <td>0.305263</td>\n",
       "      <td>0.558824</td>\n",
       "      <td>75</td>\n",
       "      <td>95</td>\n",
       "      <td>170</td>\n",
       "    </tr>\n",
       "    <tr>\n",
       "      <th>Q</th>\n",
       "      <td>0.750000</td>\n",
       "      <td>0.073171</td>\n",
       "      <td>0.389610</td>\n",
       "      <td>36</td>\n",
       "      <td>41</td>\n",
       "      <td>77</td>\n",
       "    </tr>\n",
       "    <tr>\n",
       "      <th>S</th>\n",
       "      <td>0.689655</td>\n",
       "      <td>0.174603</td>\n",
       "      <td>0.336957</td>\n",
       "      <td>203</td>\n",
       "      <td>441</td>\n",
       "      <td>644</td>\n",
       "    </tr>\n",
       "    <tr>\n",
       "      <th>All</th>\n",
       "      <td>0.742038</td>\n",
       "      <td>0.188908</td>\n",
       "      <td>0.383838</td>\n",
       "      <td>314</td>\n",
       "      <td>577</td>\n",
       "      <td>891</td>\n",
       "    </tr>\n",
       "  </tbody>\n",
       "</table>\n",
       "</div>"
      ],
      "text/plain": [
       "              mean                      count          \n",
       "Sex         female      male       All female male  All\n",
       "Embarked                                               \n",
       "C         0.880000  0.305263  0.558824     75   95  170\n",
       "Q         0.750000  0.073171  0.389610     36   41   77\n",
       "S         0.689655  0.174603  0.336957    203  441  644\n",
       "All       0.742038  0.188908  0.383838    314  577  891"
      ]
     },
     "execution_count": 29,
     "metadata": {},
     "output_type": "execute_result"
    }
   ],
   "source": [
    "titanic.pivot_table(index='Embarked', columns='Sex', values='Survived', aggfunc=['mean','count'], margins=True)"
   ]
  },
  {
   "cell_type": "code",
   "execution_count": 30,
   "id": "ae607e6a",
   "metadata": {},
   "outputs": [
    {
     "data": {
      "text/html": [
       "<div>\n",
       "<style scoped>\n",
       "    .dataframe tbody tr th:only-of-type {\n",
       "        vertical-align: middle;\n",
       "    }\n",
       "\n",
       "    .dataframe tbody tr th {\n",
       "        vertical-align: top;\n",
       "    }\n",
       "\n",
       "    .dataframe thead tr th {\n",
       "        text-align: left;\n",
       "    }\n",
       "\n",
       "    .dataframe thead tr:last-of-type th {\n",
       "        text-align: right;\n",
       "    }\n",
       "</style>\n",
       "<table border=\"1\" class=\"dataframe\">\n",
       "  <thead>\n",
       "    <tr>\n",
       "      <th></th>\n",
       "      <th colspan=\"4\" halign=\"left\">mean</th>\n",
       "      <th colspan=\"4\" halign=\"left\">count</th>\n",
       "    </tr>\n",
       "    <tr>\n",
       "      <th>Pclass</th>\n",
       "      <th>1</th>\n",
       "      <th>2</th>\n",
       "      <th>3</th>\n",
       "      <th>All</th>\n",
       "      <th>1</th>\n",
       "      <th>2</th>\n",
       "      <th>3</th>\n",
       "      <th>All</th>\n",
       "    </tr>\n",
       "    <tr>\n",
       "      <th>Embarked</th>\n",
       "      <th></th>\n",
       "      <th></th>\n",
       "      <th></th>\n",
       "      <th></th>\n",
       "      <th></th>\n",
       "      <th></th>\n",
       "      <th></th>\n",
       "      <th></th>\n",
       "    </tr>\n",
       "  </thead>\n",
       "  <tbody>\n",
       "    <tr>\n",
       "      <th>C</th>\n",
       "      <td>0.701149</td>\n",
       "      <td>0.529412</td>\n",
       "      <td>0.378788</td>\n",
       "      <td>0.558824</td>\n",
       "      <td>87</td>\n",
       "      <td>17</td>\n",
       "      <td>66</td>\n",
       "      <td>170</td>\n",
       "    </tr>\n",
       "    <tr>\n",
       "      <th>Q</th>\n",
       "      <td>0.500000</td>\n",
       "      <td>0.666667</td>\n",
       "      <td>0.375000</td>\n",
       "      <td>0.389610</td>\n",
       "      <td>2</td>\n",
       "      <td>3</td>\n",
       "      <td>72</td>\n",
       "      <td>77</td>\n",
       "    </tr>\n",
       "    <tr>\n",
       "      <th>S</th>\n",
       "      <td>0.582677</td>\n",
       "      <td>0.463415</td>\n",
       "      <td>0.189802</td>\n",
       "      <td>0.336957</td>\n",
       "      <td>127</td>\n",
       "      <td>164</td>\n",
       "      <td>353</td>\n",
       "      <td>644</td>\n",
       "    </tr>\n",
       "    <tr>\n",
       "      <th>All</th>\n",
       "      <td>0.629630</td>\n",
       "      <td>0.472826</td>\n",
       "      <td>0.242363</td>\n",
       "      <td>0.383838</td>\n",
       "      <td>216</td>\n",
       "      <td>184</td>\n",
       "      <td>491</td>\n",
       "      <td>891</td>\n",
       "    </tr>\n",
       "  </tbody>\n",
       "</table>\n",
       "</div>"
      ],
      "text/plain": [
       "              mean                               count               \n",
       "Pclass           1         2         3       All     1    2    3  All\n",
       "Embarked                                                             \n",
       "C         0.701149  0.529412  0.378788  0.558824    87   17   66  170\n",
       "Q         0.500000  0.666667  0.375000  0.389610     2    3   72   77\n",
       "S         0.582677  0.463415  0.189802  0.336957   127  164  353  644\n",
       "All       0.629630  0.472826  0.242363  0.383838   216  184  491  891"
      ]
     },
     "execution_count": 30,
     "metadata": {},
     "output_type": "execute_result"
    }
   ],
   "source": [
    "titanic.pivot_table(index='Embarked', columns='Pclass', values='Survived', aggfunc=['mean','count'], margins=True)"
   ]
  },
  {
   "cell_type": "code",
   "execution_count": 31,
   "id": "0fd9ea46",
   "metadata": {},
   "outputs": [
    {
     "data": {
      "text/html": [
       "<div>\n",
       "<style scoped>\n",
       "    .dataframe tbody tr th:only-of-type {\n",
       "        vertical-align: middle;\n",
       "    }\n",
       "\n",
       "    .dataframe tbody tr th {\n",
       "        vertical-align: top;\n",
       "    }\n",
       "\n",
       "    .dataframe thead tr th {\n",
       "        text-align: left;\n",
       "    }\n",
       "\n",
       "    .dataframe thead tr:last-of-type th {\n",
       "        text-align: right;\n",
       "    }\n",
       "</style>\n",
       "<table border=\"1\" class=\"dataframe\">\n",
       "  <thead>\n",
       "    <tr>\n",
       "      <th></th>\n",
       "      <th colspan=\"7\" halign=\"left\">mean</th>\n",
       "      <th colspan=\"7\" halign=\"left\">count</th>\n",
       "    </tr>\n",
       "    <tr>\n",
       "      <th>Sex</th>\n",
       "      <th colspan=\"3\" halign=\"left\">female</th>\n",
       "      <th colspan=\"3\" halign=\"left\">male</th>\n",
       "      <th>All</th>\n",
       "      <th colspan=\"3\" halign=\"left\">female</th>\n",
       "      <th colspan=\"3\" halign=\"left\">male</th>\n",
       "      <th>All</th>\n",
       "    </tr>\n",
       "    <tr>\n",
       "      <th>Pclass</th>\n",
       "      <th>1</th>\n",
       "      <th>2</th>\n",
       "      <th>3</th>\n",
       "      <th>1</th>\n",
       "      <th>2</th>\n",
       "      <th>3</th>\n",
       "      <th></th>\n",
       "      <th>1</th>\n",
       "      <th>2</th>\n",
       "      <th>3</th>\n",
       "      <th>1</th>\n",
       "      <th>2</th>\n",
       "      <th>3</th>\n",
       "      <th></th>\n",
       "    </tr>\n",
       "    <tr>\n",
       "      <th>Embarked</th>\n",
       "      <th></th>\n",
       "      <th></th>\n",
       "      <th></th>\n",
       "      <th></th>\n",
       "      <th></th>\n",
       "      <th></th>\n",
       "      <th></th>\n",
       "      <th></th>\n",
       "      <th></th>\n",
       "      <th></th>\n",
       "      <th></th>\n",
       "      <th></th>\n",
       "      <th></th>\n",
       "      <th></th>\n",
       "    </tr>\n",
       "  </thead>\n",
       "  <tbody>\n",
       "    <tr>\n",
       "      <th>C</th>\n",
       "      <td>0.977778</td>\n",
       "      <td>1.000000</td>\n",
       "      <td>0.652174</td>\n",
       "      <td>0.404762</td>\n",
       "      <td>0.200000</td>\n",
       "      <td>0.232558</td>\n",
       "      <td>0.558824</td>\n",
       "      <td>45</td>\n",
       "      <td>7</td>\n",
       "      <td>23</td>\n",
       "      <td>42</td>\n",
       "      <td>10</td>\n",
       "      <td>43</td>\n",
       "      <td>170</td>\n",
       "    </tr>\n",
       "    <tr>\n",
       "      <th>Q</th>\n",
       "      <td>1.000000</td>\n",
       "      <td>1.000000</td>\n",
       "      <td>0.727273</td>\n",
       "      <td>0.000000</td>\n",
       "      <td>0.000000</td>\n",
       "      <td>0.076923</td>\n",
       "      <td>0.389610</td>\n",
       "      <td>1</td>\n",
       "      <td>2</td>\n",
       "      <td>33</td>\n",
       "      <td>1</td>\n",
       "      <td>1</td>\n",
       "      <td>39</td>\n",
       "      <td>77</td>\n",
       "    </tr>\n",
       "    <tr>\n",
       "      <th>S</th>\n",
       "      <td>0.958333</td>\n",
       "      <td>0.910448</td>\n",
       "      <td>0.375000</td>\n",
       "      <td>0.354430</td>\n",
       "      <td>0.154639</td>\n",
       "      <td>0.128302</td>\n",
       "      <td>0.336957</td>\n",
       "      <td>48</td>\n",
       "      <td>67</td>\n",
       "      <td>88</td>\n",
       "      <td>79</td>\n",
       "      <td>97</td>\n",
       "      <td>265</td>\n",
       "      <td>644</td>\n",
       "    </tr>\n",
       "    <tr>\n",
       "      <th>All</th>\n",
       "      <td>0.968085</td>\n",
       "      <td>0.921053</td>\n",
       "      <td>0.500000</td>\n",
       "      <td>0.368852</td>\n",
       "      <td>0.157407</td>\n",
       "      <td>0.135447</td>\n",
       "      <td>0.383838</td>\n",
       "      <td>94</td>\n",
       "      <td>76</td>\n",
       "      <td>144</td>\n",
       "      <td>122</td>\n",
       "      <td>108</td>\n",
       "      <td>347</td>\n",
       "      <td>891</td>\n",
       "    </tr>\n",
       "  </tbody>\n",
       "</table>\n",
       "</div>"
      ],
      "text/plain": [
       "              mean                                                    \\\n",
       "Sex         female                          male                       \n",
       "Pclass           1         2         3         1         2         3   \n",
       "Embarked                                                               \n",
       "C         0.977778  1.000000  0.652174  0.404762  0.200000  0.232558   \n",
       "Q         1.000000  1.000000  0.727273  0.000000  0.000000  0.076923   \n",
       "S         0.958333  0.910448  0.375000  0.354430  0.154639  0.128302   \n",
       "All       0.968085  0.921053  0.500000  0.368852  0.157407  0.135447   \n",
       "\n",
       "                    count                               \n",
       "Sex            All female          male            All  \n",
       "Pclass                  1   2    3    1    2    3       \n",
       "Embarked                                                \n",
       "C         0.558824     45   7   23   42   10   43  170  \n",
       "Q         0.389610      1   2   33    1    1   39   77  \n",
       "S         0.336957     48  67   88   79   97  265  644  \n",
       "All       0.383838     94  76  144  122  108  347  891  "
      ]
     },
     "execution_count": 31,
     "metadata": {},
     "output_type": "execute_result"
    }
   ],
   "source": [
    "titanic.pivot_table(index='Embarked', columns=['Sex','Pclass'], values='Survived', aggfunc=['mean','count'], margins=True)"
   ]
  },
  {
   "cell_type": "markdown",
   "id": "9f1c7e93",
   "metadata": {},
   "source": [
    "Even comparing subpopulations depending on sex and class, the survivor rate is different, where people who embarked in Cherbourg ('C') have the higher survivor rate, and people who embarked from Southampton ('S') tend to have the lowest survivor rate (note that we have few observations from Queenstown and most of the 3rd class male population belongs to Southampton)."
   ]
  },
  {
   "cell_type": "markdown",
   "id": "2ee0b316",
   "metadata": {},
   "source": [
    "### Age"
   ]
  },
  {
   "cell_type": "markdown",
   "id": "840fffd4",
   "metadata": {},
   "source": [
    "Age is another interesting feature to study. Age has almost no linear correlation with the predicted variable, let's take a closer look"
   ]
  },
  {
   "cell_type": "code",
   "execution_count": 32,
   "id": "d07512e5",
   "metadata": {
    "scrolled": true
   },
   "outputs": [
    {
     "data": {
      "image/png": "[encoded data removed]",
      "text/plain": [
       "<Figure size 432x288 with 2 Axes>"
      ]
     },
     "metadata": {
      "needs_background": "light"
     },
     "output_type": "display_data"
    }
   ],
   "source": [
    "f, ax = plt.subplots(1,2)\n",
    "sns.boxplot(data=titanic, x='Survived', y='Age', hue='Sex', ax=ax[0]);\n",
    "sns.boxplot(data=titanic, x='Sex', y='Age', ax=ax[1]);\n",
    "plt.tight_layout()"
   ]
  },
  {
   "cell_type": "code",
   "execution_count": 33,
   "id": "62333e29",
   "metadata": {},
   "outputs": [
    {
     "data": {
      "image/png": "[encoded data removed]",
      "text/plain": [
       "<Figure size 252x252 with 1 Axes>"
      ]
     },
     "metadata": {
      "needs_background": "light"
     },
     "output_type": "display_data"
    }
   ],
   "source": [
    "sns.displot(data = titanic, x='Age',kind='kde', fill=True, lw=3, color=('#3492D1'), height=3.5);"
   ]
  },
  {
   "cell_type": "code",
   "execution_count": 34,
   "id": "57c0af5f",
   "metadata": {},
   "outputs": [
    {
     "data": {
      "image/png": "[encoded data removed]",
      "text/plain": [
       "<Figure size 720x360 with 2 Axes>"
      ]
     },
     "metadata": {
      "needs_background": "light"
     },
     "output_type": "display_data"
    }
   ],
   "source": [
    "f,ax = plt.subplots(1,2,figsize=(10,5))\n",
    "\n",
    "sns.kdeplot(data=titanic, x='Age', hue='Survived', fill=True, lw=3, palette='viridis', ax=ax[0])\n",
    "sns.kdeplot(data=titanic, x='Age', hue='Survived', multiple='fill', palette='viridis', ax=ax[1]);"
   ]
  },
  {
   "cell_type": "markdown",
   "id": "dd30fe91",
   "metadata": {},
   "source": [
    "We can notice that the youngest passengers (children) have a higher survival rate (peak at the beginning). On the other hand, older people (around 64 and over) have a lower survival rate."
   ]
  },
  {
   "cell_type": "markdown",
   "id": "7e3f868b",
   "metadata": {},
   "source": [
    "We can analyze the relationships between the rest of the variables with a correlation heatmap:"
   ]
  },
  {
   "cell_type": "code",
   "execution_count": 35,
   "id": "8bac1e37",
   "metadata": {},
   "outputs": [
    {
     "data": {
      "image/png": "[encoded data removed]",
      "text/plain": [
       "<Figure size 432x288 with 2 Axes>"
      ]
     },
     "metadata": {
      "needs_background": "light"
     },
     "output_type": "display_data"
    }
   ],
   "source": [
    "sns.heatmap(titanic.corr(), annot=True,center=0, fmt='.1f');"
   ]
  },
  {
   "cell_type": "markdown",
   "id": "e691d166",
   "metadata": {},
   "source": [
    "### Fare"
   ]
  },
  {
   "cell_type": "markdown",
   "id": "c17b44cc",
   "metadata": {},
   "source": [
    "It seems that there is a weak correlation between the predictors and the 'Survived' variable. One of the highest values corresponds to Fare, but is worth noting its correlation with Pclass, variable we previously analyzed."
   ]
  },
  {
   "cell_type": "code",
   "execution_count": 36,
   "id": "bc09fc5e",
   "metadata": {},
   "outputs": [
    {
     "data": {
      "image/png": "[encoded data removed]",
      "text/plain": [
       "<Figure size 720x288 with 2 Axes>"
      ]
     },
     "metadata": {
      "needs_background": "light"
     },
     "output_type": "display_data"
    }
   ],
   "source": [
    "f, ax = plt.subplots(1,2,figsize = (10,4), sharey=True)\n",
    "sns.boxplot(data=titanic, x='Survived', y='Fare',ax=ax[0]);\n",
    "sns.boxplot(data=titanic, x='Pclass', y='Fare',ax=ax[1]);"
   ]
  },
  {
   "cell_type": "markdown",
   "id": "52baa4bc",
   "metadata": {},
   "source": [
    "Just as we did with Age, let's check its distribution."
   ]
  },
  {
   "cell_type": "code",
   "execution_count": 37,
   "id": "6fa4d0b4",
   "metadata": {},
   "outputs": [
    {
     "data": {
      "image/png": "[encoded data removed]",
      "text/plain": [
       "<Figure size 360x360 with 1 Axes>"
      ]
     },
     "metadata": {
      "needs_background": "light"
     },
     "output_type": "display_data"
    }
   ],
   "source": [
    "sns.displot(data=titanic, x='Fare', kde=True, bins=45,color='b');"
   ]
  },
  {
   "cell_type": "code",
   "execution_count": 38,
   "id": "a171f683",
   "metadata": {},
   "outputs": [
    {
     "data": {
      "text/plain": [
       "4.787316519674893"
      ]
     },
     "execution_count": 38,
     "metadata": {},
     "output_type": "execute_result"
    }
   ],
   "source": [
    "titanic['Fare'].skew()"
   ]
  },
  {
   "cell_type": "markdown",
   "id": "9da586b7",
   "metadata": {},
   "source": [
    "As we can appreciate, visually and computationally, this distribution is highly right skewed (0.5 is a rule of thumb for moderate skewness).\n",
    "\n",
    "Skewed data leads to different problems such as include biases and affect some models assumptions, where although some type of models are robust to skewness (such as tree based methods) this will limit our options. Therefore, we need to tackle this problem transforming de feature to have a more gaussian like distribution. To do this, let's apply a **natural logarithmic(x+1)**, to avoid having negative infinite values."
   ]
  },
  {
   "cell_type": "code",
   "execution_count": 39,
   "id": "474f2691",
   "metadata": {},
   "outputs": [
    {
     "data": {
      "image/png": "[encoded data removed]",
      "text/plain": [
       "<Figure size 864x288 with 2 Axes>"
      ]
     },
     "metadata": {
      "needs_background": "light"
     },
     "output_type": "display_data"
    }
   ],
   "source": [
    "f, ax = plt.subplots(1,2,figsize=(12,4))\n",
    "\n",
    "sns.histplot(titanic['Fare'], kde=True,bins=25, ax=ax[0]);\n",
    "sns.histplot(np.log(titanic['Fare']+1), kde=True,bins=25, ax=ax[1]);"
   ]
  },
  {
   "cell_type": "code",
   "execution_count": 40,
   "id": "03fcdcaa",
   "metadata": {},
   "outputs": [
    {
     "data": {
      "text/plain": [
       "Fare    0.394928\n",
       "dtype: float64"
      ]
     },
     "execution_count": 40,
     "metadata": {},
     "output_type": "execute_result"
    }
   ],
   "source": [
    "pd.DataFrame(np.log(titanic['Fare']+1)).skew()"
   ]
  },
  {
   "cell_type": "markdown",
   "id": "aaa6adc7",
   "metadata": {},
   "source": [
    "The transformation worked and the skewness was reduced to roughly 0.4 (small/moderate). Now let's apply this to our full data set"
   ]
  },
  {
   "cell_type": "code",
   "execution_count": 41,
   "id": "74dfa58e",
   "metadata": {},
   "outputs": [
    {
     "data": {
      "text/plain": [
       "0.5431076703308357"
      ]
     },
     "execution_count": 41,
     "metadata": {},
     "output_type": "execute_result"
    }
   ],
   "source": [
    "concat_df['Fare'] = np.log(concat_df['Fare']+1)\n",
    "concat_df['Fare'].skew()  # in this case the skewness is a little higher but still has a small value, much better than before"
   ]
  },
  {
   "cell_type": "markdown",
   "id": "dbef076c",
   "metadata": {},
   "source": [
    "### SibPb & Parch"
   ]
  },
  {
   "cell_type": "code",
   "execution_count": 42,
   "id": "b87a586a",
   "metadata": {},
   "outputs": [
    {
     "data": {
      "image/png": "[encoded data removed]",
      "text/plain": [
       "<Figure size 792x288 with 2 Axes>"
      ]
     },
     "metadata": {
      "needs_background": "light"
     },
     "output_type": "display_data"
    }
   ],
   "source": [
    "f, ax = plt.subplots(1,2,figsize=(11,4),sharey=True)\n",
    "\n",
    "sns.barplot(data=titanic, x='SibSp', y='Survived',ax=ax[0])   # confidence intervals obtained by seaborn using bootstrap\n",
    "sns.barplot(data=titanic, x='Parch', y='Survived',ax=ax[1]);"
   ]
  },
  {
   "cell_type": "markdown",
   "id": "90b79e85",
   "metadata": {},
   "source": [
    "This suggest that having many SibSp or Parch is related to a lower survival rate. The subpopulations with an intermediate numer of people related are the ones with the higher survival rate, followed by the individual passengers (0 SibSp/Parch)."
   ]
  },
  {
   "cell_type": "code",
   "execution_count": 43,
   "id": "f2bbe55e",
   "metadata": {},
   "outputs": [
    {
     "data": {
      "image/png": "[encoded data removed]",
      "text/plain": [
       "<Figure size 432x288 with 2 Axes>"
      ]
     },
     "metadata": {
      "needs_background": "light"
     },
     "output_type": "display_data"
    }
   ],
   "source": [
    "sns.heatmap(titanic.pivot_table(index='SibSp',columns='Parch',values='Survived',aggfunc='mean'), annot=True);"
   ]
  },
  {
   "cell_type": "markdown",
   "id": "7ff60b06",
   "metadata": {},
   "source": [
    "As we can see the small/medium families have higher survival rate compared to large families "
   ]
  },
  {
   "cell_type": "markdown",
   "id": "3bfc78d2",
   "metadata": {},
   "source": [
    "Finally, we can also observe a relationship between SibSp and Parch, so it would be interesting to create a new feature that adds them (Feature engineering)."
   ]
  },
  {
   "cell_type": "markdown",
   "id": "20904f89",
   "metadata": {
    "slideshow": {
     "slide_type": "-"
    }
   },
   "source": [
    "# 3.Feature Engineering "
   ]
  },
  {
   "cell_type": "markdown",
   "id": "496bad9d",
   "metadata": {},
   "source": [
    "### Family"
   ]
  },
  {
   "cell_type": "markdown",
   "id": "887a648a",
   "metadata": {},
   "source": [
    "As we saw at the end of the last section, it would be interesting to create a new feature that adds SibSp and Parch. This new variable will be called Family."
   ]
  },
  {
   "cell_type": "code",
   "execution_count": 44,
   "id": "c1344fa3",
   "metadata": {},
   "outputs": [],
   "source": [
    "concat_df['Family'] = concat_df['SibSp']+concat_df['Parch']"
   ]
  },
  {
   "cell_type": "code",
   "execution_count": 45,
   "id": "da54b860",
   "metadata": {},
   "outputs": [],
   "source": [
    "# Let's update our training set again to analyze our new feature \n",
    "titanic = concat_df.iloc[:len(titanic)]\n",
    "titanic = pd.concat([titanic,titanic_labels],axis=1)"
   ]
  },
  {
   "cell_type": "code",
   "execution_count": 46,
   "id": "4622ce0b",
   "metadata": {},
   "outputs": [
    {
     "data": {
      "image/png": "[encoded data removed]",
      "text/plain": [
       "<Figure size 360x360 with 1 Axes>"
      ]
     },
     "metadata": {
      "needs_background": "light"
     },
     "output_type": "display_data"
    }
   ],
   "source": [
    "sns.catplot(data=titanic, x='Family',y='Survived', kind='bar');"
   ]
  },
  {
   "cell_type": "markdown",
   "id": "a28a1263",
   "metadata": {},
   "source": [
    "Now, we will cluster this into 4 groups depending on its survival rate according to the number of family members."
   ]
  },
  {
   "cell_type": "code",
   "execution_count": 47,
   "id": "6c0da6de",
   "metadata": {},
   "outputs": [],
   "source": [
    "dict_fam_clust = {  **dict.fromkeys([0],1), \n",
    "                    **dict.fromkeys([1,2,3],2),\n",
    "                    **dict.fromkeys([4,5,6],3),\n",
    "                    **dict.fromkeys(range(7,16),4)\n",
    "                  }\n",
    "concat_df['Family']=concat_df['Family'].map(dict_fam_clust)"
   ]
  },
  {
   "cell_type": "markdown",
   "id": "6208f175",
   "metadata": {},
   "source": [
    "This clustering resulted in more effective models than those that conserved the non-transformed Family variable."
   ]
  },
  {
   "cell_type": "markdown",
   "id": "4762d1d9",
   "metadata": {},
   "source": [
    "### Titles"
   ]
  },
  {
   "cell_type": "markdown",
   "id": "81157bfb",
   "metadata": {},
   "source": [
    "When we analyze the 'Name' feature, it is hard to take adventage of it and seems useless at first glance. But if we take a closer look, we can distinguish a title that accompanies the name, which we will extract to use in our model."
   ]
  },
  {
   "cell_type": "code",
   "execution_count": 48,
   "id": "8426dbb1",
   "metadata": {},
   "outputs": [
    {
     "data": {
      "image/png": "[encoded data removed]",
      "text/plain": [
       "<Figure size 450x180 with 1 Axes>"
      ]
     },
     "metadata": {
      "needs_background": "light"
     },
     "output_type": "display_data"
    }
   ],
   "source": [
    "titles = concat_df['Name'].apply(lambda x: x.split(',')[1].split('.')[0].strip())\n",
    "sns.displot(titles, height=2.5,aspect=2.5).set_xticklabels(rotation=45);"
   ]
  },
  {
   "cell_type": "code",
   "execution_count": 49,
   "id": "14c4a641",
   "metadata": {},
   "outputs": [
    {
     "data": {
      "text/plain": [
       "Mr              757\n",
       "Miss            260\n",
       "Mrs             197\n",
       "Master           61\n",
       "Dr                8\n",
       "Rev               8\n",
       "Col               4\n",
       "Mlle              2\n",
       "Ms                2\n",
       "Major             2\n",
       "Mme               1\n",
       "the Countess      1\n",
       "Sir               1\n",
       "Jonkheer          1\n",
       "Lady              1\n",
       "Capt              1\n",
       "Dona              1\n",
       "Don               1\n",
       "Name: Name, dtype: int64"
      ]
     },
     "execution_count": 49,
     "metadata": {},
     "output_type": "execute_result"
    }
   ],
   "source": [
    "titles.value_counts()"
   ]
  },
  {
   "cell_type": "markdown",
   "id": "61fbcb06",
   "metadata": {},
   "source": [
    "From the above we can cluster this titles into 4 groups:"
   ]
  },
  {
   "cell_type": "code",
   "execution_count": 50,
   "id": "4c239241",
   "metadata": {},
   "outputs": [],
   "source": [
    "# 1st cluster - The Most common title (only males)\n",
    "# 2nd cluster - The 2nd and 3rd most common titles (only females) & some other less common categories for women \n",
    "# 3rd cluster - The Masters, only males but a particular group of them (with higher survival rate than Mr)\n",
    "# 4th cluster - The rest of titles\n",
    "\n",
    "def name_cluster(nm):\n",
    "    if nm == 'Mr':\n",
    "        return 1\n",
    "    elif nm == 'Miss' or nm == 'Mrs' or nm == 'Lady' or nm == 'Ms' or nm == 'Mlle' or nm == 'the Countess':\n",
    "        return 2\n",
    "    elif nm == 'Master':\n",
    "        return 3\n",
    "    else:\n",
    "        return 4"
   ]
  },
  {
   "cell_type": "code",
   "execution_count": 51,
   "id": "fd52f156",
   "metadata": {},
   "outputs": [],
   "source": [
    "concat_df['Titles'] = titles.apply(lambda x: name_cluster(x))"
   ]
  },
  {
   "cell_type": "markdown",
   "id": "aa1e2e96",
   "metadata": {},
   "source": [
    "Now that we have our new feature, we will transform its type to categorial (together with the variable Pclass) and drop the variables we won't need to train our model"
   ]
  },
  {
   "cell_type": "code",
   "execution_count": 52,
   "id": "1f93e673",
   "metadata": {},
   "outputs": [],
   "source": [
    "# Categorical transformation\n",
    "concat_df[['Titles','Pclass','Family']] = concat_df[['Titles','Pclass','Family']].astype(str)\n",
    "\n",
    "# Dropping features\n",
    "concat_df_train = concat_df.drop(['PassengerId','Name','Ticket'],axis=1)\n",
    "\n",
    "# Updating our training set\n",
    "titanic = concat_df_train[:len(titanic)]"
   ]
  },
  {
   "cell_type": "code",
   "execution_count": 53,
   "id": "f13bf68e",
   "metadata": {},
   "outputs": [
    {
     "name": "stdout",
     "output_type": "stream",
     "text": [
      "<class 'pandas.core.frame.DataFrame'>\n",
      "RangeIndex: 891 entries, 0 to 890\n",
      "Data columns (total 9 columns):\n",
      " #   Column    Non-Null Count  Dtype  \n",
      "---  ------    --------------  -----  \n",
      " 0   Pclass    891 non-null    object \n",
      " 1   Sex       891 non-null    object \n",
      " 2   Age       891 non-null    float64\n",
      " 3   SibSp     891 non-null    int64  \n",
      " 4   Parch     891 non-null    int64  \n",
      " 5   Fare      891 non-null    float64\n",
      " 6   Embarked  891 non-null    object \n",
      " 7   Family    891 non-null    object \n",
      " 8   Titles    891 non-null    object \n",
      "dtypes: float64(2), int64(2), object(5)\n",
      "memory usage: 62.8+ KB\n"
     ]
    }
   ],
   "source": [
    "titanic.info()"
   ]
  },
  {
   "cell_type": "code",
   "execution_count": 54,
   "id": "ed59acef",
   "metadata": {},
   "outputs": [],
   "source": [
    "num_feat = titanic.select_dtypes(exclude = 'object').columns\n",
    "cat_feat = titanic.select_dtypes(include = 'object').columns"
   ]
  },
  {
   "cell_type": "markdown",
   "id": "fe52e368",
   "metadata": {},
   "source": [
    "Before training our models, we will implement a pipeline to preprocess our data, scaling it and adding a second degree polynomial transformation to feed the models."
   ]
  },
  {
   "cell_type": "code",
   "execution_count": 55,
   "id": "f9f2842b",
   "metadata": {},
   "outputs": [],
   "source": [
    "from sklearn.preprocessing import StandardScaler\n",
    "from sklearn.preprocessing import PolynomialFeatures\n",
    "from sklearn.pipeline import Pipeline\n",
    "\n",
    "pipe = Pipeline([('poly', PolynomialFeatures(degree=2, include_bias=False)), # The bias term is handled by the linear models themselves. \n",
    "                 ('scaler', StandardScaler())\n",
    "                ])"
   ]
  },
  {
   "cell_type": "code",
   "execution_count": 56,
   "id": "065f8c98",
   "metadata": {
    "scrolled": true
   },
   "outputs": [
    {
     "data": {
      "text/plain": [
       "['Age',\n",
       " 'SibSp',\n",
       " 'Parch',\n",
       " 'Fare',\n",
       " 'Age^2',\n",
       " 'Age SibSp',\n",
       " 'Age Parch',\n",
       " 'Age Fare',\n",
       " 'SibSp^2',\n",
       " 'SibSp Parch',\n",
       " 'SibSp Fare',\n",
       " 'Parch^2',\n",
       " 'Parch Fare',\n",
       " 'Fare^2']"
      ]
     },
     "execution_count": 56,
     "metadata": {},
     "output_type": "execute_result"
    }
   ],
   "source": [
    "# the new features after polynomial transformation:\n",
    "pipe.fit(titanic[num_feat])\n",
    "pipe.steps[0][1].get_feature_names(num_feat)"
   ]
  },
  {
   "cell_type": "markdown",
   "id": "e93902d3",
   "metadata": {},
   "source": [
    "Now we will use one hot encoder for categorical variables, where we tried:\n",
    "\n",
    "1. Drop the first output column for every category.\n",
    "2. Drop the first output column just for binaries.\n",
    "3. Keep every column. \n",
    "\n",
    "We chose to keep all the columns, even though the result showed little difference given the presence of regularization and how some algorithms work such as trees (it even helped KNN and Gaussian RBF SVM a bit, due to the increased number of variables)"
   ]
  },
  {
   "cell_type": "code",
   "execution_count": 57,
   "id": "a580dcd3",
   "metadata": {},
   "outputs": [],
   "source": [
    "from sklearn.preprocessing import OneHotEncoder, OrdinalEncoder\n",
    "from sklearn.compose import ColumnTransformer\n",
    "\n",
    "full_pipe = ColumnTransformer([('num', pipe, num_feat),                               \n",
    "                               ('cat', OneHotEncoder(),cat_feat)  #drop = 'if_binary' & 'first'\n",
    "                              ])"
   ]
  },
  {
   "cell_type": "code",
   "execution_count": 58,
   "id": "06eee13b",
   "metadata": {},
   "outputs": [],
   "source": [
    "titanic_prep = full_pipe.fit_transform(titanic)"
   ]
  },
  {
   "cell_type": "code",
   "execution_count": 59,
   "id": "bb1583e2",
   "metadata": {},
   "outputs": [],
   "source": [
    "#full_pipe.named_transformers_['cat'].get_feature_names(cat_feat)"
   ]
  },
  {
   "cell_type": "code",
   "execution_count": 60,
   "id": "b8e887c7",
   "metadata": {},
   "outputs": [
    {
     "data": {
      "text/plain": [
       "['Age',\n",
       " 'SibSp',\n",
       " 'Parch',\n",
       " 'Fare',\n",
       " 'Age^2',\n",
       " 'Age SibSp',\n",
       " 'Age Parch',\n",
       " 'Age Fare',\n",
       " 'SibSp^2',\n",
       " 'SibSp Parch',\n",
       " 'SibSp Fare',\n",
       " 'Parch^2',\n",
       " 'Parch Fare',\n",
       " 'Fare^2',\n",
       " 'Pclass_1',\n",
       " 'Pclass_2',\n",
       " 'Pclass_3',\n",
       " 'Sex_female',\n",
       " 'Sex_male',\n",
       " 'Embarked_C',\n",
       " 'Embarked_Q',\n",
       " 'Embarked_S',\n",
       " 'Family_1',\n",
       " 'Family_2',\n",
       " 'Family_3',\n",
       " 'Family_4',\n",
       " 'Titles_1',\n",
       " 'Titles_2',\n",
       " 'Titles_3',\n",
       " 'Titles_4']"
      ]
     },
     "execution_count": 60,
     "metadata": {},
     "output_type": "execute_result"
    }
   ],
   "source": [
    "total_features = pipe.steps[0][1].get_feature_names(num_feat) + list(full_pipe.named_transformers_['cat'].get_feature_names(cat_feat))\n",
    "total_features"
   ]
  },
  {
   "cell_type": "markdown",
   "id": "431ad4cb",
   "metadata": {},
   "source": [
    "# 4.Training Model"
   ]
  },
  {
   "cell_type": "markdown",
   "id": "8bc63048",
   "metadata": {},
   "source": [
    "We will use Accuracy as our algorithm performance measure"
   ]
  },
  {
   "cell_type": "code",
   "execution_count": 61,
   "id": "be2d765f",
   "metadata": {},
   "outputs": [],
   "source": [
    "# def display_cv(s):\n",
    "#     print(f'mean: {s.mean()}')\n",
    "#     print(f'std: {s.std()}')"
   ]
  },
  {
   "cell_type": "markdown",
   "id": "fc13a719",
   "metadata": {},
   "source": [
    "## 4.1 Base Models"
   ]
  },
  {
   "cell_type": "markdown",
   "id": "06cc3530",
   "metadata": {},
   "source": [
    "1. Logistic Regression\n",
    "2. SVM (Linear/Gaussian RBF)\n",
    "3. Decision Tree\n",
    "4. KNN\n",
    "\n",
    "5. Random Forest\n",
    "6. Extra trees"
   ]
  },
  {
   "cell_type": "code",
   "execution_count": 62,
   "id": "3eaaca6e",
   "metadata": {},
   "outputs": [],
   "source": [
    "from sklearn.model_selection import cross_val_score\n",
    "from sklearn.model_selection import GridSearchCV\n",
    "from sklearn.linear_model import LogisticRegression\n",
    "from sklearn.svm import SVC\n",
    "from sklearn.tree import DecisionTreeClassifier\n",
    "from sklearn.neighbors import KNeighborsClassifier\n",
    "\n",
    "pd.set_option(\"display.max_colwidth\", None)"
   ]
  },
  {
   "cell_type": "markdown",
   "id": "2f7e3252",
   "metadata": {},
   "source": [
    "###### 1. Logistic Regression"
   ]
  },
  {
   "cell_type": "code",
   "execution_count": 63,
   "id": "62dd16e3",
   "metadata": {
    "scrolled": true
   },
   "outputs": [
    {
     "name": "stderr",
     "output_type": "stream",
     "text": [
      "C:\\Users\\mario\\anaconda3\\lib\\site-packages\\sklearn\\model_selection\\_search.py:918: UserWarning: One or more of the test scores are non-finite: [0.82603101 0.82603101        nan 0.82603101 0.82827192 0.82827192\n",
      "        nan 0.82827192 0.82939552 0.82939552        nan 0.82714833\n",
      " 0.82827192 0.82827192        nan 0.82714833 0.82714833 0.82827192\n",
      "        nan 0.82714833]\n",
      "  warnings.warn(\n"
     ]
    },
    {
     "data": {
      "text/html": [
       "<div>\n",
       "<style scoped>\n",
       "    .dataframe tbody tr th:only-of-type {\n",
       "        vertical-align: middle;\n",
       "    }\n",
       "\n",
       "    .dataframe tbody tr th {\n",
       "        vertical-align: top;\n",
       "    }\n",
       "\n",
       "    .dataframe thead th {\n",
       "        text-align: right;\n",
       "    }\n",
       "</style>\n",
       "<table border=\"1\" class=\"dataframe\">\n",
       "  <thead>\n",
       "    <tr style=\"text-align: right;\">\n",
       "      <th></th>\n",
       "      <th>params</th>\n",
       "      <th>mean_test_score</th>\n",
       "      <th>std_test_score</th>\n",
       "    </tr>\n",
       "  </thead>\n",
       "  <tbody>\n",
       "    <tr>\n",
       "      <th>8</th>\n",
       "      <td>{'C': 500, 'penalty': 'l2', 'solver': 'lbfgs'}</td>\n",
       "      <td>0.829396</td>\n",
       "      <td>0.022143</td>\n",
       "    </tr>\n",
       "    <tr>\n",
       "      <th>9</th>\n",
       "      <td>{'C': 500, 'penalty': 'l2', 'solver': 'liblinear'}</td>\n",
       "      <td>0.829396</td>\n",
       "      <td>0.022143</td>\n",
       "    </tr>\n",
       "    <tr>\n",
       "      <th>4</th>\n",
       "      <td>{'C': 100, 'penalty': 'l2', 'solver': 'lbfgs'}</td>\n",
       "      <td>0.828272</td>\n",
       "      <td>0.023801</td>\n",
       "    </tr>\n",
       "    <tr>\n",
       "      <th>5</th>\n",
       "      <td>{'C': 100, 'penalty': 'l2', 'solver': 'liblinear'}</td>\n",
       "      <td>0.828272</td>\n",
       "      <td>0.023801</td>\n",
       "    </tr>\n",
       "    <tr>\n",
       "      <th>7</th>\n",
       "      <td>{'C': 100, 'penalty': 'l1', 'solver': 'liblinear'}</td>\n",
       "      <td>0.828272</td>\n",
       "      <td>0.023801</td>\n",
       "    </tr>\n",
       "  </tbody>\n",
       "</table>\n",
       "</div>"
      ],
      "text/plain": [
       "                                               params  mean_test_score  \\\n",
       "8      {'C': 500, 'penalty': 'l2', 'solver': 'lbfgs'}         0.829396   \n",
       "9  {'C': 500, 'penalty': 'l2', 'solver': 'liblinear'}         0.829396   \n",
       "4      {'C': 100, 'penalty': 'l2', 'solver': 'lbfgs'}         0.828272   \n",
       "5  {'C': 100, 'penalty': 'l2', 'solver': 'liblinear'}         0.828272   \n",
       "7  {'C': 100, 'penalty': 'l1', 'solver': 'liblinear'}         0.828272   \n",
       "\n",
       "   std_test_score  \n",
       "8        0.022143  \n",
       "9        0.022143  \n",
       "4        0.023801  \n",
       "5        0.023801  \n",
       "7        0.023801  "
      ]
     },
     "execution_count": 63,
     "metadata": {},
     "output_type": "execute_result"
    }
   ],
   "source": [
    "log_reg_params = {'solver':['lbfgs','liblinear'],'penalty':['l2','l1'],'C': [10,100,500,1000,2000]}\n",
    "lr_grid = GridSearchCV(LogisticRegression(max_iter=2000), log_reg_params, scoring = 'accuracy', n_jobs=-1)\n",
    "lr_grid.fit(titanic_prep, titanic_labels)\n",
    "pd.DataFrame(lr_grid.cv_results_)[['params','mean_test_score','std_test_score']].sort_values('mean_test_score', ascending=False).head()"
   ]
  },
  {
   "cell_type": "code",
   "execution_count": 64,
   "id": "042fe2eb",
   "metadata": {},
   "outputs": [
    {
     "data": {
      "text/plain": [
       "0.8282828282828283"
      ]
     },
     "execution_count": 64,
     "metadata": {},
     "output_type": "execute_result"
    }
   ],
   "source": [
    "lr_grid.score(titanic_prep,titanic_labels)"
   ]
  },
  {
   "cell_type": "markdown",
   "id": "4a3695e1",
   "metadata": {},
   "source": [
    "###### 2. SVM"
   ]
  },
  {
   "cell_type": "code",
   "execution_count": 65,
   "id": "02ea6f54",
   "metadata": {},
   "outputs": [],
   "source": [
    "svm_params = {'kernel':['linear','rbf'],'gamma':['scale', 'auto', 0.001, 0.005, 0.01, 0.015],'C':[5,7,10,12]}\n",
    "svm_grid = GridSearchCV(SVC(), svm_params, scoring='accuracy', cv=10, n_jobs = -1)\n",
    "svm_grid.fit(titanic_prep,titanic_labels);"
   ]
  },
  {
   "cell_type": "code",
   "execution_count": 66,
   "id": "9f0dc96d",
   "metadata": {
    "scrolled": true
   },
   "outputs": [
    {
     "data": {
      "text/html": [
       "<div>\n",
       "<style scoped>\n",
       "    .dataframe tbody tr th:only-of-type {\n",
       "        vertical-align: middle;\n",
       "    }\n",
       "\n",
       "    .dataframe tbody tr th {\n",
       "        vertical-align: top;\n",
       "    }\n",
       "\n",
       "    .dataframe thead th {\n",
       "        text-align: right;\n",
       "    }\n",
       "</style>\n",
       "<table border=\"1\" class=\"dataframe\">\n",
       "  <thead>\n",
       "    <tr style=\"text-align: right;\">\n",
       "      <th></th>\n",
       "      <th>params</th>\n",
       "      <th>mean_test_score</th>\n",
       "      <th>std_test_score</th>\n",
       "    </tr>\n",
       "  </thead>\n",
       "  <tbody>\n",
       "    <tr>\n",
       "      <th>19</th>\n",
       "      <td>{'C': 7, 'gamma': 0.005, 'kernel': 'rbf'}</td>\n",
       "      <td>0.832772</td>\n",
       "      <td>0.033874</td>\n",
       "    </tr>\n",
       "    <tr>\n",
       "      <th>43</th>\n",
       "      <td>{'C': 12, 'gamma': 0.005, 'kernel': 'rbf'}</td>\n",
       "      <td>0.832772</td>\n",
       "      <td>0.033874</td>\n",
       "    </tr>\n",
       "    <tr>\n",
       "      <th>31</th>\n",
       "      <td>{'C': 10, 'gamma': 0.005, 'kernel': 'rbf'}</td>\n",
       "      <td>0.832772</td>\n",
       "      <td>0.033874</td>\n",
       "    </tr>\n",
       "    <tr>\n",
       "      <th>9</th>\n",
       "      <td>{'C': 5, 'gamma': 0.01, 'kernel': 'rbf'}</td>\n",
       "      <td>0.832772</td>\n",
       "      <td>0.033874</td>\n",
       "    </tr>\n",
       "    <tr>\n",
       "      <th>11</th>\n",
       "      <td>{'C': 5, 'gamma': 0.015, 'kernel': 'rbf'}</td>\n",
       "      <td>0.831648</td>\n",
       "      <td>0.035889</td>\n",
       "    </tr>\n",
       "  </tbody>\n",
       "</table>\n",
       "</div>"
      ],
      "text/plain": [
       "                                        params  mean_test_score  \\\n",
       "19   {'C': 7, 'gamma': 0.005, 'kernel': 'rbf'}         0.832772   \n",
       "43  {'C': 12, 'gamma': 0.005, 'kernel': 'rbf'}         0.832772   \n",
       "31  {'C': 10, 'gamma': 0.005, 'kernel': 'rbf'}         0.832772   \n",
       "9     {'C': 5, 'gamma': 0.01, 'kernel': 'rbf'}         0.832772   \n",
       "11   {'C': 5, 'gamma': 0.015, 'kernel': 'rbf'}         0.831648   \n",
       "\n",
       "    std_test_score  \n",
       "19        0.033874  \n",
       "43        0.033874  \n",
       "31        0.033874  \n",
       "9         0.033874  \n",
       "11        0.035889  "
      ]
     },
     "execution_count": 66,
     "metadata": {},
     "output_type": "execute_result"
    }
   ],
   "source": [
    "pd.DataFrame(svm_grid.cv_results_)[['params','mean_test_score','std_test_score']].sort_values('mean_test_score', ascending=False).head()"
   ]
  },
  {
   "cell_type": "code",
   "execution_count": 67,
   "id": "d3b67271",
   "metadata": {},
   "outputs": [
    {
     "data": {
      "text/plain": [
       "0.8327721661054994"
      ]
     },
     "execution_count": 67,
     "metadata": {},
     "output_type": "execute_result"
    }
   ],
   "source": [
    "svm_grid.score(titanic_prep,titanic_labels)"
   ]
  },
  {
   "cell_type": "markdown",
   "id": "c1529235",
   "metadata": {},
   "source": [
    "in this case, we have a small data set so we can apply RBF kernel trick that usually works well. In this case outperformed linear SVM."
   ]
  },
  {
   "cell_type": "markdown",
   "id": "2707178d",
   "metadata": {},
   "source": [
    "###### 3. Decision Tree"
   ]
  },
  {
   "cell_type": "markdown",
   "id": "5f7d5842",
   "metadata": {},
   "source": [
    "Since models takes some time to train, we need a way to store and load them when needed, instead of training them every time we run the notebook. That is why we will use the joblib library (pickle obj manipulation)."
   ]
  },
  {
   "cell_type": "code",
   "execution_count": 68,
   "id": "50ee724f",
   "metadata": {},
   "outputs": [],
   "source": [
    "import joblib"
   ]
  },
  {
   "cell_type": "code",
   "execution_count": 78,
   "id": "833d3421",
   "metadata": {},
   "outputs": [],
   "source": [
    "from scipy.stats import uniform, truncnorm   # uniform: continuous dist\n",
    "from sklearn.model_selection import RandomizedSearchCV\n",
    "\n",
    "tree_params = {'max_depth':range(5,21)          # max depth 5-20\n",
    "               ,'min_samples_split': uniform(0.01,0.08).rvs(3000,random_state=28)   # min sample btwn 1-8% to split\n",
    "               #,'min_samples_split': truncnorm(a=-0.5, b=1.5, loc=0.025,scale=0.05).rvs(4000, random_state=28) # min samp using normal distribution around 0.025 (dist at the end of the notebook)\n",
    "               ,'max_leaf_nodes': np.arange(5,16)      # max leaf 5-15\n",
    "               }  \n",
    "\n",
    "tree_grid = RandomizedSearchCV(DecisionTreeClassifier(random_state=1), tree_params, n_iter=700, \n",
    "                               random_state=1, scoring='accuracy', cv=10, n_jobs=-1)\n",
    "tree_grid.fit(titanic_prep,titanic_labels);"
   ]
  },
  {
   "cell_type": "code",
   "execution_count": 93,
   "id": "316ee6a9",
   "metadata": {},
   "outputs": [],
   "source": [
    "from scipy.stats import uniform, truncnorm   # uniform: continuous dist\n",
    "from sklearn.model_selection import RandomizedSearchCV\n",
    "\n",
    "tree_params = {'max_depth':range(5,31)          # max depth 5-30\n",
    "               #,'min_samples_split': uniform(0.01,0.20).rvs(10000,random_state=28)   # min sample btwn 1-15% to split\n",
    "               ,'min_samples_split': truncnorm(a=-0.5, b=1.5, loc=0.025,scale=0.04).rvs(5000, random_state=28) # min samp using normal distribution around 0.025 (dist at the end of the notebook)\n",
    "               ,'max_leaf_nodes': np.arange(8,13)      # max leaf 5-15\n",
    "               }  \n",
    "\n",
    "tree_grid = RandomizedSearchCV(DecisionTreeClassifier(random_state=1), tree_params, n_iter=1000, \n",
    "                               random_state=1, scoring='accuracy', cv=10, n_jobs=-1)\n",
    "tree_grid.fit(titanic_prep,titanic_labels);"
   ]
  },
  {
   "cell_type": "code",
   "execution_count": 94,
   "id": "a4da309a",
   "metadata": {
    "scrolled": true
   },
   "outputs": [
    {
     "data": {
      "text/html": [
       "<div>\n",
       "<style scoped>\n",
       "    .dataframe tbody tr th:only-of-type {\n",
       "        vertical-align: middle;\n",
       "    }\n",
       "\n",
       "    .dataframe tbody tr th {\n",
       "        vertical-align: top;\n",
       "    }\n",
       "\n",
       "    .dataframe thead th {\n",
       "        text-align: right;\n",
       "    }\n",
       "</style>\n",
       "<table border=\"1\" class=\"dataframe\">\n",
       "  <thead>\n",
       "    <tr style=\"text-align: right;\">\n",
       "      <th></th>\n",
       "      <th>params</th>\n",
       "      <th>mean_test_score</th>\n",
       "      <th>std_test_score</th>\n",
       "    </tr>\n",
       "  </thead>\n",
       "  <tbody>\n",
       "    <tr>\n",
       "      <th>977</th>\n",
       "      <td>{'min_samples_split': 0.02567265896383444, 'max_leaf_nodes': 12, 'max_depth': 29}</td>\n",
       "      <td>0.842934</td>\n",
       "      <td>0.045214</td>\n",
       "    </tr>\n",
       "    <tr>\n",
       "      <th>28</th>\n",
       "      <td>{'min_samples_split': 0.025287164985427848, 'max_leaf_nodes': 12, 'max_depth': 16}</td>\n",
       "      <td>0.842934</td>\n",
       "      <td>0.045214</td>\n",
       "    </tr>\n",
       "    <tr>\n",
       "      <th>503</th>\n",
       "      <td>{'min_samples_split': 0.03672505409249038, 'max_leaf_nodes': 11, 'max_depth': 15}</td>\n",
       "      <td>0.842921</td>\n",
       "      <td>0.046113</td>\n",
       "    </tr>\n",
       "    <tr>\n",
       "      <th>48</th>\n",
       "      <td>{'min_samples_split': 0.035949571953534105, 'max_leaf_nodes': 11, 'max_depth': 29}</td>\n",
       "      <td>0.842921</td>\n",
       "      <td>0.046113</td>\n",
       "    </tr>\n",
       "    <tr>\n",
       "      <th>413</th>\n",
       "      <td>{'min_samples_split': 0.035624122510772356, 'max_leaf_nodes': 11, 'max_depth': 29}</td>\n",
       "      <td>0.842921</td>\n",
       "      <td>0.046113</td>\n",
       "    </tr>\n",
       "    <tr>\n",
       "      <th>172</th>\n",
       "      <td>{'min_samples_split': 0.027784980214940323, 'max_leaf_nodes': 11, 'max_depth': 22}</td>\n",
       "      <td>0.842921</td>\n",
       "      <td>0.046113</td>\n",
       "    </tr>\n",
       "    <tr>\n",
       "      <th>82</th>\n",
       "      <td>{'min_samples_split': 0.030061874072722004, 'max_leaf_nodes': 11, 'max_depth': 17}</td>\n",
       "      <td>0.842921</td>\n",
       "      <td>0.046113</td>\n",
       "    </tr>\n",
       "    <tr>\n",
       "      <th>141</th>\n",
       "      <td>{'min_samples_split': 0.02623858246659909, 'max_leaf_nodes': 11, 'max_depth': 20}</td>\n",
       "      <td>0.842921</td>\n",
       "      <td>0.046113</td>\n",
       "    </tr>\n",
       "    <tr>\n",
       "      <th>140</th>\n",
       "      <td>{'min_samples_split': 0.026849023957245106, 'max_leaf_nodes': 11, 'max_depth': 28}</td>\n",
       "      <td>0.842921</td>\n",
       "      <td>0.046113</td>\n",
       "    </tr>\n",
       "    <tr>\n",
       "      <th>811</th>\n",
       "      <td>{'min_samples_split': 0.03183536869138452, 'max_leaf_nodes': 11, 'max_depth': 26}</td>\n",
       "      <td>0.842921</td>\n",
       "      <td>0.046113</td>\n",
       "    </tr>\n",
       "  </tbody>\n",
       "</table>\n",
       "</div>"
      ],
      "text/plain": [
       "                                                                                 params  \\\n",
       "977   {'min_samples_split': 0.02567265896383444, 'max_leaf_nodes': 12, 'max_depth': 29}   \n",
       "28   {'min_samples_split': 0.025287164985427848, 'max_leaf_nodes': 12, 'max_depth': 16}   \n",
       "503   {'min_samples_split': 0.03672505409249038, 'max_leaf_nodes': 11, 'max_depth': 15}   \n",
       "48   {'min_samples_split': 0.035949571953534105, 'max_leaf_nodes': 11, 'max_depth': 29}   \n",
       "413  {'min_samples_split': 0.035624122510772356, 'max_leaf_nodes': 11, 'max_depth': 29}   \n",
       "172  {'min_samples_split': 0.027784980214940323, 'max_leaf_nodes': 11, 'max_depth': 22}   \n",
       "82   {'min_samples_split': 0.030061874072722004, 'max_leaf_nodes': 11, 'max_depth': 17}   \n",
       "141   {'min_samples_split': 0.02623858246659909, 'max_leaf_nodes': 11, 'max_depth': 20}   \n",
       "140  {'min_samples_split': 0.026849023957245106, 'max_leaf_nodes': 11, 'max_depth': 28}   \n",
       "811   {'min_samples_split': 0.03183536869138452, 'max_leaf_nodes': 11, 'max_depth': 26}   \n",
       "\n",
       "     mean_test_score  std_test_score  \n",
       "977         0.842934        0.045214  \n",
       "28          0.842934        0.045214  \n",
       "503         0.842921        0.046113  \n",
       "48          0.842921        0.046113  \n",
       "413         0.842921        0.046113  \n",
       "172         0.842921        0.046113  \n",
       "82          0.842921        0.046113  \n",
       "141         0.842921        0.046113  \n",
       "140         0.842921        0.046113  \n",
       "811         0.842921        0.046113  "
      ]
     },
     "execution_count": 94,
     "metadata": {},
     "output_type": "execute_result"
    }
   ],
   "source": [
    "pd.DataFrame(tree_grid.cv_results_)[['params','mean_test_score','std_test_score']].sort_values('mean_test_score',ascending=False).head(10)"
   ]
  },
  {
   "cell_type": "markdown",
   "id": "1b426537",
   "metadata": {},
   "source": [
    "We tried to refine the search by sampling 'min_sample_split' from a truncated normal distribution centered around the optimal found value 0.025. It didn't yield a better result, so we commented on it within the parameters passed to the search and leave a visual representation at the end of the notebook."
   ]
  },
  {
   "cell_type": "markdown",
   "id": "12e22f1f",
   "metadata": {},
   "source": [
    "###### 4. KNN"
   ]
  },
  {
   "cell_type": "code",
   "execution_count": 61,
   "id": "fd41a718",
   "metadata": {},
   "outputs": [],
   "source": [
    "knn_params = {'n_neighbors':range(10,31), 'weights':['uniform', 'distance']}\n",
    "\n",
    "knn_grid = GridSearchCV(KNeighborsClassifier(), knn_params, scoring='accuracy' , cv=10, n_jobs=-1)\n",
    "knn_grid.fit(titanic_prep, titanic_labels);"
   ]
  },
  {
   "cell_type": "code",
   "execution_count": 62,
   "id": "65ceccf1",
   "metadata": {},
   "outputs": [
    {
     "data": {
      "text/html": [
       "<div>\n",
       "<style scoped>\n",
       "    .dataframe tbody tr th:only-of-type {\n",
       "        vertical-align: middle;\n",
       "    }\n",
       "\n",
       "    .dataframe tbody tr th {\n",
       "        vertical-align: top;\n",
       "    }\n",
       "\n",
       "    .dataframe thead th {\n",
       "        text-align: right;\n",
       "    }\n",
       "</style>\n",
       "<table border=\"1\" class=\"dataframe\">\n",
       "  <thead>\n",
       "    <tr style=\"text-align: right;\">\n",
       "      <th></th>\n",
       "      <th>params</th>\n",
       "      <th>mean_test_score</th>\n",
       "      <th>std_test_score</th>\n",
       "    </tr>\n",
       "  </thead>\n",
       "  <tbody>\n",
       "    <tr>\n",
       "      <th>22</th>\n",
       "      <td>{'n_neighbors': 21, 'weights': 'uniform'}</td>\n",
       "      <td>0.798040</td>\n",
       "      <td>0.029193</td>\n",
       "    </tr>\n",
       "    <tr>\n",
       "      <th>14</th>\n",
       "      <td>{'n_neighbors': 17, 'weights': 'uniform'}</td>\n",
       "      <td>0.796879</td>\n",
       "      <td>0.026134</td>\n",
       "    </tr>\n",
       "    <tr>\n",
       "      <th>20</th>\n",
       "      <td>{'n_neighbors': 20, 'weights': 'uniform'}</td>\n",
       "      <td>0.795780</td>\n",
       "      <td>0.027476</td>\n",
       "    </tr>\n",
       "    <tr>\n",
       "      <th>24</th>\n",
       "      <td>{'n_neighbors': 22, 'weights': 'uniform'}</td>\n",
       "      <td>0.794682</td>\n",
       "      <td>0.029110</td>\n",
       "    </tr>\n",
       "    <tr>\n",
       "      <th>16</th>\n",
       "      <td>{'n_neighbors': 18, 'weights': 'uniform'}</td>\n",
       "      <td>0.794657</td>\n",
       "      <td>0.027601</td>\n",
       "    </tr>\n",
       "  </tbody>\n",
       "</table>\n",
       "</div>"
      ],
      "text/plain": [
       "                                       params  mean_test_score  std_test_score\n",
       "22  {'n_neighbors': 21, 'weights': 'uniform'}         0.798040        0.029193\n",
       "14  {'n_neighbors': 17, 'weights': 'uniform'}         0.796879        0.026134\n",
       "20  {'n_neighbors': 20, 'weights': 'uniform'}         0.795780        0.027476\n",
       "24  {'n_neighbors': 22, 'weights': 'uniform'}         0.794682        0.029110\n",
       "16  {'n_neighbors': 18, 'weights': 'uniform'}         0.794657        0.027601"
      ]
     },
     "execution_count": 62,
     "metadata": {},
     "output_type": "execute_result"
    }
   ],
   "source": [
    "pd.DataFrame(knn_grid.cv_results_)[['params','mean_test_score','std_test_score']].sort_values('mean_test_score',ascending=False).head()"
   ]
  },
  {
   "cell_type": "code",
   "execution_count": 117,
   "id": "1da8adc9",
   "metadata": {},
   "outputs": [],
   "source": [
    "knn_params = {'n_neighbors':range(10,31), 'weights':['uniform', 'distance']}\n",
    "\n",
    "knn_grid = GridSearchCV(KNeighborsClassifier(), knn_params, scoring='accuracy' , cv=10, n_jobs=-1)\n",
    "knn_grid.fit(titanic_prep, titanic_labels);"
   ]
  },
  {
   "cell_type": "code",
   "execution_count": 118,
   "id": "adcd0485",
   "metadata": {},
   "outputs": [
    {
     "data": {
      "text/html": [
       "<div>\n",
       "<style scoped>\n",
       "    .dataframe tbody tr th:only-of-type {\n",
       "        vertical-align: middle;\n",
       "    }\n",
       "\n",
       "    .dataframe tbody tr th {\n",
       "        vertical-align: top;\n",
       "    }\n",
       "\n",
       "    .dataframe thead th {\n",
       "        text-align: right;\n",
       "    }\n",
       "</style>\n",
       "<table border=\"1\" class=\"dataframe\">\n",
       "  <thead>\n",
       "    <tr style=\"text-align: right;\">\n",
       "      <th></th>\n",
       "      <th>params</th>\n",
       "      <th>mean_test_score</th>\n",
       "      <th>std_test_score</th>\n",
       "    </tr>\n",
       "  </thead>\n",
       "  <tbody>\n",
       "    <tr>\n",
       "      <th>34</th>\n",
       "      <td>{'n_neighbors': 27, 'weights': 'uniform'}</td>\n",
       "      <td>0.798065</td>\n",
       "      <td>0.027102</td>\n",
       "    </tr>\n",
       "    <tr>\n",
       "      <th>32</th>\n",
       "      <td>{'n_neighbors': 26, 'weights': 'uniform'}</td>\n",
       "      <td>0.795818</td>\n",
       "      <td>0.028401</td>\n",
       "    </tr>\n",
       "    <tr>\n",
       "      <th>0</th>\n",
       "      <td>{'n_neighbors': 10, 'weights': 'uniform'}</td>\n",
       "      <td>0.794657</td>\n",
       "      <td>0.029374</td>\n",
       "    </tr>\n",
       "    <tr>\n",
       "      <th>30</th>\n",
       "      <td>{'n_neighbors': 25, 'weights': 'uniform'}</td>\n",
       "      <td>0.793571</td>\n",
       "      <td>0.026303</td>\n",
       "    </tr>\n",
       "    <tr>\n",
       "      <th>28</th>\n",
       "      <td>{'n_neighbors': 24, 'weights': 'uniform'}</td>\n",
       "      <td>0.793558</td>\n",
       "      <td>0.029187</td>\n",
       "    </tr>\n",
       "  </tbody>\n",
       "</table>\n",
       "</div>"
      ],
      "text/plain": [
       "                                       params  mean_test_score  std_test_score\n",
       "34  {'n_neighbors': 27, 'weights': 'uniform'}         0.798065        0.027102\n",
       "32  {'n_neighbors': 26, 'weights': 'uniform'}         0.795818        0.028401\n",
       "0   {'n_neighbors': 10, 'weights': 'uniform'}         0.794657        0.029374\n",
       "30  {'n_neighbors': 25, 'weights': 'uniform'}         0.793571        0.026303\n",
       "28  {'n_neighbors': 24, 'weights': 'uniform'}         0.793558        0.029187"
      ]
     },
     "execution_count": 118,
     "metadata": {},
     "output_type": "execute_result"
    }
   ],
   "source": [
    "pd.DataFrame(knn_grid.cv_results_)[['params','mean_test_score','std_test_score']].sort_values('mean_test_score',ascending=False).head()"
   ]
  },
  {
   "cell_type": "code",
   "execution_count": 63,
   "id": "a6998bdb",
   "metadata": {},
   "outputs": [
    {
     "data": {
      "text/plain": [
       "0.813692480359147"
      ]
     },
     "execution_count": 63,
     "metadata": {},
     "output_type": "execute_result"
    }
   ],
   "source": [
    "knn_grid.score(titanic_prep, titanic_labels)"
   ]
  },
  {
   "cell_type": "markdown",
   "id": "37e8e1b6",
   "metadata": {},
   "source": [
    "## 4.2 Ensemble models"
   ]
  },
  {
   "cell_type": "markdown",
   "id": "db161d25",
   "metadata": {},
   "source": [
    "##### 5. Random Forest"
   ]
  },
  {
   "cell_type": "code",
   "execution_count": 436,
   "id": "c5ee85f2",
   "metadata": {},
   "outputs": [],
   "source": [
    "from sklearn.ensemble import RandomForestClassifier\n",
    "''''''\n",
    "rf_params = {'n_estimators':range(10,100)\n",
    "            ,'max_depth': range(10,21)\n",
    "            ,'min_samples_split': uniform(0.01, 0.07).rvs(4000, random_state=28)\n",
    "            ,'max_leaf_nodes':range(5, 16)\n",
    "            }\n",
    "\n",
    "rf_grid = RandomizedSearchCV(RandomForestClassifier(random_state=1), rf_params, scoring='accuracy'\n",
    "                             , n_iter=200, random_state=1, cv=10, n_jobs=-1)\n",
    "rf_grid.fit(titanic_prep, titanic_labels);"
   ]
  },
  {
   "cell_type": "code",
   "execution_count": 437,
   "id": "4189a5c8",
   "metadata": {
    "scrolled": false
   },
   "outputs": [
    {
     "data": {
      "text/html": [
       "<div>\n",
       "<style scoped>\n",
       "    .dataframe tbody tr th:only-of-type {\n",
       "        vertical-align: middle;\n",
       "    }\n",
       "\n",
       "    .dataframe tbody tr th {\n",
       "        vertical-align: top;\n",
       "    }\n",
       "\n",
       "    .dataframe thead th {\n",
       "        text-align: right;\n",
       "    }\n",
       "</style>\n",
       "<table border=\"1\" class=\"dataframe\">\n",
       "  <thead>\n",
       "    <tr style=\"text-align: right;\">\n",
       "      <th></th>\n",
       "      <th>params</th>\n",
       "      <th>mean_test_score</th>\n",
       "      <th>std_test_score</th>\n",
       "    </tr>\n",
       "  </thead>\n",
       "  <tbody>\n",
       "    <tr>\n",
       "      <th>79</th>\n",
       "      <td>{'n_estimators': 25, 'min_samples_split': 0.022548036668003424, 'max_leaf_nodes': 10, 'max_depth': 18}</td>\n",
       "      <td>0.835031</td>\n",
       "      <td>0.037209</td>\n",
       "    </tr>\n",
       "    <tr>\n",
       "      <th>46</th>\n",
       "      <td>{'n_estimators': 44, 'min_samples_split': 0.026978935282688583, 'max_leaf_nodes': 14, 'max_depth': 16}</td>\n",
       "      <td>0.833895</td>\n",
       "      <td>0.039814</td>\n",
       "    </tr>\n",
       "    <tr>\n",
       "      <th>73</th>\n",
       "      <td>{'n_estimators': 41, 'min_samples_split': 0.033113705367755715, 'max_leaf_nodes': 12, 'max_depth': 13}</td>\n",
       "      <td>0.833895</td>\n",
       "      <td>0.036850</td>\n",
       "    </tr>\n",
       "    <tr>\n",
       "      <th>172</th>\n",
       "      <td>{'n_estimators': 96, 'min_samples_split': 0.03083815992837924, 'max_leaf_nodes': 10, 'max_depth': 14}</td>\n",
       "      <td>0.833895</td>\n",
       "      <td>0.034368</td>\n",
       "    </tr>\n",
       "    <tr>\n",
       "      <th>25</th>\n",
       "      <td>{'n_estimators': 37, 'min_samples_split': 0.011068077367551112, 'max_leaf_nodes': 13, 'max_depth': 12}</td>\n",
       "      <td>0.833895</td>\n",
       "      <td>0.039814</td>\n",
       "    </tr>\n",
       "  </tbody>\n",
       "</table>\n",
       "</div>"
      ],
      "text/plain": [
       "                                                                                                     params  \\\n",
       "79   {'n_estimators': 25, 'min_samples_split': 0.022548036668003424, 'max_leaf_nodes': 10, 'max_depth': 18}   \n",
       "46   {'n_estimators': 44, 'min_samples_split': 0.026978935282688583, 'max_leaf_nodes': 14, 'max_depth': 16}   \n",
       "73   {'n_estimators': 41, 'min_samples_split': 0.033113705367755715, 'max_leaf_nodes': 12, 'max_depth': 13}   \n",
       "172   {'n_estimators': 96, 'min_samples_split': 0.03083815992837924, 'max_leaf_nodes': 10, 'max_depth': 14}   \n",
       "25   {'n_estimators': 37, 'min_samples_split': 0.011068077367551112, 'max_leaf_nodes': 13, 'max_depth': 12}   \n",
       "\n",
       "     mean_test_score  std_test_score  \n",
       "79          0.835031        0.037209  \n",
       "46          0.833895        0.039814  \n",
       "73          0.833895        0.036850  \n",
       "172         0.833895        0.034368  \n",
       "25          0.833895        0.039814  "
      ]
     },
     "execution_count": 437,
     "metadata": {},
     "output_type": "execute_result"
    }
   ],
   "source": [
    "pd.DataFrame(rf_grid.cv_results_)[['params','mean_test_score','std_test_score']].sort_values('mean_test_score',ascending=False).head()"
   ]
  },
  {
   "cell_type": "markdown",
   "id": "019a406f",
   "metadata": {},
   "source": [
    "##### 5.1 Random Forest - Feature Importance"
   ]
  },
  {
   "cell_type": "code",
   "execution_count": 67,
   "id": "78d59076",
   "metadata": {},
   "outputs": [
    {
     "name": "stdout",
     "output_type": "stream",
     "text": [
      "SibSp       : 0.0\n",
      "Parch       : 0.0\n",
      "SibSp Fare  : 0.0\n",
      "Parch^2     : 0.0\n",
      "Embarked_Q  : 0.0\n",
      "Age Parch   : 0.0055\n",
      "SibSp^2     : 0.0077\n",
      "Pclass_2    : 0.0091\n",
      "Embarked_S  : 0.0102\n",
      "Parch Fare  : 0.0127\n",
      "SibSp Parch : 0.0179\n",
      "Age SibSp   : 0.0387\n",
      "Age^2       : 0.0471\n",
      "Age Fare    : 0.0475\n",
      "Fare^2      : 0.0522\n",
      "Age         : 0.0526\n",
      "Pclass_3    : 0.0946\n",
      "Fare        : 0.1258\n",
      "Sex_male    : 0.4784\n"
     ]
    }
   ],
   "source": [
    "rf_clf = RandomForestClassifier(n_estimators=11, min_samples_split=0.01074817508856912, max_leaf_nodes=6, max_depth=19\n",
    "                               ,random_state=1, n_jobs=-1)\n",
    "rf_clf.fit(titanic_prep, titanic_labels)\n",
    "\n",
    "features_imp = list(sorted(zip(total_features, rf_clf.feature_importances_), key = lambda x:x[1]))\n",
    "\n",
    "for name, score in features_imp:\n",
    "    print(f'{name:12}: {round(score,4)}')\n"
   ]
  },
  {
   "cell_type": "markdown",
   "id": "3e9728d4",
   "metadata": {},
   "source": [
    "##### 6. Extra-Trees (Extremely Randomized Trees)"
   ]
  },
  {
   "cell_type": "code",
   "execution_count": 438,
   "id": "c2a43372",
   "metadata": {},
   "outputs": [],
   "source": [
    "from sklearn.ensemble import ExtraTreesClassifier\n",
    "''''''\n",
    "et_params = {'n_estimators':range(10,100)\n",
    "            ,'max_depth': range(10,21)\n",
    "            ,'min_samples_split': uniform(0.01, 0.07).rvs(4000, random_state=28)\n",
    "            ,'max_leaf_nodes':range(5, 16)\n",
    "            }\n",
    "\n",
    "et_grid = RandomizedSearchCV(ExtraTreesClassifier(random_state=1), et_params, scoring='accuracy'\n",
    "                             , n_iter=200, random_state=1, cv=10, n_jobs=-1)\n",
    "et_grid.fit(titanic_prep, titanic_labels);\n"
   ]
  },
  {
   "cell_type": "code",
   "execution_count": 89,
   "id": "807bf945",
   "metadata": {},
   "outputs": [],
   "source": [
    "et_grid = joblib.load('ETrees.pkl')"
   ]
  },
  {
   "cell_type": "code",
   "execution_count": 439,
   "id": "e6e10600",
   "metadata": {},
   "outputs": [
    {
     "data": {
      "text/html": [
       "<div>\n",
       "<style scoped>\n",
       "    .dataframe tbody tr th:only-of-type {\n",
       "        vertical-align: middle;\n",
       "    }\n",
       "\n",
       "    .dataframe tbody tr th {\n",
       "        vertical-align: top;\n",
       "    }\n",
       "\n",
       "    .dataframe thead th {\n",
       "        text-align: right;\n",
       "    }\n",
       "</style>\n",
       "<table border=\"1\" class=\"dataframe\">\n",
       "  <thead>\n",
       "    <tr style=\"text-align: right;\">\n",
       "      <th></th>\n",
       "      <th>params</th>\n",
       "      <th>mean_test_score</th>\n",
       "      <th>std_test_score</th>\n",
       "    </tr>\n",
       "  </thead>\n",
       "  <tbody>\n",
       "    <tr>\n",
       "      <th>179</th>\n",
       "      <td>{'n_estimators': 62, 'min_samples_split': 0.012260450455153902, 'max_leaf_nodes': 11, 'max_depth': 17}</td>\n",
       "      <td>0.836142</td>\n",
       "      <td>0.036632</td>\n",
       "    </tr>\n",
       "    <tr>\n",
       "      <th>89</th>\n",
       "      <td>{'n_estimators': 65, 'min_samples_split': 0.010395454617816246, 'max_leaf_nodes': 13, 'max_depth': 18}</td>\n",
       "      <td>0.835019</td>\n",
       "      <td>0.035179</td>\n",
       "    </tr>\n",
       "    <tr>\n",
       "      <th>75</th>\n",
       "      <td>{'n_estimators': 83, 'min_samples_split': 0.03564325996359935, 'max_leaf_nodes': 11, 'max_depth': 16}</td>\n",
       "      <td>0.835019</td>\n",
       "      <td>0.035179</td>\n",
       "    </tr>\n",
       "    <tr>\n",
       "      <th>194</th>\n",
       "      <td>{'n_estimators': 22, 'min_samples_split': 0.026470478322694294, 'max_leaf_nodes': 10, 'max_depth': 13}</td>\n",
       "      <td>0.835019</td>\n",
       "      <td>0.035179</td>\n",
       "    </tr>\n",
       "    <tr>\n",
       "      <th>192</th>\n",
       "      <td>{'n_estimators': 58, 'min_samples_split': 0.035356448602804784, 'max_leaf_nodes': 11, 'max_depth': 18}</td>\n",
       "      <td>0.835019</td>\n",
       "      <td>0.035536</td>\n",
       "    </tr>\n",
       "  </tbody>\n",
       "</table>\n",
       "</div>"
      ],
      "text/plain": [
       "                                                                                                     params  \\\n",
       "179  {'n_estimators': 62, 'min_samples_split': 0.012260450455153902, 'max_leaf_nodes': 11, 'max_depth': 17}   \n",
       "89   {'n_estimators': 65, 'min_samples_split': 0.010395454617816246, 'max_leaf_nodes': 13, 'max_depth': 18}   \n",
       "75    {'n_estimators': 83, 'min_samples_split': 0.03564325996359935, 'max_leaf_nodes': 11, 'max_depth': 16}   \n",
       "194  {'n_estimators': 22, 'min_samples_split': 0.026470478322694294, 'max_leaf_nodes': 10, 'max_depth': 13}   \n",
       "192  {'n_estimators': 58, 'min_samples_split': 0.035356448602804784, 'max_leaf_nodes': 11, 'max_depth': 18}   \n",
       "\n",
       "     mean_test_score  std_test_score  \n",
       "179         0.836142        0.036632  \n",
       "89          0.835019        0.035179  \n",
       "75          0.835019        0.035179  \n",
       "194         0.835019        0.035179  \n",
       "192         0.835019        0.035536  "
      ]
     },
     "execution_count": 439,
     "metadata": {},
     "output_type": "execute_result"
    }
   ],
   "source": [
    "pd.DataFrame(et_grid.cv_results_)[['params','mean_test_score','std_test_score']].sort_values('mean_test_score',ascending=False).head()"
   ]
  }
 ],
 "metadata": {
  "kernelspec": {
   "display_name": "Python 3",
   "language": "python",
   "name": "python3"
  },
  "language_info": {
   "codemirror_mode": {
    "name": "ipython",
    "version": 3
   },
   "file_extension": ".py",
   "mimetype": "text/x-python",
   "name": "python",
   "nbconvert_exporter": "python",
   "pygments_lexer": "ipython3",
   "version": "3.8.8"
  }
 },
 "nbformat": 4,
 "nbformat_minor": 5
}
