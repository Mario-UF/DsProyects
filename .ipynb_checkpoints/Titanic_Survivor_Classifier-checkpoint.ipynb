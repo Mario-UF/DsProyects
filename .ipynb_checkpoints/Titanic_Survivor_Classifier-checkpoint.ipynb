{
 "cells": [
  {
   "cell_type": "markdown",
   "id": "63db1605",
   "metadata": {},
   "source": [
    "# Titanic Survivor Classifier"
   ]
  },
  {
   "cell_type": "markdown",
   "id": "30a30717",
   "metadata": {},
   "source": [
    "in this project our goal is to create a machine learning classifier capable of predicting whether or not a Titanic passenger survived."
   ]
  },
  {
   "cell_type": "code",
   "execution_count": null,
   "id": "07ce55ed",
   "metadata": {},
   "outputs": [],
   "source": []
  },
  {
   "cell_type": "code",
   "execution_count": null,
   "id": "43829bc5",
   "metadata": {},
   "outputs": [],
   "source": []
  },
  {
   "cell_type": "code",
   "execution_count": null,
   "id": "b25e0bd1",
   "metadata": {},
   "outputs": [],
   "source": []
  },
  {
   "cell_type": "code",
   "execution_count": null,
   "id": "27b815cd",
   "metadata": {},
   "outputs": [],
   "source": []
  },
  {
   "cell_type": "code",
   "execution_count": null,
   "id": "ea7e121c",
   "metadata": {},
   "outputs": [],
   "source": []
  },
  {
   "cell_type": "code",
   "execution_count": null,
   "id": "e7850010",
   "metadata": {},
   "outputs": [],
   "source": []
  }
 ],
 "metadata": {
  "kernelspec": {
   "display_name": "Python 3",
   "language": "python",
   "name": "python3"
  },
  "language_info": {
   "codemirror_mode": {
    "name": "ipython",
    "version": 3
   },
   "file_extension": ".py",
   "mimetype": "text/x-python",
   "name": "python",
   "nbconvert_exporter": "python",
   "pygments_lexer": "ipython3",
   "version": "3.8.8"
  }
 },
 "nbformat": 4,
 "nbformat_minor": 5
}
